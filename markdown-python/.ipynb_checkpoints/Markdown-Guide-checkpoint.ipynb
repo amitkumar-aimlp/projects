{
 "cells": [
  {
   "cell_type": "markdown",
   "id": "6c6bca13-0fba-4adb-a890-3eaefc350602",
   "metadata": {
    "tags": []
   },
   "source": [
    "# Markdown, HTML, TeX and LaTeX Guide\n",
    "Refer the links for details: Basic, Extended, Hacks, Tools Etc.\n",
    "- https://en.wikipedia.org/wiki/Markdown\n",
    "- https://www.markdownguide.org/cheat-sheet\n",
    "- https://www.ibm.com/docs/en/db2-event-store/2.0.0?topic=notebooks-markdown-jupyter-cheatsheet\n",
    "- https://www.kaggle.com/code/marcovasquez/useful-html-for-jupyter-notebook\n",
    "\n",
    "TeX and LaTeX\n",
    "- https://en.wikibooks.org/wiki/LaTeX\n",
    "- https://docs.github.com/en/get-started/writing-on-github/working-with-advanced-formatting/writing-mathematical-expressions"
   ]
  },
  {
   "cell_type": "markdown",
   "id": "5a23e109-ae9c-4b80-b9ce-6395be2aac20",
   "metadata": {},
   "source": [
    "## Basics\n",
    "1. Headings: To create a heading, add number signs (#) in front of a word or phrase. The number of number signs you use should correspond to the heading level.\n",
    "2. Paragraphs: To create paragraphs, use a blank line to separate one or more lines of text.\n",
    "3. Line Breaks: To create a line break or new line, end a line with two or more spaces, and then type return.\n",
    "4. Bold: To bold text, add two asterisks before and after a word or phrase. To bold the middle of a word for emphasis, add two asterisks without spaces around the letters.\n",
    "5. Italics: To italicize text, add one asterisk before and after a word or phrase. To italicize the middle of a word for emphasis, add one asterisk without spaces around the letters.\n",
    "6. Bold and Italic: To emphasize text with bold and italics at the same time, add three asterisks before and after a word or phrase. To bold and italicize the middle of a word for emphasis, add three asterisks without spaces around the letters.\n",
    "7. Blockquotes: To create a blockquote, add a > in front of a paragraph.\n",
    "8. Ordered Lists: To create an ordered list, add line items with numbers followed by periods. The numbers don’t have to be in numerical order, but the list should start with the number one.\n",
    "9. Unordered Lists: To create an unordered list, add dashes (-), asterisks (*), or plus signs (+) in front of line items. Indent one or more items to create a nested list. If you need to start an unordered list item with a number followed by a period, you can use a backslash (\\) to escape the period.\n",
    "10. Adding Elements in Lists: To add another element in a list while preserving the continuity of the list, indent the element four spaces or one tab, as shown in the following examples.\n",
    "11. Fenced Code Blocks: The basic Markdown syntax allows you to create code blocks by indenting lines by four spaces or one tab. If you find that inconvenient, try using fenced code blocks. Depending on your Markdown processor or editor, you’ll use three backticks or three tildes on the lines before and after the code block. The best part? You don’t have to indent any lines.\n",
    "12. Horizontal Rules: To create a horizontal rule, use three or more asterisks (***), dashes (---), or underscores (___) on a line by themselves.\n",
    "13. Links: To create a link, enclose the link text in brackets (e.g., [Duck Duck Go]) and then follow it immediately with the URL in parentheses (e.g., (https://duckduckgo.com)).\n",
    "14. URLs and Email Addresses: To quickly turn a URL or email address into a link, enclose it in angle brackets.\n",
    "15. Formatting Links: To emphasize links, add asterisks before and after the brackets and parentheses. To denote links as code, add backticks in the brackets.\n",
    "16. Images: To add an image, add an exclamation mark (!), followed by alt text in brackets, and the path or URL to the image asset in parentheses. You can optionally add a title in quotation marks after the path or URL.\n",
    "17. Linking Images: To add a link to an image, enclose the Markdown for the image in brackets, and then add the link in parentheses.\n",
    "18. Escaping Characters: To display a literal character that would otherwise be used to format text in a Markdown document, add a backslash in front of the character.\n",
    "19. HTML: Many Markdown applications allow you to use HTML tags in Markdown-formatted text. This is helpful if you prefer certain HTML tags to Markdown syntax. For example, some people find it easier to use HTML tags for images. Using HTML is also helpful when you need to change the attributes of an element, like specifying the color of text or changing the width of an image. For security reasons, not all Markdown applications support HTML in Markdown documents. When in doubt, check your Markdown application’s documentation. Some applications support only a subset of HTML tags.\n",
    "20. Linking to Heading IDs: You can link to headings with custom IDs in the file by creating a standard link with a number sign (#) followed by the custom heading ID. These are commonly referred to as anchor links.\n",
    "21. Check below examples for more details:"
   ]
  },
  {
   "cell_type": "markdown",
   "id": "a93bca5d-8ba2-47ff-a653-9e0ae1ecdc9d",
   "metadata": {},
   "source": [
    "## Blockquotes"
   ]
  },
  {
   "cell_type": "markdown",
   "id": "0bb89f9e-4be3-4672-b16a-3c8f873bc5e2",
   "metadata": {},
   "source": [
    "> To create a blockquote, add a > in front of a paragraph.  \n",
    "The BLOCKQUOTE tag is used to display the long quotations (a section that is quoted from another source). It changes the alignment to make it unique from others. In blockquote tag, we can use elements like heading, list, paragraph, etc.  \n",
    "Block quotations are used for long quotations. The Chicago Manual of Style recommends using a block quotation when extracted text is 100 words or more, or approximately six to eight lines in a typical manuscript."
   ]
  },
  {
   "cell_type": "markdown",
   "id": "a2d19d85-5da4-4233-b5dd-d52e288e1191",
   "metadata": {},
   "source": [
    "> Blockquotes can contain multiple paragraphs. Add a > on the blank lines between the paragraphs.\n",
    ">\n",
    "> Para-1\n",
    ">\n",
    "> Para-2"
   ]
  },
  {
   "cell_type": "markdown",
   "id": "6a9a044c-e47a-475c-9fad-ccd4c1038d03",
   "metadata": {},
   "source": [
    "> Blockquotes can be nested. Add a >> in front of the paragraph you want to nest.\n",
    ">\n",
    ">> Para-1"
   ]
  },
  {
   "cell_type": "markdown",
   "id": "cf1df966-4734-4e46-8609-34843b3213e2",
   "metadata": {},
   "source": [
    "> Blockquotes can contain other Markdown formatted elements. Not all elements can be used — you’ll need to experiment to see which ones work. Example\n",
    "> #### The quarterly results look great!\n",
    ">\n",
    "> - Revenue was off the chart.\n",
    "> - Profits were higher than ever.\n",
    ">\n",
    ">  *Everything* is going according to **plan**."
   ]
  },
  {
   "cell_type": "markdown",
   "id": "d4765300-c429-4d0a-97c6-70a5bedccafe",
   "metadata": {},
   "source": [
    "## Custom Heading/Content\n",
    "- The World Wide Web Consortium (W3C) has listed 16 valid color names for HTML and CSS:\n",
    "- Colors: aqua, black, blue, fuchsia, gray, green, lime, maroon, navy, olive, purple, red, silver, teal, white, and yellow."
   ]
  },
  {
   "cell_type": "markdown",
   "id": "9c4dc5ff-5384-4f06-afa9-289f6e8a4748",
   "metadata": {},
   "source": [
    "<span style=\"font-family:Arial; font-weight:bold; font-size:1.5em; color:aqua;\">Custom - Heading/Content using HTML</span>"
   ]
  },
  {
   "cell_type": "markdown",
   "id": "0f0c9a87-207d-475b-b353-827ba1719a4b",
   "metadata": {},
   "source": [
    "## Internal Links\n",
    "To link to a section within your notebook, use the following code formats:\n",
    "For the text inside the parentheses, replace any spaces and special characters with a hyphen. Applicable for headings only.  \n",
    "Avoid the double hypens."
   ]
  },
  {
   "cell_type": "markdown",
   "id": "17fb9c4d-f658-478b-b4d2-710e69e0921b",
   "metadata": {},
   "source": [
    "1. [Heading Section-1](#Heading-Section-1)\n",
    "2. [Heading Section-2](#Heading-Section-2)"
   ]
  },
  {
   "cell_type": "markdown",
   "id": "3bd7085e-8ae2-442c-87c8-80dcc02da4e4",
   "metadata": {},
   "source": [
    "### Heading Section-1"
   ]
  },
  {
   "cell_type": "markdown",
   "id": "eb9ff059-021f-4966-a82f-f133bc2e9e28",
   "metadata": {},
   "source": [
    "### Heading Section-2"
   ]
  },
  {
   "cell_type": "markdown",
   "id": "abc6d90c-b4e7-45e8-a9b4-d692cf5c9669",
   "metadata": {},
   "source": [
    "## Monospace Font"
   ]
  },
  {
   "cell_type": "markdown",
   "id": "496f6530-9c8d-4e0f-93d4-a73ee330385e",
   "metadata": {},
   "source": [
    "`You can use the monospace font for file paths, file names, message text that users see, or text that users enter.`"
   ]
  },
  {
   "cell_type": "markdown",
   "id": "c04ae9fb-e5c0-45d3-a181-f763d5dd7763",
   "metadata": {},
   "source": [
    "## Strikethrough"
   ]
  },
  {
   "cell_type": "markdown",
   "id": "df19b10f-9af0-4dab-868c-b2accbb0dae6",
   "metadata": {},
   "source": [
    "~~Scratch this~~"
   ]
  },
  {
   "cell_type": "markdown",
   "id": "8f0b8d36-1bb0-4b43-a428-c8964ac144a1",
   "metadata": {},
   "source": [
    "## Backslash Escape\n",
    "Backslash Escape prevents Markdown from interpreting a character as an instruction, rather than as the character itself."
   ]
  },
  {
   "cell_type": "markdown",
   "id": "b0b9cd5a-8c2f-4edf-9af3-a5487054d5cf",
   "metadata": {},
   "source": [
    "\\# Not a header"
   ]
  },
  {
   "cell_type": "markdown",
   "id": "647a24f1-4149-4d5a-89d6-feabc5f27568",
   "metadata": {},
   "source": [
    "## Cell Background Color"
   ]
  },
  {
   "cell_type": "markdown",
   "id": "bd94ec65-81ef-4627-84ad-4a81406bbb7e",
   "metadata": {},
   "source": [
    "<code style=\"background:yellow; color:black\">Useful for highlighting to grab the attention of the reader towards certain points.</code>"
   ]
  },
  {
   "cell_type": "markdown",
   "id": "d3abed03-e2c5-4161-9a51-0ca4a03708ee",
   "metadata": {},
   "source": [
    "## HTML Mark Tag\n",
    "Highlight parts of a text:"
   ]
  },
  {
   "cell_type": "markdown",
   "id": "197e7ce7-a044-4916-af96-84e5bbccb669",
   "metadata": {},
   "source": [
    "Do not forget to buy <mark>milk</mark> today."
   ]
  },
  {
   "cell_type": "markdown",
   "id": "e36ab356-928a-4621-8c1c-6bb847f4d549",
   "metadata": {},
   "source": [
    "## Navigation Menu\n",
    "It defines a set of navigation links."
   ]
  },
  {
   "cell_type": "markdown",
   "id": "60afada9-ad4d-4a38-bf46-9d831678d320",
   "metadata": {},
   "source": [
    "<nav>\n",
    "<a href=\"https://www.google.com\">Google</a> |\n",
    "<a href=\"https://www.kaggle.com\">Kaggle</a> |\n",
    "<a href=\"https://github.com/\">GitHub</a>\n",
    "</nav>"
   ]
  },
  {
   "cell_type": "markdown",
   "id": "177f3154-4011-4c5c-87b2-48817dd7776b",
   "metadata": {},
   "source": [
    "## Underline\n",
    "Underlined text is not something you typically see in web writing, probably because underlined text is nearly synonymous with links. However, if you’re writing a paper or a report, you may need the ability to underline words and phrases."
   ]
  },
  {
   "cell_type": "markdown",
   "id": "6f1ad5e5-ee0b-40da-9974-c30c671db9ab",
   "metadata": {},
   "source": [
    "Some of these words <ins>will be underlined</ins>."
   ]
  },
  {
   "cell_type": "markdown",
   "id": "55d14589-4296-43ac-b28c-563d10d2ec7a",
   "metadata": {},
   "source": [
    "## Center\n",
    "Having the ability to center text is a necessity when writing a paper or a report"
   ]
  },
  {
   "cell_type": "markdown",
   "id": "778369e9-d035-42d7-a261-dd7840f87b68",
   "metadata": {},
   "source": [
    "<center>This text is centered.</center>"
   ]
  },
  {
   "cell_type": "markdown",
   "id": "7d53886d-0aa3-4dfa-932d-1d0db96d3a2d",
   "metadata": {},
   "source": [
    "## Color\n",
    "Markdown doesn’t allow you to change the color of text, but if your Markdown processor supports HTML, you can use the <font> HTML tag. The color attribute allows you to specify the font color using a color’s name or the hexadecimal #RRGGBB code."
   ]
  },
  {
   "cell_type": "markdown",
   "id": "2ff1f579-dc4a-4618-bfe0-30a0b8061d88",
   "metadata": {},
   "source": [
    "<font color=\"red\">This text is red!</font>"
   ]
  },
  {
   "cell_type": "markdown",
   "id": "9ecbb2cf-7929-416e-a84a-8866c212d02d",
   "metadata": {
    "tags": []
   },
   "source": [
    "## Images\n",
    "To add an image, add an exclamation mark (!), followed by alt text in brackets, and the path or URL to the image asset in parentheses. You can optionally add a title in quotation marks after the path or URL."
   ]
  },
  {
   "cell_type": "markdown",
   "id": "241eba14-fe96-4057-ba84-3e5961e7ba7f",
   "metadata": {},
   "source": [
    "Using the image in the same folder as the notebook"
   ]
  },
  {
   "cell_type": "code",
   "execution_count": 1,
   "id": "50f4c21b-91ee-42d8-95ee-23966a542594",
   "metadata": {},
   "outputs": [
    {
     "data": {
      "text/plain": [
       "'C:\\\\Users\\\\csoam\\\\Documents\\\\DSNotes\\\\PCC Notes'"
      ]
     },
     "execution_count": 1,
     "metadata": {},
     "output_type": "execute_result"
    }
   ],
   "source": [
    "# Get the current working directory\n",
    "import os\n",
    "cwd=os.getcwd()\n",
    "cwd"
   ]
  },
  {
   "cell_type": "markdown",
   "id": "59a49982-09e5-482f-aa8e-04f973583579",
   "metadata": {},
   "source": [
    "Using Markdown Cell"
   ]
  },
  {
   "cell_type": "markdown",
   "id": "4e17b1c8-9096-4b2c-8ca4-e8ec5441fe81",
   "metadata": {},
   "source": [
    "![Alt Text](mlops.webp \"Image Title\")"
   ]
  },
  {
   "cell_type": "markdown",
   "id": "27caefbc-6eef-4d71-8365-b7db8ee1b83b",
   "metadata": {},
   "source": [
    "Using python code (embedding an image in a code cell): A code cell can also be used to embed images. To display the image, the Ipython.display() method necessitates the use of a function. In the notebook, you can also specify the width and height of the image."
   ]
  },
  {
   "cell_type": "code",
   "execution_count": 2,
   "id": "b461a1fa-93e8-473b-8e80-74b33c3c45b2",
   "metadata": {},
   "outputs": [
    {
     "data": {
      "text/html": [
       "<img src=\"mlops.webp\" width=\"400\" height=\"300\"/>"
      ],
      "text/plain": [
       "<IPython.core.display.Image object>"
      ]
     },
     "execution_count": 2,
     "metadata": {},
     "output_type": "execute_result"
    }
   ],
   "source": [
    "# Import image module\n",
    "from IPython.display import Image\n",
    "  \n",
    "# Get the image\n",
    "Image(url=\"mlops.webp\", width=400, height=300)"
   ]
  },
  {
   "cell_type": "markdown",
   "id": "db88e234-22df-4fc8-8743-d6fdaa25ac32",
   "metadata": {},
   "source": [
    "Generative adversarial networks (GANs) are like the mischievous pranksters of neural networks, whipping up data out of thin air. They’re so good at it, they can create photos of people’s faces that are so realistic, you’ll swear they’re real – but surprise! Those folks are as imaginary as your diet on cheat day."
   ]
  },
  {
   "cell_type": "code",
   "execution_count": 3,
   "id": "9d9a19bf-0a17-4fe7-a4fc-a2aef6ebeacb",
   "metadata": {},
   "outputs": [
    {
     "data": {
      "text/html": [
       "<img src=\"https://thispersondoesnotexist.com/\" width=\"400\" height=\"300\"/>"
      ],
      "text/plain": [
       "<IPython.core.display.Image object>"
      ]
     },
     "execution_count": 3,
     "metadata": {},
     "output_type": "execute_result"
    }
   ],
   "source": [
    "# This website shows faces generated by a GAN architecture called StyleGAN:\n",
    "# Everytime you run the cell; It would be a new face which do not exsit in real life\n",
    "Image(url=\"https://thispersondoesnotexist.com/\", width=400, height=300)"
   ]
  },
  {
   "cell_type": "markdown",
   "id": "25243d91-739b-4684-97b6-64cf406f1cd1",
   "metadata": {},
   "source": [
    "## Videos\n",
    "We are using the src from the embed link like:\n",
    "```html\n",
    "<iframe width=\"560\" height=\"315\" src=\"https://www.youtube.com/embed/ByIZIKFmHOA\" title=\"YouTube video player\" frameborder=\"0\" allow=\"accelerometer; autoplay; clipboard-write; encrypted-media; gyroscope; picture-in-picture; web-share\" allowfullscreen></iframe>\n",
    "```"
   ]
  },
  {
   "cell_type": "code",
   "execution_count": 4,
   "id": "a422bb6b-c24b-4f22-b76b-2f4f62685661",
   "metadata": {},
   "outputs": [
    {
     "data": {
      "image/jpeg": "[encoded data removed]",
      "text/html": [
       "\n",
       "        <iframe\n",
       "            width=\"560\"\n",
       "            height=\"315\"\n",
       "            src=\"https://www.youtube.com/embed/RBSUwFGa6Fk\"\n",
       "            frameborder=\"0\"\n",
       "            allowfullscreen\n",
       "            \n",
       "        ></iframe>\n",
       "        "
      ],
      "text/plain": [
       "<IPython.lib.display.YouTubeVideo at 0x24e7aefc290>"
      ]
     },
     "execution_count": 4,
     "metadata": {},
     "output_type": "execute_result"
    }
   ],
   "source": [
    "# Import the YouTubeVideo\n",
    "from IPython.display import YouTubeVideo\n",
    "\n",
    "# Get the Video ID\n",
    "# https://youtu.be/RBSUwFGa6Fk?si=m_-52Ez3p7jPUnup\n",
    "YouTubeVideo(\"RBSUwFGa6Fk\", width=560, height=315)"
   ]
  },
  {
   "cell_type": "code",
   "execution_count": 5,
   "id": "10105b15-49b0-4ba6-ae87-98fc58c5cd64",
   "metadata": {},
   "outputs": [
    {
     "data": {
      "text/html": [
       "\n",
       "<div align=\"center\">\n",
       "    <iframe width=\"560\" height=\"315\"\n",
       "    src=\"https://www.youtube.com/embed/RBSUwFGa6Fk?si=-xJim4lBF03Fyq7a\"\n",
       "    </iframe>\n",
       "</div>\n"
      ],
      "text/plain": [
       "<IPython.core.display.HTML object>"
      ]
     },
     "execution_count": 5,
     "metadata": {},
     "output_type": "execute_result"
    }
   ],
   "source": [
    "# Align the Video\n",
    "from IPython.display import HTML\n",
    "\n",
    "HTML(\"\"\"\n",
    "<div align=\"center\">\n",
    "    <iframe width=\"560\" height=\"315\"\n",
    "    src=\"https://www.youtube.com/embed/RBSUwFGa6Fk?si=-xJim4lBF03Fyq7a\"\n",
    "    </iframe>\n",
    "</div>\n",
    "\"\"\")"
   ]
  },
  {
   "cell_type": "markdown",
   "id": "8ad6076f-0a1c-4f77-9f1f-c9405c6a8bbf",
   "metadata": {},
   "source": [
    "## Colored Boxes"
   ]
  },
  {
   "cell_type": "markdown",
   "id": "298566f5-a3d0-4ca7-a108-70b1568e3f5e",
   "metadata": {},
   "source": [
    "Blue boxes (alert-info)"
   ]
  },
  {
   "cell_type": "markdown",
   "id": "b1269374-66de-4c54-abca-7d20076f6eaf",
   "metadata": {},
   "source": [
    "<div class=\"alert alert-block alert-info\">\n",
    "<b>Tip:</b> Use blue boxes (alert-info) for tips and notes. \n",
    "If it’s a note, you don’t have to include the word “Note”.\n",
    "</div>"
   ]
  },
  {
   "cell_type": "markdown",
   "id": "413f9aeb-69d6-4f51-a841-094b72cbc327",
   "metadata": {},
   "source": [
    "Yellow boxes (alert-warning)"
   ]
  },
  {
   "cell_type": "markdown",
   "id": "f3ac3485-97b1-4709-82d2-892191c9849c",
   "metadata": {},
   "source": [
    "<div class=\"alert alert-block alert-warning\">\n",
    "<b>Example:</b> Use yellow boxes for examples that are not \n",
    "inside code cells, or use for mathematical formulas if needed.\n",
    "</div>"
   ]
  },
  {
   "cell_type": "markdown",
   "id": "b8eb0e53-8bfa-4896-bf9e-ac88e0550b44",
   "metadata": {},
   "source": [
    "Green boxes (alert-success)"
   ]
  },
  {
   "cell_type": "markdown",
   "id": "f9f217b7-089e-4610-9879-200ed94f4968",
   "metadata": {},
   "source": [
    "<div class=\"alert alert-block alert-success\">\n",
    "<b>Up to you:</b> Use green boxes sparingly, and only for some specific \n",
    "purpose that the other boxes can't cover. For example, if you have a lot \n",
    "of related content to link to, maybe you decide to use green boxes for \n",
    "related links from each section of a notebook.\n",
    "</div>"
   ]
  },
  {
   "cell_type": "markdown",
   "id": "a2db1169-ab1f-49fa-b31f-246ede9d82be",
   "metadata": {},
   "source": [
    "Red boxes (alert-danger)"
   ]
  },
  {
   "cell_type": "markdown",
   "id": "fcb1daee-9d9e-4a8d-a38b-22f1e721de10",
   "metadata": {},
   "source": [
    "<div class=\"alert alert-block alert-danger\">\n",
    "<b>Just don't:</b> In general, avoid the red boxes. These should only be\n",
    "used for actions that might cause data loss or another major issue.\n",
    "</div>"
   ]
  },
  {
   "cell_type": "markdown",
   "id": "c7b288b1-a4b7-4d42-8227-37cbddb9c58b",
   "metadata": {},
   "source": [
    "LaTeX: To be completed later"
   ]
  }
 ],
 "metadata": {
  "kernelspec": {
   "display_name": "Python 3 (ipykernel)",
   "language": "python",
   "name": "python3"
  },
  "language_info": {
   "codemirror_mode": {
    "name": "ipython",
    "version": 3
   },
   "file_extension": ".py",
   "mimetype": "text/x-python",
   "name": "python",
   "nbconvert_exporter": "python",
   "pygments_lexer": "ipython3",
   "version": "3.11.7"
  }
 },
 "nbformat": 4,
 "nbformat_minor": 5
}
