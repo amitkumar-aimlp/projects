{
 "cells": [
  {
   "cell_type": "markdown",
   "metadata": {
    "id": "XFaQoyKW9mN6"
   },
   "source": [
    "# Part 1"
   ]
  },
  {
   "cell_type": "markdown",
   "metadata": {
    "id": "38_5jeI69r5-"
   },
   "source": [
    "#### > QUESTION 1.A: "
   ]
  },
  {
   "cell_type": "code",
   "execution_count": null,
   "metadata": {
    "colab": {
     "base_uri": "https://localhost:8080/"
    },
    "executionInfo": {
     "elapsed": 705,
     "status": "ok",
     "timestamp": 1638504643868,
     "user": {
      "displayName": "Shashank Shirude",
      "photoUrl": "https://lh3.googleusercontent.com/a/default-user=s64",
      "userId": "07633140671838012494"
     },
     "user_tz": -330
    },
    "id": "qRIyvMTo9rSz",
    "outputId": "570977d3-9116-455d-9197-82b17e4f1b86"
   },
   "outputs": [
    {
     "name": "stdout",
     "output_type": "stream",
     "text": [
      "Joint probability of the people who planned to purchase and actually placed an order. is 0.2000\n"
     ]
    }
   ],
   "source": [
    "# 400 people planned to purchase and actually placed an order: 400 out of 2000 people.\n",
    "\n",
    "PO = 400 # PO is the number of people who planned and actually placed an order\n",
    "Total  = 2000\n",
    "K = round(PO / Total,4) \n",
    "print('Joint probability of the people who planned to purchase and actually placed an order. is %1.4f' % K)"
   ]
  },
  {
   "cell_type": "markdown",
   "metadata": {
    "id": "0xpHuY-j-A1Q"
   },
   "source": [
    "Probability of A given B is written as P(A | B).\n",
    "\n",
    "$P(A\\mid B) = \\frac{P(A \\quad and \\quad B)}{P(B)}$\n",
    "\n",
    "where P(A and B) = Joint probability of A and B\n",
    "\n",
    "P(A) = Marginal probability of A\n",
    "P(B) = Marginal probability of B"
   ]
  },
  {
   "cell_type": "markdown",
   "metadata": {
    "id": "jC9ufOw2-crc"
   },
   "source": [
    "#### > QUESTION Q1.B: "
   ]
  },
  {
   "cell_type": "code",
   "execution_count": null,
   "metadata": {
    "colab": {
     "base_uri": "https://localhost:8080/"
    },
    "executionInfo": {
     "elapsed": 1096,
     "status": "ok",
     "timestamp": 1638504645696,
     "user": {
      "displayName": "Shashank Shirude",
      "photoUrl": "https://lh3.googleusercontent.com/a/default-user=s64",
      "userId": "07633140671838012494"
     },
     "user_tz": -330
    },
    "id": "lbgNlrJH-Bnn",
    "outputId": "d9a6d232-e0b6-47e2-f535-e62261f3640f"
   },
   "outputs": [
    {
     "name": "stdout",
     "output_type": "stream",
     "text": [
      "P(Actually placed an order | Planned to purchase) is 0.8000\n"
     ]
    }
   ],
   "source": [
    "# P1 = P(Actually placed an order | Planned to purchase)\n",
    "# P2 = Planned to purchase and actually placed an order\n",
    "# P3 = Planned to purchase\n",
    "P1   = (400 / 2000 )/ (500 / 2000)\n",
    "\n",
    "print('P(Actually placed an order | Planned to purchase) is %1.4f' % P1)     "
   ]
  },
  {
   "cell_type": "markdown",
   "metadata": {
    "id": "oQ5afXGWEGxc"
   },
   "source": [
    "#### > QUESTION 2: "
   ]
  },
  {
   "cell_type": "code",
   "execution_count": null,
   "metadata": {
    "id": "yX5M0a0u-EiU"
   },
   "outputs": [],
   "source": []
  },
  {
   "cell_type": "markdown",
   "metadata": {
    "id": "eMJEg_OP-KGB"
   },
   "source": [
    "- Binomial Distribution\n",
    "\n",
    "    It is widely used probability distribution of a discrete random variable. \n",
    "\n",
    "    Plays major role in quality control and quality assurance function. \n",
    "\n",
    "    $P(X = x\\mid n,\\pi)$ = $\\frac{n!}{x!(n - x)!}\\pi^x (1 - \\pi)^{n-x} $\n",
    "    * where P(X = x) is the probability of getting x successes in n trials\n",
    "    and $\\pi$ is the probability of an event of interest\n",
    "\n",
    "\n",
    "    Some important functions in Python for Binomial distribution:\n",
    "\n",
    "    1) Probability mass function\n",
    "    scipy.stats.binom.pmf gives the probability mass function for the binomial distribution\n",
    "    binomial = scipy.stats.binom.pmf (k,n,p), \n",
    "    where k is an array and takes values in {0, 1,..., n}\n",
    "    n and p are shape parameters for the binomial distribution\n",
    "    The output, binomial, gives probability of binomial distribution function in terms of array.\n",
    "\n",
    "    2) Cumulative Density function\n",
    "    cumbinomial = scipy.stats.binom.cdf(k,n,p) gives cumulative binomial distribution.\n",
    "    The output, cumbinomial, gives cumulative probability of binomial distribution function in terms of array.\n",
    "\n",
    "    3) Plot the binomial Density function\n",
    "    The function, matplotlib.pyplot.plot(k, binomial, ‘o-’) gives us plot of the binomial distribution function."
   ]
  },
  {
   "cell_type": "code",
   "execution_count": null,
   "metadata": {
    "colab": {
     "base_uri": "https://localhost:8080/"
    },
    "executionInfo": {
     "elapsed": 11,
     "status": "ok",
     "timestamp": 1638504645697,
     "user": {
      "displayName": "Shashank Shirude",
      "photoUrl": "https://lh3.googleusercontent.com/a/default-user=s64",
      "userId": "07633140671838012494"
     },
     "user_tz": -330
    },
    "id": "F3vn7YBeObkF",
    "outputId": "caf7b98c-300b-4abc-ae1d-75566497d547"
   },
   "outputs": [
    {
     "name": "stdout",
     "output_type": "stream",
     "text": [
      "Binomial distribution\n",
      "\n",
      " [5.98736939e-01 3.15124705e-01 7.46347985e-02 1.04750594e-02\n",
      " 9.64808106e-04 6.09352488e-05 2.67259863e-06 8.03789063e-08\n",
      " 1.58642578e-09 1.85546875e-11 9.76562500e-14]\n",
      "\n",
      "\n",
      "a) Probability that none of the items are defective ? is 0.5987\n",
      "\n",
      "\n",
      "b) Probability that  exactly one of the items is defective ? is 0.3151\n",
      "\n",
      "[0.59873694 0.91386164 0.98849644 0.9989715  0.99993631 0.99999725\n",
      " 0.99999992 1.         1.         1.         1.        ]\n",
      "\n",
      "\n",
      "c) Probability that two or fewer of the items are defective ? is 0.9885\n",
      "\n",
      "\n",
      "d) Probability that three or more of the items are defective ? is 0.0115\n"
     ]
    }
   ],
   "source": [
    "import numpy as np\n",
    "import pandas as pd\n",
    "import scipy.stats as stats\n",
    "import matplotlib.pyplot as plt\n",
    "\n",
    "p = 0.05 # failure rate for items that the company manufactures is 5%\n",
    "n = 10 # sample size\n",
    "k = np.arange(0,11) # An array of quantiles\n",
    "\n",
    "binomial = stats.binom.pmf(k,n,p)\n",
    "\n",
    "print(\"Binomial distribution\\n\\n\",binomial)\n",
    "print('\\n\\na) Probability that none of the items are defective ? is %1.4f' %binomial[0])\n",
    "print('\\n\\nb) Probability that  exactly one of the items is defective ? is %1.4f\\n' %binomial[1])\n",
    "\n",
    "# To answer the question \n",
    "# c) Two or fewer of the items are defective? \n",
    "# we need to calculate cumulative probability of upto two items being defective\n",
    "cumbinomial = stats.binom.cdf(k,n,p)\n",
    "print(cumbinomial)\n",
    "print('\\n\\nc) Probability that two or fewer of the items are defective ? is %1.4f' %cumbinomial[2])\n",
    "\n",
    "P = 1- cumbinomial[2]\n",
    "print('\\n\\nd) Probability that three or more of the items are defective ? is %1.4f' % P)"
   ]
  },
  {
   "cell_type": "markdown",
   "metadata": {
    "id": "gVFE5n6iQJb9"
   },
   "source": [
    "#### > QUESTION 3 "
   ]
  },
  {
   "cell_type": "markdown",
   "metadata": {
    "id": "Unx7r3J9QJb-"
   },
   "source": [
    "- Poissson Distribution\n",
    "\n",
    "    This discrete distribution which also plays a major role in quality control. \n",
    "\n",
    "    The Poisson distribution is a discrete probability distribution for the counts of events that occur randomly in a given \n",
    "    interval of time or space. In such areas of opportunity, there can be more than one occurrence. In such situations, Poisson \n",
    "    distribution can be used to compute probabilities.\n",
    "\n",
    "    Examples include number of defects per item, number of defects per transformer produced. \n",
    "    Notes: Poisson Distribution helps to predict the arrival rate in a waiting line situation where a queue is formed and people wait to be served and the service rate is generally higher than the arrival rate.\n",
    "\n",
    "\n",
    "- Properties:\n",
    "\n",
    "    Mean μ = λ\n",
    "\n",
    "    Standard deviation σ = √ μ\n",
    "\n",
    "    The Poisson distribution is the limit of binomial distribution as n approaches ∞and p approaches 0\n",
    "\n",
    "    P(X = x) = $\\frac{e^\\lambda \\lambda^x}{x!} $\n",
    "    where \n",
    "    * P(x)              = Probability of x successes given an idea of  $\\lambda$\n",
    "    * $\\lambda$ = Average number of successes\n",
    "    * e                   = 2.71828 (based on natural logarithm)\n",
    "    * x                    = successes per unit which can take values 0,1,2,3,... $\\infty$\n",
    "\n",
    "    Applications\n",
    "\n",
    "    Car Accidents\n",
    "\n",
    "    Number of deaths by horse kicking in Prussian Army (first application)\n",
    "\n",
    "    Birth defects and genetic mutation\n",
    "\n",
    "    Note\n",
    "\n",
    "    If there is a fixed number of observations, n, each of which is classified as an event of interest or not an event of interest,\n",
    "    use the binomial distribution.\n",
    "\n",
    "    If there is an area of opportunity, use the Poisson distribution."
   ]
  },
  {
   "cell_type": "markdown",
   "metadata": {
    "id": "tGPv94OmQJb_"
   },
   "source": [
    "#### > Answer to Question 3:  "
   ]
  },
  {
   "cell_type": "code",
   "execution_count": null,
   "metadata": {
    "colab": {
     "base_uri": "https://localhost:8080/",
     "height": 499
    },
    "executionInfo": {
     "elapsed": 9,
     "status": "ok",
     "timestamp": 1638504645697,
     "user": {
      "displayName": "Shashank Shirude",
      "photoUrl": "https://lh3.googleusercontent.com/a/default-user=s64",
      "userId": "07633140671838012494"
     },
     "user_tz": -330
    },
    "id": "WfKbLTdHQJb_",
    "outputId": "18eef991-e7f9-40d8-a290-54d515a687f1"
   },
   "outputs": [
    {
     "name": "stdout",
     "output_type": "stream",
     "text": [
      "[0.04978707 0.19914827 0.42319008 0.64723189 0.81526324 0.91608206\n",
      " 0.96649146 0.9880955  0.99619701 0.99889751 0.99970766 0.99992861\n",
      " 0.99998385 0.9999966  0.99999933 0.99999988]\n",
      " \n",
      "\n",
      "a) Probability that in a given week he will sell some cars is 0.9502\n",
      " \n",
      "\n",
      "b) Probability that in a given week he will sell 2 or more but less than 5 cars is 0.6161\n",
      " \n",
      "\n",
      "c)\n"
     ]
    },
    {
     "data": {
      "image/png": "[encoded data removed]",
      "text/plain": [
       "<Figure size 432x288 with 1 Axes>"
      ]
     },
     "metadata": {
      "needs_background": "light"
     },
     "output_type": "display_data"
    }
   ],
   "source": [
    "rate = 3 # which is the mean\n",
    "n =  np.arange(0,16)\n",
    "cumpoisson = stats.poisson.cdf(n,rate)\n",
    "print(cumpoisson)\n",
    "\n",
    "# P = probability that the agent sells some cars\n",
    "P   = 1 - cumpoisson[0]\n",
    "print(' \\n\\na) Probability that in a given week he will sell some cars is %1.4f' % P)\n",
    "\n",
    "# Let P1 be the probability that the agent sells more than 4 cars\n",
    "P1 = cumpoisson[4] # P(X >=4)\n",
    "# Let P2 be the probability that the agent sells more than 1  car\n",
    "P2 = cumpoisson[1] # P(X >=1)\n",
    "P = P1 - P2 # Prob. that the agent will sell between 2 and 5 cars\n",
    "print(' \\n\\nb) Probability that in a given week he will sell 2 or more but less than 5 cars is %1.4f' % P)\n",
    "\n",
    "print(' \\n\\nc)')\n",
    "# plot poissons distribution plot\n",
    "poisson = stats.poisson.cdf(n,rate)\n",
    "plt.plot(n,poisson, 'o-')\n",
    "plt.title('Poisson')\n",
    "plt.xlabel('Number of cars sold per week')\n",
    "plt.ylabel('Cumulative Prob of cars sold per week')\n",
    "plt.show()"
   ]
  },
  {
   "cell_type": "markdown",
   "metadata": {
    "id": "3s0oEqOYQJcA"
   },
   "source": [
    "- - - - - - - - - - - - - - - - - - - - - - - - - - - - - - - - - - - - - - - - - - - - - - - - - - - - - - - - "
   ]
  },
  {
   "cell_type": "markdown",
   "metadata": {
    "id": "vhEI-TYhQJcB"
   },
   "source": [
    "#### > QUESTION 4: "
   ]
  },
  {
   "cell_type": "markdown",
   "metadata": {
    "id": "1tJbrrGbQJcC"
   },
   "source": [
    "    Because there are three orders and the probability of a correct order is 0.868.\n",
    "        Using Binomial distribution equation,\n",
    "\n",
    "        P(X = 3|n =3, pi given = 0.868)\n",
    "        3!/ 3!(3-3)! * (0.868)^3 * (1-0.868)^3-3 = 0.6540\n",
    "\n",
    "        Likewise, calculate X= 0, X=2\n",
    "         (X = 0) = 0.0023\n",
    "         (X = 2) = 0.2984\n",
    "\n",
    "        Hence, P(X>=2) = P(X=2)+P(X=3) = 0.9524\n",
    "\n",
    "    \n",
    "- Answer to Question 4:\n",
    "\n",
    " - The probability that all the three orders are filled correctly is 0.6540, 65.4% \n",
    " - The probability that none of the orders are filled correctly is 0.0023, 0.23% \n",
    " - The probability that atleat two of the three are filled correctly is 0.9524, 95.24%"
   ]
  },
  {
   "cell_type": "code",
   "execution_count": null,
   "metadata": {
    "colab": {
     "base_uri": "https://localhost:8080/"
    },
    "executionInfo": {
     "elapsed": 8,
     "status": "ok",
     "timestamp": 1638504645698,
     "user": {
      "displayName": "Shashank Shirude",
      "photoUrl": "https://lh3.googleusercontent.com/a/default-user=s64",
      "userId": "07633140671838012494"
     },
     "user_tz": -330
    },
    "id": "tR7xMbrkQJcC",
    "outputId": "a8787a38-2995-4635-a474-37b8289063e1"
   },
   "outputs": [
    {
     "name": "stdout",
     "output_type": "stream",
     "text": [
      "A. The probability that all the three orders are filled correctly is 0.653972032\n",
      "B. The probability that none of the orders are filled correctly is 0.0022999680000000003\n",
      "C. The probability that atleat two of the three are filled correctly is 0.952327936\n"
     ]
    }
   ],
   "source": [
    "#python implementation for Question 4:\n",
    "\n",
    "from math import factorial as f\n",
    "\n",
    "P_X3 = f(3)/(f(3)*f(3-3)) * (0.868)**3 * (1-0.868)**(3-3)\n",
    "P_X0 = f(3)/(f(0)*f(3-0)) * (0.868)**0 * (1-0.868)**(3-0)\n",
    "P_X2 = f(3)/(f(2)*f(3-2)) * (0.868)**2 * (1-0.868)**(3-2)\n",
    "\n",
    "print(\"A. The probability that all the three orders are filled correctly is\",P_X3)\n",
    "print(\"B. The probability that none of the orders are filled correctly is\",P_X0)\n",
    "print(\"C. The probability that atleat two of the three are filled correctly is\", P_X2+P_X3)"
   ]
  },
  {
   "cell_type": "markdown",
   "metadata": {
    "id": "NRLhN_rcQJcE"
   },
   "source": [
    "#### > QUESTION 5: \n",
    "\n",
    "##### Actions:\n",
    "- Explain 1 real life industry scenario [other than the ones mentioned above] where you can use the concepts learnt in this module of Applied statistics to get a data driven business solution.\n",
    "\n",
    "- Answer: Example:\n",
    " 1. Manufacturing industry: Probability of finding out faulty product out of a production batch\n",
    " 2. Customer service industry: Probability of finding out number of customers to attend in a busy hour\n",
    " 3. Human Resource: Nomalise employee ratings in an organisation\n",
    " 4. Telecom Industry: Probablity of a phone call dropping in busy hours of the day"
   ]
  },
  {
   "cell_type": "markdown",
   "metadata": {
    "id": "OGKOf0qD8U7w"
   },
   "source": [
    "# Part 2"
   ]
  },
  {
   "cell_type": "markdown",
   "metadata": {
    "id": "mK2zmKIny5Ry"
   },
   "source": [
    "#### > QUESTION 1: "
   ]
  },
  {
   "cell_type": "code",
   "execution_count": null,
   "metadata": {
    "id": "9Vva0w1p-KxA"
   },
   "outputs": [],
   "source": [
    "# Import numeric operations Libraries\n",
    "import numpy as np\n",
    "import pandas as pd\n",
    "import os"
   ]
  },
  {
   "cell_type": "code",
   "execution_count": null,
   "metadata": {
    "id": "SpqCT5UP-xb_"
   },
   "outputs": [],
   "source": [
    "os.chdir('/content/drive/MyDrive/Upgrade/Projects/AS/Online')"
   ]
  },
  {
   "cell_type": "code",
   "execution_count": null,
   "metadata": {
    "id": "MUzTnwlnd5LL",
    "scrolled": false
   },
   "outputs": [],
   "source": [
    "# Read the dataset\n",
    "Basket = pd.read_csv('Basketball.csv') "
   ]
  },
  {
   "cell_type": "code",
   "execution_count": null,
   "metadata": {
    "colab": {
     "base_uri": "https://localhost:8080/",
     "height": 326
    },
    "executionInfo": {
     "elapsed": 39,
     "status": "ok",
     "timestamp": 1638504647411,
     "user": {
      "displayName": "Shashank Shirude",
      "photoUrl": "https://lh3.googleusercontent.com/a/default-user=s64",
      "userId": "07633140671838012494"
     },
     "user_tz": -330
    },
    "id": "9_Ha0uRghOEz",
    "outputId": "801bf3ea-4ade-4535-deda-7baf34434ec8"
   },
   "outputs": [
    {
     "data": {
      "text/html": [
       "<div>\n",
       "<style scoped>\n",
       "    .dataframe tbody tr th:only-of-type {\n",
       "        vertical-align: middle;\n",
       "    }\n",
       "\n",
       "    .dataframe tbody tr th {\n",
       "        vertical-align: top;\n",
       "    }\n",
       "\n",
       "    .dataframe thead th {\n",
       "        text-align: right;\n",
       "    }\n",
       "</style>\n",
       "<table border=\"1\" class=\"dataframe\">\n",
       "  <thead>\n",
       "    <tr style=\"text-align: right;\">\n",
       "      <th></th>\n",
       "      <th>Team</th>\n",
       "      <th>Tournament</th>\n",
       "      <th>Score</th>\n",
       "      <th>PlayedGames</th>\n",
       "      <th>WonGames</th>\n",
       "      <th>DrawnGames</th>\n",
       "      <th>LostGames</th>\n",
       "      <th>BasketScored</th>\n",
       "      <th>BasketGiven</th>\n",
       "      <th>TournamentChampion</th>\n",
       "      <th>Runner-up</th>\n",
       "      <th>TeamLaunch</th>\n",
       "      <th>HighestPositionHeld</th>\n",
       "    </tr>\n",
       "  </thead>\n",
       "  <tbody>\n",
       "    <tr>\n",
       "      <th>0</th>\n",
       "      <td>Team 1</td>\n",
       "      <td>86</td>\n",
       "      <td>4385</td>\n",
       "      <td>2762</td>\n",
       "      <td>1647</td>\n",
       "      <td>552</td>\n",
       "      <td>563</td>\n",
       "      <td>5947</td>\n",
       "      <td>3140</td>\n",
       "      <td>33</td>\n",
       "      <td>23</td>\n",
       "      <td>1929</td>\n",
       "      <td>1</td>\n",
       "    </tr>\n",
       "    <tr>\n",
       "      <th>1</th>\n",
       "      <td>Team 2</td>\n",
       "      <td>86</td>\n",
       "      <td>4262</td>\n",
       "      <td>2762</td>\n",
       "      <td>1581</td>\n",
       "      <td>573</td>\n",
       "      <td>608</td>\n",
       "      <td>5900</td>\n",
       "      <td>3114</td>\n",
       "      <td>25</td>\n",
       "      <td>25</td>\n",
       "      <td>1929</td>\n",
       "      <td>1</td>\n",
       "    </tr>\n",
       "    <tr>\n",
       "      <th>2</th>\n",
       "      <td>Team 3</td>\n",
       "      <td>80</td>\n",
       "      <td>3442</td>\n",
       "      <td>2614</td>\n",
       "      <td>1241</td>\n",
       "      <td>598</td>\n",
       "      <td>775</td>\n",
       "      <td>4534</td>\n",
       "      <td>3309</td>\n",
       "      <td>10</td>\n",
       "      <td>8</td>\n",
       "      <td>1929</td>\n",
       "      <td>1</td>\n",
       "    </tr>\n",
       "    <tr>\n",
       "      <th>3</th>\n",
       "      <td>Team 4</td>\n",
       "      <td>82</td>\n",
       "      <td>3386</td>\n",
       "      <td>2664</td>\n",
       "      <td>1187</td>\n",
       "      <td>616</td>\n",
       "      <td>861</td>\n",
       "      <td>4398</td>\n",
       "      <td>3469</td>\n",
       "      <td>6</td>\n",
       "      <td>6</td>\n",
       "      <td>1931to32</td>\n",
       "      <td>1</td>\n",
       "    </tr>\n",
       "    <tr>\n",
       "      <th>4</th>\n",
       "      <td>Team 5</td>\n",
       "      <td>86</td>\n",
       "      <td>3368</td>\n",
       "      <td>2762</td>\n",
       "      <td>1209</td>\n",
       "      <td>633</td>\n",
       "      <td>920</td>\n",
       "      <td>4631</td>\n",
       "      <td>3700</td>\n",
       "      <td>8</td>\n",
       "      <td>7</td>\n",
       "      <td>1929</td>\n",
       "      <td>1</td>\n",
       "    </tr>\n",
       "  </tbody>\n",
       "</table>\n",
       "</div>"
      ],
      "text/plain": [
       "     Team  Tournament Score  ... Runner-up TeamLaunch HighestPositionHeld\n",
       "0  Team 1          86  4385  ...        23       1929                   1\n",
       "1  Team 2          86  4262  ...        25       1929                   1\n",
       "2  Team 3          80  3442  ...         8       1929                   1\n",
       "3  Team 4          82  3386  ...         6   1931to32                   1\n",
       "4  Team 5          86  3368  ...         7       1929                   1\n",
       "\n",
       "[5 rows x 13 columns]"
      ]
     },
     "execution_count": 9,
     "metadata": {},
     "output_type": "execute_result"
    }
   ],
   "source": [
    "Basket.head(5) # top 5 rows"
   ]
  },
  {
   "cell_type": "code",
   "execution_count": null,
   "metadata": {
    "colab": {
     "base_uri": "https://localhost:8080/",
     "height": 326
    },
    "executionInfo": {
     "elapsed": 37,
     "status": "ok",
     "timestamp": 1638504647412,
     "user": {
      "displayName": "Shashank Shirude",
      "photoUrl": "https://lh3.googleusercontent.com/a/default-user=s64",
      "userId": "07633140671838012494"
     },
     "user_tz": -330
    },
    "id": "YV-PjxxehOE0",
    "outputId": "82ea5ee9-0b51-4e63-bb5e-932ec3a2f29c"
   },
   "outputs": [
    {
     "data": {
      "text/html": [
       "<div>\n",
       "<style scoped>\n",
       "    .dataframe tbody tr th:only-of-type {\n",
       "        vertical-align: middle;\n",
       "    }\n",
       "\n",
       "    .dataframe tbody tr th {\n",
       "        vertical-align: top;\n",
       "    }\n",
       "\n",
       "    .dataframe thead th {\n",
       "        text-align: right;\n",
       "    }\n",
       "</style>\n",
       "<table border=\"1\" class=\"dataframe\">\n",
       "  <thead>\n",
       "    <tr style=\"text-align: right;\">\n",
       "      <th></th>\n",
       "      <th>Team</th>\n",
       "      <th>Tournament</th>\n",
       "      <th>Score</th>\n",
       "      <th>PlayedGames</th>\n",
       "      <th>WonGames</th>\n",
       "      <th>DrawnGames</th>\n",
       "      <th>LostGames</th>\n",
       "      <th>BasketScored</th>\n",
       "      <th>BasketGiven</th>\n",
       "      <th>TournamentChampion</th>\n",
       "      <th>Runner-up</th>\n",
       "      <th>TeamLaunch</th>\n",
       "      <th>HighestPositionHeld</th>\n",
       "    </tr>\n",
       "  </thead>\n",
       "  <tbody>\n",
       "    <tr>\n",
       "      <th>56</th>\n",
       "      <td>Team 57</td>\n",
       "      <td>1</td>\n",
       "      <td>34</td>\n",
       "      <td>38</td>\n",
       "      <td>8</td>\n",
       "      <td>10</td>\n",
       "      <td>20</td>\n",
       "      <td>38</td>\n",
       "      <td>66</td>\n",
       "      <td>-</td>\n",
       "      <td>-</td>\n",
       "      <td>2009-10</td>\n",
       "      <td>20</td>\n",
       "    </tr>\n",
       "    <tr>\n",
       "      <th>57</th>\n",
       "      <td>Team 58</td>\n",
       "      <td>1</td>\n",
       "      <td>22</td>\n",
       "      <td>30</td>\n",
       "      <td>7</td>\n",
       "      <td>8</td>\n",
       "      <td>15</td>\n",
       "      <td>37</td>\n",
       "      <td>57</td>\n",
       "      <td>-</td>\n",
       "      <td>-</td>\n",
       "      <td>1956-57</td>\n",
       "      <td>16</td>\n",
       "    </tr>\n",
       "    <tr>\n",
       "      <th>58</th>\n",
       "      <td>Team 59</td>\n",
       "      <td>1</td>\n",
       "      <td>19</td>\n",
       "      <td>30</td>\n",
       "      <td>7</td>\n",
       "      <td>5</td>\n",
       "      <td>18</td>\n",
       "      <td>51</td>\n",
       "      <td>85</td>\n",
       "      <td>-</td>\n",
       "      <td>-</td>\n",
       "      <td>1951~52</td>\n",
       "      <td>16</td>\n",
       "    </tr>\n",
       "    <tr>\n",
       "      <th>59</th>\n",
       "      <td>Team 60</td>\n",
       "      <td>1</td>\n",
       "      <td>14</td>\n",
       "      <td>30</td>\n",
       "      <td>5</td>\n",
       "      <td>4</td>\n",
       "      <td>21</td>\n",
       "      <td>34</td>\n",
       "      <td>65</td>\n",
       "      <td>-</td>\n",
       "      <td>-</td>\n",
       "      <td>1955-56</td>\n",
       "      <td>15</td>\n",
       "    </tr>\n",
       "    <tr>\n",
       "      <th>60</th>\n",
       "      <td>Team 61</td>\n",
       "      <td>1</td>\n",
       "      <td>-</td>\n",
       "      <td>-</td>\n",
       "      <td>-</td>\n",
       "      <td>-</td>\n",
       "      <td>-</td>\n",
       "      <td>-</td>\n",
       "      <td>-</td>\n",
       "      <td>-</td>\n",
       "      <td>-</td>\n",
       "      <td>2017~18</td>\n",
       "      <td>9</td>\n",
       "    </tr>\n",
       "  </tbody>\n",
       "</table>\n",
       "</div>"
      ],
      "text/plain": [
       "       Team  Tournament Score  ... Runner-up TeamLaunch HighestPositionHeld\n",
       "56  Team 57           1    34  ...         -    2009-10                  20\n",
       "57  Team 58           1    22  ...         -    1956-57                  16\n",
       "58  Team 59           1    19  ...         -    1951~52                  16\n",
       "59  Team 60           1    14  ...         -    1955-56                  15\n",
       "60  Team 61           1     -  ...         -    2017~18                   9\n",
       "\n",
       "[5 rows x 13 columns]"
      ]
     },
     "execution_count": 10,
     "metadata": {},
     "output_type": "execute_result"
    }
   ],
   "source": [
    "Basket.tail(5) # bottom 5 rows"
   ]
  },
  {
   "cell_type": "code",
   "execution_count": null,
   "metadata": {
    "colab": {
     "base_uri": "https://localhost:8080/",
     "height": 566
    },
    "executionInfo": {
     "elapsed": 36,
     "status": "ok",
     "timestamp": 1638504647412,
     "user": {
      "displayName": "Shashank Shirude",
      "photoUrl": "https://lh3.googleusercontent.com/a/default-user=s64",
      "userId": "07633140671838012494"
     },
     "user_tz": -330
    },
    "id": "Sl2AvdKXd5LS",
    "outputId": "dcf3ad9a-d566-4796-dd89-de9a16ec9e06",
    "scrolled": false
   },
   "outputs": [
    {
     "data": {
      "text/html": [
       "<div>\n",
       "<style scoped>\n",
       "    .dataframe tbody tr th:only-of-type {\n",
       "        vertical-align: middle;\n",
       "    }\n",
       "\n",
       "    .dataframe tbody tr th {\n",
       "        vertical-align: top;\n",
       "    }\n",
       "\n",
       "    .dataframe thead th {\n",
       "        text-align: right;\n",
       "    }\n",
       "</style>\n",
       "<table border=\"1\" class=\"dataframe\">\n",
       "  <thead>\n",
       "    <tr style=\"text-align: right;\">\n",
       "      <th></th>\n",
       "      <th>Team</th>\n",
       "      <th>Tournament</th>\n",
       "      <th>Score</th>\n",
       "      <th>PlayedGames</th>\n",
       "      <th>WonGames</th>\n",
       "      <th>DrawnGames</th>\n",
       "      <th>LostGames</th>\n",
       "      <th>BasketScored</th>\n",
       "      <th>BasketGiven</th>\n",
       "      <th>TournamentChampion</th>\n",
       "      <th>Runner-up</th>\n",
       "      <th>TeamLaunch</th>\n",
       "      <th>HighestPositionHeld</th>\n",
       "    </tr>\n",
       "  </thead>\n",
       "  <tbody>\n",
       "    <tr>\n",
       "      <th>0</th>\n",
       "      <td>Team 1</td>\n",
       "      <td>86</td>\n",
       "      <td>4385</td>\n",
       "      <td>2762</td>\n",
       "      <td>1647</td>\n",
       "      <td>552</td>\n",
       "      <td>563</td>\n",
       "      <td>5947</td>\n",
       "      <td>3140</td>\n",
       "      <td>33</td>\n",
       "      <td>23</td>\n",
       "      <td>1929</td>\n",
       "      <td>1</td>\n",
       "    </tr>\n",
       "    <tr>\n",
       "      <th>1</th>\n",
       "      <td>Team 2</td>\n",
       "      <td>86</td>\n",
       "      <td>4262</td>\n",
       "      <td>2762</td>\n",
       "      <td>1581</td>\n",
       "      <td>573</td>\n",
       "      <td>608</td>\n",
       "      <td>5900</td>\n",
       "      <td>3114</td>\n",
       "      <td>25</td>\n",
       "      <td>25</td>\n",
       "      <td>1929</td>\n",
       "      <td>1</td>\n",
       "    </tr>\n",
       "    <tr>\n",
       "      <th>2</th>\n",
       "      <td>Team 3</td>\n",
       "      <td>80</td>\n",
       "      <td>3442</td>\n",
       "      <td>2614</td>\n",
       "      <td>1241</td>\n",
       "      <td>598</td>\n",
       "      <td>775</td>\n",
       "      <td>4534</td>\n",
       "      <td>3309</td>\n",
       "      <td>10</td>\n",
       "      <td>8</td>\n",
       "      <td>1929</td>\n",
       "      <td>1</td>\n",
       "    </tr>\n",
       "    <tr>\n",
       "      <th>3</th>\n",
       "      <td>Team 4</td>\n",
       "      <td>82</td>\n",
       "      <td>3386</td>\n",
       "      <td>2664</td>\n",
       "      <td>1187</td>\n",
       "      <td>616</td>\n",
       "      <td>861</td>\n",
       "      <td>4398</td>\n",
       "      <td>3469</td>\n",
       "      <td>6</td>\n",
       "      <td>6</td>\n",
       "      <td>1931-32</td>\n",
       "      <td>1</td>\n",
       "    </tr>\n",
       "    <tr>\n",
       "      <th>4</th>\n",
       "      <td>Team 5</td>\n",
       "      <td>86</td>\n",
       "      <td>3368</td>\n",
       "      <td>2762</td>\n",
       "      <td>1209</td>\n",
       "      <td>633</td>\n",
       "      <td>920</td>\n",
       "      <td>4631</td>\n",
       "      <td>3700</td>\n",
       "      <td>8</td>\n",
       "      <td>7</td>\n",
       "      <td>1929</td>\n",
       "      <td>1</td>\n",
       "    </tr>\n",
       "    <tr>\n",
       "      <th>5</th>\n",
       "      <td>Team 6</td>\n",
       "      <td>73</td>\n",
       "      <td>2819</td>\n",
       "      <td>2408</td>\n",
       "      <td>990</td>\n",
       "      <td>531</td>\n",
       "      <td>887</td>\n",
       "      <td>3680</td>\n",
       "      <td>3373</td>\n",
       "      <td>1</td>\n",
       "      <td>4</td>\n",
       "      <td>1934-35</td>\n",
       "      <td>1</td>\n",
       "    </tr>\n",
       "    <tr>\n",
       "      <th>6</th>\n",
       "      <td>Team 7</td>\n",
       "      <td>82</td>\n",
       "      <td>2792</td>\n",
       "      <td>2626</td>\n",
       "      <td>948</td>\n",
       "      <td>608</td>\n",
       "      <td>1070</td>\n",
       "      <td>3609</td>\n",
       "      <td>3889</td>\n",
       "      <td>0</td>\n",
       "      <td>0</td>\n",
       "      <td>1929</td>\n",
       "      <td>3</td>\n",
       "    </tr>\n",
       "    <tr>\n",
       "      <th>7</th>\n",
       "      <td>Team 8</td>\n",
       "      <td>70</td>\n",
       "      <td>2573</td>\n",
       "      <td>2302</td>\n",
       "      <td>864</td>\n",
       "      <td>577</td>\n",
       "      <td>861</td>\n",
       "      <td>3228</td>\n",
       "      <td>3230</td>\n",
       "      <td>2</td>\n",
       "      <td>3</td>\n",
       "      <td>1929</td>\n",
       "      <td>1</td>\n",
       "    </tr>\n",
       "    <tr>\n",
       "      <th>8</th>\n",
       "      <td>Team 9</td>\n",
       "      <td>58</td>\n",
       "      <td>2109</td>\n",
       "      <td>1986</td>\n",
       "      <td>698</td>\n",
       "      <td>522</td>\n",
       "      <td>766</td>\n",
       "      <td>2683</td>\n",
       "      <td>2847</td>\n",
       "      <td>0</td>\n",
       "      <td>1</td>\n",
       "      <td>1939-40</td>\n",
       "      <td>2</td>\n",
       "    </tr>\n",
       "    <tr>\n",
       "      <th>9</th>\n",
       "      <td>Team 10</td>\n",
       "      <td>51</td>\n",
       "      <td>1884</td>\n",
       "      <td>1728</td>\n",
       "      <td>606</td>\n",
       "      <td>440</td>\n",
       "      <td>682</td>\n",
       "      <td>2159</td>\n",
       "      <td>2492</td>\n",
       "      <td>1</td>\n",
       "      <td>0</td>\n",
       "      <td>1932-33</td>\n",
       "      <td>1</td>\n",
       "    </tr>\n",
       "  </tbody>\n",
       "</table>\n",
       "</div>"
      ],
      "text/plain": [
       "      Team  Tournament Score  ... Runner-up TeamLaunch HighestPositionHeld\n",
       "0   Team 1          86  4385  ...        23       1929                   1\n",
       "1   Team 2          86  4262  ...        25       1929                   1\n",
       "2   Team 3          80  3442  ...         8       1929                   1\n",
       "3   Team 4          82  3386  ...         6    1931-32                   1\n",
       "4   Team 5          86  3368  ...         7       1929                   1\n",
       "5   Team 6          73  2819  ...         4    1934-35                   1\n",
       "6   Team 7          82  2792  ...         0       1929                   3\n",
       "7   Team 8          70  2573  ...         3       1929                   1\n",
       "8   Team 9          58  2109  ...         1    1939-40                   2\n",
       "9  Team 10          51  1884  ...         0    1932-33                   1\n",
       "\n",
       "[10 rows x 13 columns]"
      ]
     },
     "execution_count": 11,
     "metadata": {},
     "output_type": "execute_result"
    }
   ],
   "source": [
    "# Data cleansing\n",
    "\n",
    "# Replace the '-' with 0\n",
    "Basket = Basket.replace('-',0)\n",
    "\n",
    "\n",
    "# replace the matching strings \n",
    "Basket = Basket.replace(to_replace ='to', value = '-', regex = True) \n",
    "Basket = Basket.replace(to_replace ='_', value = '-', regex = True) \n",
    "Basket = Basket.replace(to_replace ='~', value = '-', regex = True) \n",
    "  \n",
    "# Print the updated dataframe \n",
    "Basket.head(10)"
   ]
  },
  {
   "cell_type": "code",
   "execution_count": null,
   "metadata": {
    "colab": {
     "base_uri": "https://localhost:8080/"
    },
    "executionInfo": {
     "elapsed": 34,
     "status": "ok",
     "timestamp": 1638504647412,
     "user": {
      "displayName": "Shashank Shirude",
      "photoUrl": "https://lh3.googleusercontent.com/a/default-user=s64",
      "userId": "07633140671838012494"
     },
     "user_tz": -330
    },
    "id": "bu07s5BGhOE2",
    "outputId": "79c0a810-e83c-47a9-9a20-29bbc40e2cae"
   },
   "outputs": [
    {
     "data": {
      "text/plain": [
       "Team                   object\n",
       "Tournament              int64\n",
       "Score                  object\n",
       "PlayedGames            object\n",
       "WonGames               object\n",
       "DrawnGames             object\n",
       "LostGames              object\n",
       "BasketScored           object\n",
       "BasketGiven            object\n",
       "TournamentChampion     object\n",
       "Runner-up              object\n",
       "TeamLaunch             object\n",
       "HighestPositionHeld     int64\n",
       "dtype: object"
      ]
     },
     "execution_count": 12,
     "metadata": {},
     "output_type": "execute_result"
    }
   ],
   "source": [
    "# display attribute datatypes\n",
    "Basket.dtypes\n",
    "\n",
    "# Observation: majority of the attributes are of type \"object\""
   ]
  },
  {
   "cell_type": "code",
   "execution_count": null,
   "metadata": {
    "colab": {
     "base_uri": "https://localhost:8080/"
    },
    "executionInfo": {
     "elapsed": 29,
     "status": "ok",
     "timestamp": 1638504647413,
     "user": {
      "displayName": "Shashank Shirude",
      "photoUrl": "https://lh3.googleusercontent.com/a/default-user=s64",
      "userId": "07633140671838012494"
     },
     "user_tz": -330
    },
    "id": "PANcwmgNhOE3",
    "outputId": "d1bcd88e-bd10-4ec5-fe99-49575a273dd0"
   },
   "outputs": [
    {
     "name": "stdout",
     "output_type": "stream",
     "text": [
      "<class 'pandas.core.frame.DataFrame'>\n",
      "RangeIndex: 61 entries, 0 to 60\n",
      "Data columns (total 13 columns):\n",
      " #   Column               Non-Null Count  Dtype \n",
      "---  ------               --------------  ----- \n",
      " 0   Team                 61 non-null     object\n",
      " 1   Tournament           61 non-null     int64 \n",
      " 2   Score                61 non-null     object\n",
      " 3   PlayedGames          61 non-null     object\n",
      " 4   WonGames             61 non-null     object\n",
      " 5   DrawnGames           61 non-null     object\n",
      " 6   LostGames            61 non-null     object\n",
      " 7   BasketScored         61 non-null     object\n",
      " 8   BasketGiven          61 non-null     object\n",
      " 9   TournamentChampion   61 non-null     object\n",
      " 10  Runner-up            61 non-null     object\n",
      " 11  TeamLaunch           61 non-null     object\n",
      " 12  HighestPositionHeld  61 non-null     int64 \n",
      "dtypes: int64(2), object(11)\n",
      "memory usage: 6.3+ KB\n"
     ]
    }
   ],
   "source": [
    "# display attribute information\n",
    "Basket.info()\n",
    "# Observation: There are no null values present in the dataset"
   ]
  },
  {
   "cell_type": "code",
   "execution_count": null,
   "metadata": {
    "colab": {
     "base_uri": "https://localhost:8080/"
    },
    "executionInfo": {
     "elapsed": 26,
     "status": "ok",
     "timestamp": 1638504647413,
     "user": {
      "displayName": "Shashank Shirude",
      "photoUrl": "https://lh3.googleusercontent.com/a/default-user=s64",
      "userId": "07633140671838012494"
     },
     "user_tz": -330
    },
    "id": "z9TgiwqXhOE4",
    "outputId": "6577b884-5afd-46d8-db41-56584d7d7d35"
   },
   "outputs": [
    {
     "name": "stdout",
     "output_type": "stream",
     "text": [
      "<class 'pandas.core.frame.DataFrame'>\n",
      "RangeIndex: 61 entries, 0 to 60\n",
      "Data columns (total 13 columns):\n",
      " #   Column               Non-Null Count  Dtype \n",
      "---  ------               --------------  ----- \n",
      " 0   Tournament           61 non-null     int64 \n",
      " 1   Score                61 non-null     int64 \n",
      " 2   PlayedGames          61 non-null     int64 \n",
      " 3   WonGames             61 non-null     int64 \n",
      " 4   DrawnGames           61 non-null     int64 \n",
      " 5   LostGames            61 non-null     int64 \n",
      " 6   BasketScored         61 non-null     int64 \n",
      " 7   BasketGiven          61 non-null     int64 \n",
      " 8   TournamentChampion   61 non-null     int64 \n",
      " 9   Runner-up            61 non-null     int64 \n",
      " 10  TeamLaunch           61 non-null     int64 \n",
      " 11  HighestPositionHeld  61 non-null     int64 \n",
      " 12  Team                 61 non-null     object\n",
      "dtypes: int64(12), object(1)\n",
      "memory usage: 6.3+ KB\n"
     ]
    }
   ],
   "source": [
    "# Convert the attributes with type \"OBJECT\" to \"INT\"\n",
    "import re  # importing regular expressions library\n",
    "\n",
    "# Extract debut year\n",
    "for i in range(len(Basket['TeamLaunch'])):\n",
    "    x=Basket.loc[i,\"TeamLaunch\"]\n",
    "    temp = re.findall(r'\\d\\d\\d\\d',x)\n",
    "    Basket.loc[i,\"TeamLaunch\"]=temp\n",
    "\n",
    "# type conversion\n",
    "Basket[\"TeamLaunch\"]=Basket[\"TeamLaunch\"].astype('int')\n",
    "\n",
    "# Create a new dataframe\n",
    "Basket_new = Basket.loc[:,Basket.columns != 'Team']\n",
    "Basket_new=Basket_new.astype('int')\n",
    "Basket_new['Team']=Basket['Team']\n",
    "\n",
    "# display the data types of the new dataframe\n",
    "Basket_new.info()"
   ]
  },
  {
   "cell_type": "code",
   "execution_count": null,
   "metadata": {
    "id": "762R-w9A-Fhx"
   },
   "outputs": [],
   "source": []
  },
  {
   "cell_type": "markdown",
   "metadata": {
    "id": "lEIIYSJ4zO5c"
   },
   "source": [
    "#### > QUESTION 2: "
   ]
  },
  {
   "cell_type": "markdown",
   "metadata": {
    "id": "hUwQ4KZRAw71"
   },
   "source": [
    "### 2. Perform detailed statistical analysis and EDA using univariate, bi-variate and multivariate EDA techniques to get a data driven insights on recommending which teams they can approach which will be a deal win for them.. Also as a data and statistics expert you have to develop a detailed performance report using this data.\n",
    "\n",
    "\n",
    "- Hint: Use statistical techniques and visualisation techniques to come up with useful metrics and reporting. Find out the best performing team, oldest team, team with highest goals, team with lowest performance etc. and many more. These are just random examples please use your best analytical approach to build this report. You can mix match columns to create new ones which can be used for better analysis. Create your own features if required. Be highly experimental and analytical here to find hidden patterns. Use graphical interactive libraries to enable you to publish interactive plots in python.  \n",
    "\n"
   ]
  },
  {
   "cell_type": "code",
   "execution_count": null,
   "metadata": {
    "colab": {
     "base_uri": "https://localhost:8080/"
    },
    "executionInfo": {
     "elapsed": 24,
     "status": "ok",
     "timestamp": 1638504647414,
     "user": {
      "displayName": "Shashank Shirude",
      "photoUrl": "https://lh3.googleusercontent.com/a/default-user=s64",
      "userId": "07633140671838012494"
     },
     "user_tz": -330
    },
    "id": "bSz4qrO4Aw71",
    "outputId": "990dd0d0-12a7-494d-9111-ee2c66277a7b"
   },
   "outputs": [
    {
     "data": {
      "text/plain": [
       "0     90\n",
       "1     90\n",
       "2     90\n",
       "3     88\n",
       "4     90\n",
       "      ..\n",
       "56    10\n",
       "57    63\n",
       "58    68\n",
       "59    64\n",
       "60     2\n",
       "Name: Age, Length: 61, dtype: int64"
      ]
     },
     "execution_count": 15,
     "metadata": {},
     "output_type": "execute_result"
    }
   ],
   "source": [
    "# Age of each team - Assumption the data is from the year 2019\n",
    "\n",
    "Basket_new['Age']=2019-Basket_new['TeamLaunch']\n",
    "Basket_new['Age']"
   ]
  },
  {
   "cell_type": "code",
   "execution_count": null,
   "metadata": {
    "colab": {
     "base_uri": "https://localhost:8080/"
    },
    "executionInfo": {
     "elapsed": 21,
     "status": "ok",
     "timestamp": 1638504647414,
     "user": {
      "displayName": "Shashank Shirude",
      "photoUrl": "https://lh3.googleusercontent.com/a/default-user=s64",
      "userId": "07633140671838012494"
     },
     "user_tz": -330
    },
    "id": "stk3whctAw72",
    "outputId": "b5552fbc-3537-4a41-b7a7-88a11eabcf3d"
   },
   "outputs": [
    {
     "data": {
      "text/plain": [
       "0    0.596307\n",
       "1    0.572411\n",
       "2    0.474751\n",
       "3    0.445571\n",
       "4    0.437726\n",
       "Name: WinRate, dtype: float64"
      ]
     },
     "execution_count": 16,
     "metadata": {},
     "output_type": "execute_result"
    }
   ],
   "source": [
    "# Creating new features: Win Rate\n",
    "\n",
    "Basket_new['WinRate']=Basket_new['WonGames']/Basket_new['PlayedGames']\n",
    "Basket_new['WinRate'].head()"
   ]
  },
  {
   "cell_type": "code",
   "execution_count": null,
   "metadata": {
    "colab": {
     "base_uri": "https://localhost:8080/"
    },
    "executionInfo": {
     "elapsed": 19,
     "status": "ok",
     "timestamp": 1638504647414,
     "user": {
      "displayName": "Shashank Shirude",
      "photoUrl": "https://lh3.googleusercontent.com/a/default-user=s64",
      "userId": "07633140671838012494"
     },
     "user_tz": -330
    },
    "id": "3LwIzhMVAw72",
    "outputId": "db437dc5-5ac8-4363-b62c-4733391c2e51"
   },
   "outputs": [
    {
     "data": {
      "text/plain": [
       "0    0.383721\n",
       "1    0.290698\n",
       "2    0.125000\n",
       "3    0.073171\n",
       "4    0.093023\n",
       "Name: ChampRate, dtype: float64"
      ]
     },
     "execution_count": 17,
     "metadata": {},
     "output_type": "execute_result"
    }
   ],
   "source": [
    "# Creating new features: Championship rate\n",
    "\n",
    "Basket_new['ChampRate']=Basket_new['TournamentChampion']/Basket_new['Tournament']\n",
    "Basket_new['ChampRate'].head()"
   ]
  },
  {
   "cell_type": "code",
   "execution_count": null,
   "metadata": {
    "colab": {
     "base_uri": "https://localhost:8080/",
     "height": 326
    },
    "executionInfo": {
     "elapsed": 18,
     "status": "ok",
     "timestamp": 1638504647415,
     "user": {
      "displayName": "Shashank Shirude",
      "photoUrl": "https://lh3.googleusercontent.com/a/default-user=s64",
      "userId": "07633140671838012494"
     },
     "user_tz": -330
    },
    "id": "kLwjcMPVAw73",
    "outputId": "1606bad6-34bc-4f87-ffc7-26ecbab6cec1"
   },
   "outputs": [
    {
     "data": {
      "text/html": [
       "<div>\n",
       "<style scoped>\n",
       "    .dataframe tbody tr th:only-of-type {\n",
       "        vertical-align: middle;\n",
       "    }\n",
       "\n",
       "    .dataframe tbody tr th {\n",
       "        vertical-align: top;\n",
       "    }\n",
       "\n",
       "    .dataframe thead th {\n",
       "        text-align: right;\n",
       "    }\n",
       "</style>\n",
       "<table border=\"1\" class=\"dataframe\">\n",
       "  <thead>\n",
       "    <tr style=\"text-align: right;\">\n",
       "      <th></th>\n",
       "      <th>Tournament</th>\n",
       "      <th>Score</th>\n",
       "      <th>PlayedGames</th>\n",
       "      <th>WonGames</th>\n",
       "      <th>DrawnGames</th>\n",
       "      <th>LostGames</th>\n",
       "      <th>BasketScored</th>\n",
       "      <th>BasketGiven</th>\n",
       "      <th>TournamentChampion</th>\n",
       "      <th>Runner-up</th>\n",
       "      <th>TeamLaunch</th>\n",
       "      <th>HighestPositionHeld</th>\n",
       "      <th>Team</th>\n",
       "      <th>Age</th>\n",
       "      <th>WinRate</th>\n",
       "      <th>ChampRate</th>\n",
       "    </tr>\n",
       "  </thead>\n",
       "  <tbody>\n",
       "    <tr>\n",
       "      <th>0</th>\n",
       "      <td>86</td>\n",
       "      <td>4385</td>\n",
       "      <td>2762</td>\n",
       "      <td>1647</td>\n",
       "      <td>552</td>\n",
       "      <td>563</td>\n",
       "      <td>5947</td>\n",
       "      <td>3140</td>\n",
       "      <td>33</td>\n",
       "      <td>23</td>\n",
       "      <td>1929</td>\n",
       "      <td>1</td>\n",
       "      <td>Team 1</td>\n",
       "      <td>90</td>\n",
       "      <td>0.596307</td>\n",
       "      <td>0.383721</td>\n",
       "    </tr>\n",
       "    <tr>\n",
       "      <th>1</th>\n",
       "      <td>86</td>\n",
       "      <td>4262</td>\n",
       "      <td>2762</td>\n",
       "      <td>1581</td>\n",
       "      <td>573</td>\n",
       "      <td>608</td>\n",
       "      <td>5900</td>\n",
       "      <td>3114</td>\n",
       "      <td>25</td>\n",
       "      <td>25</td>\n",
       "      <td>1929</td>\n",
       "      <td>1</td>\n",
       "      <td>Team 2</td>\n",
       "      <td>90</td>\n",
       "      <td>0.572411</td>\n",
       "      <td>0.290698</td>\n",
       "    </tr>\n",
       "    <tr>\n",
       "      <th>2</th>\n",
       "      <td>80</td>\n",
       "      <td>3442</td>\n",
       "      <td>2614</td>\n",
       "      <td>1241</td>\n",
       "      <td>598</td>\n",
       "      <td>775</td>\n",
       "      <td>4534</td>\n",
       "      <td>3309</td>\n",
       "      <td>10</td>\n",
       "      <td>8</td>\n",
       "      <td>1929</td>\n",
       "      <td>1</td>\n",
       "      <td>Team 3</td>\n",
       "      <td>90</td>\n",
       "      <td>0.474751</td>\n",
       "      <td>0.125000</td>\n",
       "    </tr>\n",
       "    <tr>\n",
       "      <th>3</th>\n",
       "      <td>82</td>\n",
       "      <td>3386</td>\n",
       "      <td>2664</td>\n",
       "      <td>1187</td>\n",
       "      <td>616</td>\n",
       "      <td>861</td>\n",
       "      <td>4398</td>\n",
       "      <td>3469</td>\n",
       "      <td>6</td>\n",
       "      <td>6</td>\n",
       "      <td>1931</td>\n",
       "      <td>1</td>\n",
       "      <td>Team 4</td>\n",
       "      <td>88</td>\n",
       "      <td>0.445571</td>\n",
       "      <td>0.073171</td>\n",
       "    </tr>\n",
       "    <tr>\n",
       "      <th>4</th>\n",
       "      <td>86</td>\n",
       "      <td>3368</td>\n",
       "      <td>2762</td>\n",
       "      <td>1209</td>\n",
       "      <td>633</td>\n",
       "      <td>920</td>\n",
       "      <td>4631</td>\n",
       "      <td>3700</td>\n",
       "      <td>8</td>\n",
       "      <td>7</td>\n",
       "      <td>1929</td>\n",
       "      <td>1</td>\n",
       "      <td>Team 5</td>\n",
       "      <td>90</td>\n",
       "      <td>0.437726</td>\n",
       "      <td>0.093023</td>\n",
       "    </tr>\n",
       "  </tbody>\n",
       "</table>\n",
       "</div>"
      ],
      "text/plain": [
       "   Tournament  Score  PlayedGames  WonGames  ...    Team  Age   WinRate  ChampRate\n",
       "0          86   4385         2762      1647  ...  Team 1   90  0.596307   0.383721\n",
       "1          86   4262         2762      1581  ...  Team 2   90  0.572411   0.290698\n",
       "2          80   3442         2614      1241  ...  Team 3   90  0.474751   0.125000\n",
       "3          82   3386         2664      1187  ...  Team 4   88  0.445571   0.073171\n",
       "4          86   3368         2762      1209  ...  Team 5   90  0.437726   0.093023\n",
       "\n",
       "[5 rows x 16 columns]"
      ]
     },
     "execution_count": 18,
     "metadata": {},
     "output_type": "execute_result"
    }
   ],
   "source": [
    "Basket_new.head()"
   ]
  },
  {
   "cell_type": "code",
   "execution_count": null,
   "metadata": {
    "colab": {
     "base_uri": "https://localhost:8080/",
     "height": 204
    },
    "executionInfo": {
     "elapsed": 17,
     "status": "ok",
     "timestamp": 1638504647415,
     "user": {
      "displayName": "Shashank Shirude",
      "photoUrl": "https://lh3.googleusercontent.com/a/default-user=s64",
      "userId": "07633140671838012494"
     },
     "user_tz": -330
    },
    "id": "A2yCauamAw73",
    "outputId": "20792ac5-40a3-45ba-c9d7-fa7b200bfc6f"
   },
   "outputs": [
    {
     "data": {
      "text/html": [
       "<div>\n",
       "<style scoped>\n",
       "    .dataframe tbody tr th:only-of-type {\n",
       "        vertical-align: middle;\n",
       "    }\n",
       "\n",
       "    .dataframe tbody tr th {\n",
       "        vertical-align: top;\n",
       "    }\n",
       "\n",
       "    .dataframe thead th {\n",
       "        text-align: right;\n",
       "    }\n",
       "</style>\n",
       "<table border=\"1\" class=\"dataframe\">\n",
       "  <thead>\n",
       "    <tr style=\"text-align: right;\">\n",
       "      <th></th>\n",
       "      <th>Team</th>\n",
       "      <th>Age</th>\n",
       "      <th>WinRate</th>\n",
       "      <th>ChampRate</th>\n",
       "    </tr>\n",
       "  </thead>\n",
       "  <tbody>\n",
       "    <tr>\n",
       "      <th>0</th>\n",
       "      <td>Team 1</td>\n",
       "      <td>90</td>\n",
       "      <td>0.596307</td>\n",
       "      <td>0.383721</td>\n",
       "    </tr>\n",
       "    <tr>\n",
       "      <th>1</th>\n",
       "      <td>Team 2</td>\n",
       "      <td>90</td>\n",
       "      <td>0.572411</td>\n",
       "      <td>0.290698</td>\n",
       "    </tr>\n",
       "    <tr>\n",
       "      <th>2</th>\n",
       "      <td>Team 3</td>\n",
       "      <td>90</td>\n",
       "      <td>0.474751</td>\n",
       "      <td>0.125000</td>\n",
       "    </tr>\n",
       "    <tr>\n",
       "      <th>3</th>\n",
       "      <td>Team 4</td>\n",
       "      <td>88</td>\n",
       "      <td>0.445571</td>\n",
       "      <td>0.073171</td>\n",
       "    </tr>\n",
       "    <tr>\n",
       "      <th>4</th>\n",
       "      <td>Team 5</td>\n",
       "      <td>90</td>\n",
       "      <td>0.437726</td>\n",
       "      <td>0.093023</td>\n",
       "    </tr>\n",
       "  </tbody>\n",
       "</table>\n",
       "</div>"
      ],
      "text/plain": [
       "     Team  Age   WinRate  ChampRate\n",
       "0  Team 1   90  0.596307   0.383721\n",
       "1  Team 2   90  0.572411   0.290698\n",
       "2  Team 3   90  0.474751   0.125000\n",
       "3  Team 4   88  0.445571   0.073171\n",
       "4  Team 5   90  0.437726   0.093023"
      ]
     },
     "execution_count": 19,
     "metadata": {},
     "output_type": "execute_result"
    }
   ],
   "source": [
    "df_1=Basket_new.filter(['Team','Age','WinRate','ChampRate'])\n",
    "df_1.head()"
   ]
  },
  {
   "cell_type": "code",
   "execution_count": null,
   "metadata": {
    "colab": {
     "base_uri": "https://localhost:8080/",
     "height": 359
    },
    "executionInfo": {
     "elapsed": 18,
     "status": "ok",
     "timestamp": 1638504648156,
     "user": {
      "displayName": "Shashank Shirude",
      "photoUrl": "https://lh3.googleusercontent.com/a/default-user=s64",
      "userId": "07633140671838012494"
     },
     "user_tz": -330
    },
    "id": "gAd5QnVQAw73",
    "outputId": "d66a82c3-396d-426f-e07e-212521928bd1"
   },
   "outputs": [
    {
     "data": {
      "text/html": [
       "<div>\n",
       "<style scoped>\n",
       "    .dataframe tbody tr th:only-of-type {\n",
       "        vertical-align: middle;\n",
       "    }\n",
       "\n",
       "    .dataframe tbody tr th {\n",
       "        vertical-align: top;\n",
       "    }\n",
       "\n",
       "    .dataframe thead th {\n",
       "        text-align: right;\n",
       "    }\n",
       "</style>\n",
       "<table border=\"1\" class=\"dataframe\">\n",
       "  <thead>\n",
       "    <tr style=\"text-align: right;\">\n",
       "      <th></th>\n",
       "      <th>Team</th>\n",
       "      <th>Age</th>\n",
       "      <th>WinRate</th>\n",
       "      <th>ChampRate</th>\n",
       "    </tr>\n",
       "  </thead>\n",
       "  <tbody>\n",
       "    <tr>\n",
       "      <th>60</th>\n",
       "      <td>Team 61</td>\n",
       "      <td>2</td>\n",
       "      <td>NaN</td>\n",
       "      <td>0.0</td>\n",
       "    </tr>\n",
       "    <tr>\n",
       "      <th>55</th>\n",
       "      <td>Team 56</td>\n",
       "      <td>3</td>\n",
       "      <td>0.210526</td>\n",
       "      <td>0.0</td>\n",
       "    </tr>\n",
       "    <tr>\n",
       "      <th>43</th>\n",
       "      <td>Team 44</td>\n",
       "      <td>5</td>\n",
       "      <td>0.307018</td>\n",
       "      <td>0.0</td>\n",
       "    </tr>\n",
       "    <tr>\n",
       "      <th>56</th>\n",
       "      <td>Team 57</td>\n",
       "      <td>10</td>\n",
       "      <td>0.210526</td>\n",
       "      <td>0.0</td>\n",
       "    </tr>\n",
       "    <tr>\n",
       "      <th>36</th>\n",
       "      <td>Team 37</td>\n",
       "      <td>12</td>\n",
       "      <td>0.271930</td>\n",
       "      <td>0.0</td>\n",
       "    </tr>\n",
       "    <tr>\n",
       "      <th>24</th>\n",
       "      <td>Team 25</td>\n",
       "      <td>15</td>\n",
       "      <td>0.322368</td>\n",
       "      <td>0.0</td>\n",
       "    </tr>\n",
       "    <tr>\n",
       "      <th>42</th>\n",
       "      <td>Team 43</td>\n",
       "      <td>20</td>\n",
       "      <td>0.243421</td>\n",
       "      <td>0.0</td>\n",
       "    </tr>\n",
       "    <tr>\n",
       "      <th>20</th>\n",
       "      <td>Team 21</td>\n",
       "      <td>21</td>\n",
       "      <td>0.411765</td>\n",
       "      <td>0.0</td>\n",
       "    </tr>\n",
       "    <tr>\n",
       "      <th>47</th>\n",
       "      <td>Team 48</td>\n",
       "      <td>23</td>\n",
       "      <td>0.250000</td>\n",
       "      <td>0.0</td>\n",
       "    </tr>\n",
       "    <tr>\n",
       "      <th>48</th>\n",
       "      <td>Team 49</td>\n",
       "      <td>24</td>\n",
       "      <td>0.237500</td>\n",
       "      <td>0.0</td>\n",
       "    </tr>\n",
       "  </tbody>\n",
       "</table>\n",
       "</div>"
      ],
      "text/plain": [
       "       Team  Age   WinRate  ChampRate\n",
       "60  Team 61    2       NaN        0.0\n",
       "55  Team 56    3  0.210526        0.0\n",
       "43  Team 44    5  0.307018        0.0\n",
       "56  Team 57   10  0.210526        0.0\n",
       "36  Team 37   12  0.271930        0.0\n",
       "24  Team 25   15  0.322368        0.0\n",
       "42  Team 43   20  0.243421        0.0\n",
       "20  Team 21   21  0.411765        0.0\n",
       "47  Team 48   23  0.250000        0.0\n",
       "48  Team 49   24  0.237500        0.0"
      ]
     },
     "execution_count": 20,
     "metadata": {},
     "output_type": "execute_result"
    }
   ],
   "source": [
    "df_1.sort_values(by='Age').head(10) # Youngest teams"
   ]
  },
  {
   "cell_type": "code",
   "execution_count": null,
   "metadata": {
    "colab": {
     "base_uri": "https://localhost:8080/",
     "height": 359
    },
    "executionInfo": {
     "elapsed": 17,
     "status": "ok",
     "timestamp": 1638504648156,
     "user": {
      "displayName": "Shashank Shirude",
      "photoUrl": "https://lh3.googleusercontent.com/a/default-user=s64",
      "userId": "07633140671838012494"
     },
     "user_tz": -330
    },
    "id": "aiHWQROxAw73",
    "outputId": "4d357563-8caf-4cca-eaa3-d1fa64e78d45"
   },
   "outputs": [
    {
     "data": {
      "text/html": [
       "<div>\n",
       "<style scoped>\n",
       "    .dataframe tbody tr th:only-of-type {\n",
       "        vertical-align: middle;\n",
       "    }\n",
       "\n",
       "    .dataframe tbody tr th {\n",
       "        vertical-align: top;\n",
       "    }\n",
       "\n",
       "    .dataframe thead th {\n",
       "        text-align: right;\n",
       "    }\n",
       "</style>\n",
       "<table border=\"1\" class=\"dataframe\">\n",
       "  <thead>\n",
       "    <tr style=\"text-align: right;\">\n",
       "      <th></th>\n",
       "      <th>Team</th>\n",
       "      <th>Age</th>\n",
       "      <th>WinRate</th>\n",
       "      <th>ChampRate</th>\n",
       "    </tr>\n",
       "  </thead>\n",
       "  <tbody>\n",
       "    <tr>\n",
       "      <th>0</th>\n",
       "      <td>Team 1</td>\n",
       "      <td>90</td>\n",
       "      <td>0.596307</td>\n",
       "      <td>0.383721</td>\n",
       "    </tr>\n",
       "    <tr>\n",
       "      <th>7</th>\n",
       "      <td>Team 8</td>\n",
       "      <td>90</td>\n",
       "      <td>0.375326</td>\n",
       "      <td>0.028571</td>\n",
       "    </tr>\n",
       "    <tr>\n",
       "      <th>1</th>\n",
       "      <td>Team 2</td>\n",
       "      <td>90</td>\n",
       "      <td>0.572411</td>\n",
       "      <td>0.290698</td>\n",
       "    </tr>\n",
       "    <tr>\n",
       "      <th>53</th>\n",
       "      <td>Team 54</td>\n",
       "      <td>90</td>\n",
       "      <td>0.333333</td>\n",
       "      <td>0.000000</td>\n",
       "    </tr>\n",
       "    <tr>\n",
       "      <th>13</th>\n",
       "      <td>Team 14</td>\n",
       "      <td>90</td>\n",
       "      <td>0.317227</td>\n",
       "      <td>0.000000</td>\n",
       "    </tr>\n",
       "    <tr>\n",
       "      <th>44</th>\n",
       "      <td>Team 45</td>\n",
       "      <td>90</td>\n",
       "      <td>0.330769</td>\n",
       "      <td>0.000000</td>\n",
       "    </tr>\n",
       "    <tr>\n",
       "      <th>51</th>\n",
       "      <td>Team 52</td>\n",
       "      <td>90</td>\n",
       "      <td>0.291667</td>\n",
       "      <td>0.000000</td>\n",
       "    </tr>\n",
       "    <tr>\n",
       "      <th>6</th>\n",
       "      <td>Team 7</td>\n",
       "      <td>90</td>\n",
       "      <td>0.361005</td>\n",
       "      <td>0.000000</td>\n",
       "    </tr>\n",
       "    <tr>\n",
       "      <th>4</th>\n",
       "      <td>Team 5</td>\n",
       "      <td>90</td>\n",
       "      <td>0.437726</td>\n",
       "      <td>0.093023</td>\n",
       "    </tr>\n",
       "    <tr>\n",
       "      <th>2</th>\n",
       "      <td>Team 3</td>\n",
       "      <td>90</td>\n",
       "      <td>0.474751</td>\n",
       "      <td>0.125000</td>\n",
       "    </tr>\n",
       "  </tbody>\n",
       "</table>\n",
       "</div>"
      ],
      "text/plain": [
       "       Team  Age   WinRate  ChampRate\n",
       "0    Team 1   90  0.596307   0.383721\n",
       "7    Team 8   90  0.375326   0.028571\n",
       "1    Team 2   90  0.572411   0.290698\n",
       "53  Team 54   90  0.333333   0.000000\n",
       "13  Team 14   90  0.317227   0.000000\n",
       "44  Team 45   90  0.330769   0.000000\n",
       "51  Team 52   90  0.291667   0.000000\n",
       "6    Team 7   90  0.361005   0.000000\n",
       "4    Team 5   90  0.437726   0.093023\n",
       "2    Team 3   90  0.474751   0.125000"
      ]
     },
     "execution_count": 21,
     "metadata": {},
     "output_type": "execute_result"
    }
   ],
   "source": [
    "df_1.sort_values(by='Age',ascending=False).head(10) # Oldest teams"
   ]
  },
  {
   "cell_type": "code",
   "execution_count": null,
   "metadata": {
    "colab": {
     "base_uri": "https://localhost:8080/",
     "height": 359
    },
    "executionInfo": {
     "elapsed": 17,
     "status": "ok",
     "timestamp": 1638504648157,
     "user": {
      "displayName": "Shashank Shirude",
      "photoUrl": "https://lh3.googleusercontent.com/a/default-user=s64",
      "userId": "07633140671838012494"
     },
     "user_tz": -330
    },
    "id": "S6j60BnBAw73",
    "outputId": "080538e1-c124-42c6-ac94-5622e56df253"
   },
   "outputs": [
    {
     "data": {
      "text/html": [
       "<div>\n",
       "<style scoped>\n",
       "    .dataframe tbody tr th:only-of-type {\n",
       "        vertical-align: middle;\n",
       "    }\n",
       "\n",
       "    .dataframe tbody tr th {\n",
       "        vertical-align: top;\n",
       "    }\n",
       "\n",
       "    .dataframe thead th {\n",
       "        text-align: right;\n",
       "    }\n",
       "</style>\n",
       "<table border=\"1\" class=\"dataframe\">\n",
       "  <thead>\n",
       "    <tr style=\"text-align: right;\">\n",
       "      <th></th>\n",
       "      <th>Team</th>\n",
       "      <th>Age</th>\n",
       "      <th>WinRate</th>\n",
       "      <th>ChampRate</th>\n",
       "    </tr>\n",
       "  </thead>\n",
       "  <tbody>\n",
       "    <tr>\n",
       "      <th>0</th>\n",
       "      <td>Team 1</td>\n",
       "      <td>90</td>\n",
       "      <td>0.596307</td>\n",
       "      <td>0.383721</td>\n",
       "    </tr>\n",
       "    <tr>\n",
       "      <th>1</th>\n",
       "      <td>Team 2</td>\n",
       "      <td>90</td>\n",
       "      <td>0.572411</td>\n",
       "      <td>0.290698</td>\n",
       "    </tr>\n",
       "    <tr>\n",
       "      <th>2</th>\n",
       "      <td>Team 3</td>\n",
       "      <td>90</td>\n",
       "      <td>0.474751</td>\n",
       "      <td>0.125000</td>\n",
       "    </tr>\n",
       "    <tr>\n",
       "      <th>3</th>\n",
       "      <td>Team 4</td>\n",
       "      <td>88</td>\n",
       "      <td>0.445571</td>\n",
       "      <td>0.073171</td>\n",
       "    </tr>\n",
       "    <tr>\n",
       "      <th>4</th>\n",
       "      <td>Team 5</td>\n",
       "      <td>90</td>\n",
       "      <td>0.437726</td>\n",
       "      <td>0.093023</td>\n",
       "    </tr>\n",
       "    <tr>\n",
       "      <th>20</th>\n",
       "      <td>Team 21</td>\n",
       "      <td>21</td>\n",
       "      <td>0.411765</td>\n",
       "      <td>0.000000</td>\n",
       "    </tr>\n",
       "    <tr>\n",
       "      <th>5</th>\n",
       "      <td>Team 6</td>\n",
       "      <td>85</td>\n",
       "      <td>0.411130</td>\n",
       "      <td>0.013699</td>\n",
       "    </tr>\n",
       "    <tr>\n",
       "      <th>7</th>\n",
       "      <td>Team 8</td>\n",
       "      <td>90</td>\n",
       "      <td>0.375326</td>\n",
       "      <td>0.028571</td>\n",
       "    </tr>\n",
       "    <tr>\n",
       "      <th>10</th>\n",
       "      <td>Team 11</td>\n",
       "      <td>78</td>\n",
       "      <td>0.367974</td>\n",
       "      <td>0.022222</td>\n",
       "    </tr>\n",
       "    <tr>\n",
       "      <th>6</th>\n",
       "      <td>Team 7</td>\n",
       "      <td>90</td>\n",
       "      <td>0.361005</td>\n",
       "      <td>0.000000</td>\n",
       "    </tr>\n",
       "  </tbody>\n",
       "</table>\n",
       "</div>"
      ],
      "text/plain": [
       "       Team  Age   WinRate  ChampRate\n",
       "0    Team 1   90  0.596307   0.383721\n",
       "1    Team 2   90  0.572411   0.290698\n",
       "2    Team 3   90  0.474751   0.125000\n",
       "3    Team 4   88  0.445571   0.073171\n",
       "4    Team 5   90  0.437726   0.093023\n",
       "20  Team 21   21  0.411765   0.000000\n",
       "5    Team 6   85  0.411130   0.013699\n",
       "7    Team 8   90  0.375326   0.028571\n",
       "10  Team 11   78  0.367974   0.022222\n",
       "6    Team 7   90  0.361005   0.000000"
      ]
     },
     "execution_count": 22,
     "metadata": {},
     "output_type": "execute_result"
    }
   ],
   "source": [
    "df_1.sort_values(by='WinRate',ascending=False).head(10) # Top performing teams"
   ]
  },
  {
   "cell_type": "code",
   "execution_count": null,
   "metadata": {
    "colab": {
     "base_uri": "https://localhost:8080/",
     "height": 359
    },
    "executionInfo": {
     "elapsed": 16,
     "status": "ok",
     "timestamp": 1638504648157,
     "user": {
      "displayName": "Shashank Shirude",
      "photoUrl": "https://lh3.googleusercontent.com/a/default-user=s64",
      "userId": "07633140671838012494"
     },
     "user_tz": -330
    },
    "id": "a8Ed_zuUAw74",
    "outputId": "ed3dddf4-a015-4a83-a8a2-b6fbf63ee4e0"
   },
   "outputs": [
    {
     "data": {
      "text/html": [
       "<div>\n",
       "<style scoped>\n",
       "    .dataframe tbody tr th:only-of-type {\n",
       "        vertical-align: middle;\n",
       "    }\n",
       "\n",
       "    .dataframe tbody tr th {\n",
       "        vertical-align: top;\n",
       "    }\n",
       "\n",
       "    .dataframe thead th {\n",
       "        text-align: right;\n",
       "    }\n",
       "</style>\n",
       "<table border=\"1\" class=\"dataframe\">\n",
       "  <thead>\n",
       "    <tr style=\"text-align: right;\">\n",
       "      <th></th>\n",
       "      <th>Team</th>\n",
       "      <th>Age</th>\n",
       "      <th>WinRate</th>\n",
       "      <th>ChampRate</th>\n",
       "    </tr>\n",
       "  </thead>\n",
       "  <tbody>\n",
       "    <tr>\n",
       "      <th>59</th>\n",
       "      <td>Team 60</td>\n",
       "      <td>64</td>\n",
       "      <td>0.166667</td>\n",
       "      <td>0.0</td>\n",
       "    </tr>\n",
       "    <tr>\n",
       "      <th>54</th>\n",
       "      <td>Team 55</td>\n",
       "      <td>69</td>\n",
       "      <td>0.191176</td>\n",
       "      <td>0.0</td>\n",
       "    </tr>\n",
       "    <tr>\n",
       "      <th>56</th>\n",
       "      <td>Team 57</td>\n",
       "      <td>10</td>\n",
       "      <td>0.210526</td>\n",
       "      <td>0.0</td>\n",
       "    </tr>\n",
       "    <tr>\n",
       "      <th>55</th>\n",
       "      <td>Team 56</td>\n",
       "      <td>3</td>\n",
       "      <td>0.210526</td>\n",
       "      <td>0.0</td>\n",
       "    </tr>\n",
       "    <tr>\n",
       "      <th>45</th>\n",
       "      <td>Team 46</td>\n",
       "      <td>29</td>\n",
       "      <td>0.228070</td>\n",
       "      <td>0.0</td>\n",
       "    </tr>\n",
       "    <tr>\n",
       "      <th>32</th>\n",
       "      <td>Team 33</td>\n",
       "      <td>42</td>\n",
       "      <td>0.232143</td>\n",
       "      <td>0.0</td>\n",
       "    </tr>\n",
       "    <tr>\n",
       "      <th>57</th>\n",
       "      <td>Team 58</td>\n",
       "      <td>63</td>\n",
       "      <td>0.233333</td>\n",
       "      <td>0.0</td>\n",
       "    </tr>\n",
       "    <tr>\n",
       "      <th>58</th>\n",
       "      <td>Team 59</td>\n",
       "      <td>68</td>\n",
       "      <td>0.233333</td>\n",
       "      <td>0.0</td>\n",
       "    </tr>\n",
       "    <tr>\n",
       "      <th>48</th>\n",
       "      <td>Team 49</td>\n",
       "      <td>24</td>\n",
       "      <td>0.237500</td>\n",
       "      <td>0.0</td>\n",
       "    </tr>\n",
       "    <tr>\n",
       "      <th>42</th>\n",
       "      <td>Team 43</td>\n",
       "      <td>20</td>\n",
       "      <td>0.243421</td>\n",
       "      <td>0.0</td>\n",
       "    </tr>\n",
       "  </tbody>\n",
       "</table>\n",
       "</div>"
      ],
      "text/plain": [
       "       Team  Age   WinRate  ChampRate\n",
       "59  Team 60   64  0.166667        0.0\n",
       "54  Team 55   69  0.191176        0.0\n",
       "56  Team 57   10  0.210526        0.0\n",
       "55  Team 56    3  0.210526        0.0\n",
       "45  Team 46   29  0.228070        0.0\n",
       "32  Team 33   42  0.232143        0.0\n",
       "57  Team 58   63  0.233333        0.0\n",
       "58  Team 59   68  0.233333        0.0\n",
       "48  Team 49   24  0.237500        0.0\n",
       "42  Team 43   20  0.243421        0.0"
      ]
     },
     "execution_count": 23,
     "metadata": {},
     "output_type": "execute_result"
    }
   ],
   "source": [
    "df_1.sort_values(by='WinRate',ascending=True).head(10) # Low performing teams"
   ]
  },
  {
   "cell_type": "code",
   "execution_count": null,
   "metadata": {
    "colab": {
     "base_uri": "https://localhost:8080/",
     "height": 359
    },
    "executionInfo": {
     "elapsed": 15,
     "status": "ok",
     "timestamp": 1638504648157,
     "user": {
      "displayName": "Shashank Shirude",
      "photoUrl": "https://lh3.googleusercontent.com/a/default-user=s64",
      "userId": "07633140671838012494"
     },
     "user_tz": -330
    },
    "id": "mauHJKw5Aw74",
    "outputId": "0d75fc71-7827-4188-b085-7af336b41dc7"
   },
   "outputs": [
    {
     "data": {
      "text/html": [
       "<div>\n",
       "<style scoped>\n",
       "    .dataframe tbody tr th:only-of-type {\n",
       "        vertical-align: middle;\n",
       "    }\n",
       "\n",
       "    .dataframe tbody tr th {\n",
       "        vertical-align: top;\n",
       "    }\n",
       "\n",
       "    .dataframe thead th {\n",
       "        text-align: right;\n",
       "    }\n",
       "</style>\n",
       "<table border=\"1\" class=\"dataframe\">\n",
       "  <thead>\n",
       "    <tr style=\"text-align: right;\">\n",
       "      <th></th>\n",
       "      <th>Team</th>\n",
       "      <th>Age</th>\n",
       "      <th>WinRate</th>\n",
       "      <th>ChampRate</th>\n",
       "    </tr>\n",
       "  </thead>\n",
       "  <tbody>\n",
       "    <tr>\n",
       "      <th>60</th>\n",
       "      <td>Team 61</td>\n",
       "      <td>2</td>\n",
       "      <td>NaN</td>\n",
       "      <td>0.0</td>\n",
       "    </tr>\n",
       "    <tr>\n",
       "      <th>55</th>\n",
       "      <td>Team 56</td>\n",
       "      <td>3</td>\n",
       "      <td>0.210526</td>\n",
       "      <td>0.0</td>\n",
       "    </tr>\n",
       "    <tr>\n",
       "      <th>43</th>\n",
       "      <td>Team 44</td>\n",
       "      <td>5</td>\n",
       "      <td>0.307018</td>\n",
       "      <td>0.0</td>\n",
       "    </tr>\n",
       "    <tr>\n",
       "      <th>56</th>\n",
       "      <td>Team 57</td>\n",
       "      <td>10</td>\n",
       "      <td>0.210526</td>\n",
       "      <td>0.0</td>\n",
       "    </tr>\n",
       "    <tr>\n",
       "      <th>36</th>\n",
       "      <td>Team 37</td>\n",
       "      <td>12</td>\n",
       "      <td>0.271930</td>\n",
       "      <td>0.0</td>\n",
       "    </tr>\n",
       "    <tr>\n",
       "      <th>24</th>\n",
       "      <td>Team 25</td>\n",
       "      <td>15</td>\n",
       "      <td>0.322368</td>\n",
       "      <td>0.0</td>\n",
       "    </tr>\n",
       "    <tr>\n",
       "      <th>42</th>\n",
       "      <td>Team 43</td>\n",
       "      <td>20</td>\n",
       "      <td>0.243421</td>\n",
       "      <td>0.0</td>\n",
       "    </tr>\n",
       "    <tr>\n",
       "      <th>20</th>\n",
       "      <td>Team 21</td>\n",
       "      <td>21</td>\n",
       "      <td>0.411765</td>\n",
       "      <td>0.0</td>\n",
       "    </tr>\n",
       "    <tr>\n",
       "      <th>47</th>\n",
       "      <td>Team 48</td>\n",
       "      <td>23</td>\n",
       "      <td>0.250000</td>\n",
       "      <td>0.0</td>\n",
       "    </tr>\n",
       "    <tr>\n",
       "      <th>48</th>\n",
       "      <td>Team 49</td>\n",
       "      <td>24</td>\n",
       "      <td>0.237500</td>\n",
       "      <td>0.0</td>\n",
       "    </tr>\n",
       "  </tbody>\n",
       "</table>\n",
       "</div>"
      ],
      "text/plain": [
       "       Team  Age   WinRate  ChampRate\n",
       "60  Team 61    2       NaN        0.0\n",
       "55  Team 56    3  0.210526        0.0\n",
       "43  Team 44    5  0.307018        0.0\n",
       "56  Team 57   10  0.210526        0.0\n",
       "36  Team 37   12  0.271930        0.0\n",
       "24  Team 25   15  0.322368        0.0\n",
       "42  Team 43   20  0.243421        0.0\n",
       "20  Team 21   21  0.411765        0.0\n",
       "47  Team 48   23  0.250000        0.0\n",
       "48  Team 49   24  0.237500        0.0"
      ]
     },
     "execution_count": 24,
     "metadata": {},
     "output_type": "execute_result"
    }
   ],
   "source": [
    "df_2=df_1.sort_values(by='WinRate',ascending=False) # Top performing teams\n",
    "df_2.sort_values(by='Age',ascending=True).head(10) # Top performing young teams"
   ]
  },
  {
   "cell_type": "code",
   "execution_count": null,
   "metadata": {
    "colab": {
     "base_uri": "https://localhost:8080/",
     "height": 359
    },
    "executionInfo": {
     "elapsed": 15,
     "status": "ok",
     "timestamp": 1638504648158,
     "user": {
      "displayName": "Shashank Shirude",
      "photoUrl": "https://lh3.googleusercontent.com/a/default-user=s64",
      "userId": "07633140671838012494"
     },
     "user_tz": -330
    },
    "id": "XoVGTXKIAw74",
    "outputId": "bc014039-e801-43a4-db83-d79a61eaa232"
   },
   "outputs": [
    {
     "data": {
      "text/html": [
       "<div>\n",
       "<style scoped>\n",
       "    .dataframe tbody tr th:only-of-type {\n",
       "        vertical-align: middle;\n",
       "    }\n",
       "\n",
       "    .dataframe tbody tr th {\n",
       "        vertical-align: top;\n",
       "    }\n",
       "\n",
       "    .dataframe thead th {\n",
       "        text-align: right;\n",
       "    }\n",
       "</style>\n",
       "<table border=\"1\" class=\"dataframe\">\n",
       "  <thead>\n",
       "    <tr style=\"text-align: right;\">\n",
       "      <th></th>\n",
       "      <th>Team</th>\n",
       "      <th>Age</th>\n",
       "      <th>WinRate</th>\n",
       "      <th>ChampRate</th>\n",
       "    </tr>\n",
       "  </thead>\n",
       "  <tbody>\n",
       "    <tr>\n",
       "      <th>0</th>\n",
       "      <td>Team 1</td>\n",
       "      <td>90</td>\n",
       "      <td>0.596307</td>\n",
       "      <td>0.383721</td>\n",
       "    </tr>\n",
       "    <tr>\n",
       "      <th>51</th>\n",
       "      <td>Team 52</td>\n",
       "      <td>90</td>\n",
       "      <td>0.291667</td>\n",
       "      <td>0.000000</td>\n",
       "    </tr>\n",
       "    <tr>\n",
       "      <th>2</th>\n",
       "      <td>Team 3</td>\n",
       "      <td>90</td>\n",
       "      <td>0.474751</td>\n",
       "      <td>0.125000</td>\n",
       "    </tr>\n",
       "    <tr>\n",
       "      <th>4</th>\n",
       "      <td>Team 5</td>\n",
       "      <td>90</td>\n",
       "      <td>0.437726</td>\n",
       "      <td>0.093023</td>\n",
       "    </tr>\n",
       "    <tr>\n",
       "      <th>1</th>\n",
       "      <td>Team 2</td>\n",
       "      <td>90</td>\n",
       "      <td>0.572411</td>\n",
       "      <td>0.290698</td>\n",
       "    </tr>\n",
       "    <tr>\n",
       "      <th>7</th>\n",
       "      <td>Team 8</td>\n",
       "      <td>90</td>\n",
       "      <td>0.375326</td>\n",
       "      <td>0.028571</td>\n",
       "    </tr>\n",
       "    <tr>\n",
       "      <th>44</th>\n",
       "      <td>Team 45</td>\n",
       "      <td>90</td>\n",
       "      <td>0.330769</td>\n",
       "      <td>0.000000</td>\n",
       "    </tr>\n",
       "    <tr>\n",
       "      <th>6</th>\n",
       "      <td>Team 7</td>\n",
       "      <td>90</td>\n",
       "      <td>0.361005</td>\n",
       "      <td>0.000000</td>\n",
       "    </tr>\n",
       "    <tr>\n",
       "      <th>53</th>\n",
       "      <td>Team 54</td>\n",
       "      <td>90</td>\n",
       "      <td>0.333333</td>\n",
       "      <td>0.000000</td>\n",
       "    </tr>\n",
       "    <tr>\n",
       "      <th>13</th>\n",
       "      <td>Team 14</td>\n",
       "      <td>90</td>\n",
       "      <td>0.317227</td>\n",
       "      <td>0.000000</td>\n",
       "    </tr>\n",
       "  </tbody>\n",
       "</table>\n",
       "</div>"
      ],
      "text/plain": [
       "       Team  Age   WinRate  ChampRate\n",
       "0    Team 1   90  0.596307   0.383721\n",
       "51  Team 52   90  0.291667   0.000000\n",
       "2    Team 3   90  0.474751   0.125000\n",
       "4    Team 5   90  0.437726   0.093023\n",
       "1    Team 2   90  0.572411   0.290698\n",
       "7    Team 8   90  0.375326   0.028571\n",
       "44  Team 45   90  0.330769   0.000000\n",
       "6    Team 7   90  0.361005   0.000000\n",
       "53  Team 54   90  0.333333   0.000000\n",
       "13  Team 14   90  0.317227   0.000000"
      ]
     },
     "execution_count": 25,
     "metadata": {},
     "output_type": "execute_result"
    }
   ],
   "source": [
    "df_2=df_1.sort_values(by='WinRate',ascending=False) # Top performing teams\n",
    "df_2.sort_values(by='Age',ascending=False).head(10) # Top performing old teams"
   ]
  },
  {
   "cell_type": "code",
   "execution_count": null,
   "metadata": {
    "colab": {
     "base_uri": "https://localhost:8080/",
     "height": 542
    },
    "executionInfo": {
     "elapsed": 2777,
     "status": "ok",
     "timestamp": 1638504650920,
     "user": {
      "displayName": "Shashank Shirude",
      "photoUrl": "https://lh3.googleusercontent.com/a/default-user=s64",
      "userId": "07633140671838012494"
     },
     "user_tz": -330
    },
    "id": "8PgUe7JvAw74",
    "outputId": "efde7af9-de93-472e-f475-463167e81851"
   },
   "outputs": [
    {
     "data": {
      "text/html": [
       "<html>\n",
       "<head><meta charset=\"utf-8\" /></head>\n",
       "<body>\n",
       "    <div>\n",
       "            <script src=\"https://cdnjs.cloudflare.com/ajax/libs/mathjax/2.7.5/MathJax.js?config=TeX-AMS-MML_SVG\"></script><script type=\"text/javascript\">if (window.MathJax) {MathJax.Hub.Config({SVG: {font: \"STIX-Web\"}});}</script>\n",
       "                <script type=\"text/javascript\">window.PlotlyConfig = {MathJaxConfig: 'local'};</script>\n",
       "        <script src=\"https://cdn.plot.ly/plotly-latest.min.js\"></script>    \n",
       "            <div id=\"6399b736-adc2-492e-82fb-939b2549ba72\" class=\"plotly-graph-div\" style=\"height:525px; width:100%;\"></div>\n",
       "            <script type=\"text/javascript\">\n",
       "                \n",
       "                    window.PLOTLYENV=window.PLOTLYENV || {};\n",
       "                    \n",
       "                if (document.getElementById(\"6399b736-adc2-492e-82fb-939b2549ba72\")) {\n",
       "                    Plotly.newPlot(\n",
       "                        '6399b736-adc2-492e-82fb-939b2549ba72',\n",
       "                        [{\"hoverlabel\": {\"namelength\": 0}, \"hovertemplate\": \"Team=%{x}<br>WinRate=%{y}\", \"legendgroup\": \"Team=Team 1\", \"marker\": {\"color\": \"#636efa\", \"symbol\": \"circle\"}, \"mode\": \"markers\", \"name\": \"Team=Team 1\", \"showlegend\": true, \"type\": \"scatter\", \"x\": [\"Team 1\"], \"xaxis\": \"x\", \"y\": [0.5963070238957278], \"yaxis\": \"y\"}, {\"hoverlabel\": {\"namelength\": 0}, \"hovertemplate\": \"Team=%{x}<br>WinRate=%{y}\", \"legendgroup\": \"Team=Team 2\", \"marker\": {\"color\": \"#EF553B\", \"symbol\": \"circle\"}, \"mode\": \"markers\", \"name\": \"Team=Team 2\", \"showlegend\": true, \"type\": \"scatter\", \"x\": [\"Team 2\"], \"xaxis\": \"x\", \"y\": [0.5724112961622013], \"yaxis\": \"y\"}, {\"hoverlabel\": {\"namelength\": 0}, \"hovertemplate\": \"Team=%{x}<br>WinRate=%{y}\", \"legendgroup\": \"Team=Team 3\", \"marker\": {\"color\": \"#00cc96\", \"symbol\": \"circle\"}, \"mode\": \"markers\", \"name\": \"Team=Team 3\", \"showlegend\": true, \"type\": \"scatter\", \"x\": [\"Team 3\"], \"xaxis\": \"x\", \"y\": [0.4747513389441469], \"yaxis\": \"y\"}, {\"hoverlabel\": {\"namelength\": 0}, \"hovertemplate\": \"Team=%{x}<br>WinRate=%{y}\", \"legendgroup\": \"Team=Team 4\", \"marker\": {\"color\": \"#ab63fa\", \"symbol\": \"circle\"}, \"mode\": \"markers\", \"name\": \"Team=Team 4\", \"showlegend\": true, \"type\": \"scatter\", \"x\": [\"Team 4\"], \"xaxis\": \"x\", \"y\": [0.4455705705705706], \"yaxis\": \"y\"}, {\"hoverlabel\": {\"namelength\": 0}, \"hovertemplate\": \"Team=%{x}<br>WinRate=%{y}\", \"legendgroup\": \"Team=Team 5\", \"marker\": {\"color\": \"#FFA15A\", \"symbol\": \"circle\"}, \"mode\": \"markers\", \"name\": \"Team=Team 5\", \"showlegend\": true, \"type\": \"scatter\", \"x\": [\"Team 5\"], \"xaxis\": \"x\", \"y\": [0.4377262853005069], \"yaxis\": \"y\"}, {\"hoverlabel\": {\"namelength\": 0}, \"hovertemplate\": \"Team=%{x}<br>WinRate=%{y}\", \"legendgroup\": \"Team=Team 6\", \"marker\": {\"color\": \"#19d3f3\", \"symbol\": \"circle\"}, \"mode\": \"markers\", \"name\": \"Team=Team 6\", \"showlegend\": true, \"type\": \"scatter\", \"x\": [\"Team 6\"], \"xaxis\": \"x\", \"y\": [0.4111295681063123], \"yaxis\": \"y\"}, {\"hoverlabel\": {\"namelength\": 0}, \"hovertemplate\": \"Team=%{x}<br>WinRate=%{y}\", \"legendgroup\": \"Team=Team 7\", \"marker\": {\"color\": \"#FF6692\", \"symbol\": \"circle\"}, \"mode\": \"markers\", \"name\": \"Team=Team 7\", \"showlegend\": true, \"type\": \"scatter\", \"x\": [\"Team 7\"], \"xaxis\": \"x\", \"y\": [0.361005331302361], \"yaxis\": \"y\"}, {\"hoverlabel\": {\"namelength\": 0}, \"hovertemplate\": \"Team=%{x}<br>WinRate=%{y}\", \"legendgroup\": \"Team=Team 8\", \"marker\": {\"color\": \"#B6E880\", \"symbol\": \"circle\"}, \"mode\": \"markers\", \"name\": \"Team=Team 8\", \"showlegend\": true, \"type\": \"scatter\", \"x\": [\"Team 8\"], \"xaxis\": \"x\", \"y\": [0.37532580364900087], \"yaxis\": \"y\"}, {\"hoverlabel\": {\"namelength\": 0}, \"hovertemplate\": \"Team=%{x}<br>WinRate=%{y}\", \"legendgroup\": \"Team=Team 9\", \"marker\": {\"color\": \"#FF97FF\", \"symbol\": \"circle\"}, \"mode\": \"markers\", \"name\": \"Team=Team 9\", \"showlegend\": true, \"type\": \"scatter\", \"x\": [\"Team 9\"], \"xaxis\": \"x\", \"y\": [0.351460221550856], \"yaxis\": \"y\"}, {\"hoverlabel\": {\"namelength\": 0}, \"hovertemplate\": \"Team=%{x}<br>WinRate=%{y}\", \"legendgroup\": \"Team=Team 10\", \"marker\": {\"color\": \"#FECB52\", \"symbol\": \"circle\"}, \"mode\": \"markers\", \"name\": \"Team=Team 10\", \"showlegend\": true, \"type\": \"scatter\", \"x\": [\"Team 10\"], \"xaxis\": \"x\", \"y\": [0.3506944444444444], \"yaxis\": \"y\"}, {\"hoverlabel\": {\"namelength\": 0}, \"hovertemplate\": \"Team=%{x}<br>WinRate=%{y}\", \"legendgroup\": \"Team=Team 11\", \"marker\": {\"color\": \"#636efa\", \"symbol\": \"circle\"}, \"mode\": \"markers\", \"name\": \"Team=Team 11\", \"showlegend\": true, \"type\": \"scatter\", \"x\": [\"Team 11\"], \"xaxis\": \"x\", \"y\": [0.36797385620915035], \"yaxis\": \"y\"}, {\"hoverlabel\": {\"namelength\": 0}, \"hovertemplate\": \"Team=%{x}<br>WinRate=%{y}\", \"legendgroup\": \"Team=Team 12\", \"marker\": {\"color\": \"#EF553B\", \"symbol\": \"circle\"}, \"mode\": \"markers\", \"name\": \"Team=Team 12\", \"showlegend\": true, \"type\": \"scatter\", \"x\": [\"Team 12\"], \"xaxis\": \"x\", \"y\": [0.3451118963486455], \"yaxis\": \"y\"}, {\"hoverlabel\": {\"namelength\": 0}, \"hovertemplate\": \"Team=%{x}<br>WinRate=%{y}\", \"legendgroup\": \"Team=Team 13\", \"marker\": {\"color\": \"#00cc96\", \"symbol\": \"circle\"}, \"mode\": \"markers\", \"name\": \"Team=Team 13\", \"showlegend\": true, \"type\": \"scatter\", \"x\": [\"Team 13\"], \"xaxis\": \"x\", \"y\": [0.31582537517053205], \"yaxis\": \"y\"}, {\"hoverlabel\": {\"namelength\": 0}, \"hovertemplate\": \"Team=%{x}<br>WinRate=%{y}\", \"legendgroup\": \"Team=Team 14\", \"marker\": {\"color\": \"#ab63fa\", \"symbol\": \"circle\"}, \"mode\": \"markers\", \"name\": \"Team=Team 14\", \"showlegend\": true, \"type\": \"scatter\", \"x\": [\"Team 14\"], \"xaxis\": \"x\", \"y\": [0.3172268907563025], \"yaxis\": \"y\"}, {\"hoverlabel\": {\"namelength\": 0}, \"hovertemplate\": \"Team=%{x}<br>WinRate=%{y}\", \"legendgroup\": \"Team=Team 15\", \"marker\": {\"color\": \"#FFA15A\", \"symbol\": \"circle\"}, \"mode\": \"markers\", \"name\": \"Team=Team 15\", \"showlegend\": true, \"type\": \"scatter\", \"x\": [\"Team 15\"], \"xaxis\": \"x\", \"y\": [0.3230452674897119], \"yaxis\": \"y\"}, {\"hoverlabel\": {\"namelength\": 0}, \"hovertemplate\": \"Team=%{x}<br>WinRate=%{y}\", \"legendgroup\": \"Team=Team 16\", \"marker\": {\"color\": \"#19d3f3\", \"symbol\": \"circle\"}, \"mode\": \"markers\", \"name\": \"Team=Team 16\", \"showlegend\": true, \"type\": \"scatter\", \"x\": [\"Team 16\"], \"xaxis\": \"x\", \"y\": [0.3232169954476479], \"yaxis\": \"y\"}, {\"hoverlabel\": {\"namelength\": 0}, \"hovertemplate\": \"Team=%{x}<br>WinRate=%{y}\", \"legendgroup\": \"Team=Team 17\", \"marker\": {\"color\": \"#FF6692\", \"symbol\": \"circle\"}, \"mode\": \"markers\", \"name\": \"Team=Team 17\", \"showlegend\": true, \"type\": \"scatter\", \"x\": [\"Team 17\"], \"xaxis\": \"x\", \"y\": [0.3107569721115538], \"yaxis\": \"y\"}, {\"hoverlabel\": {\"namelength\": 0}, \"hovertemplate\": \"Team=%{x}<br>WinRate=%{y}\", \"legendgroup\": \"Team=Team 18\", \"marker\": {\"color\": \"#B6E880\", \"symbol\": \"circle\"}, \"mode\": \"markers\", \"name\": \"Team=Team 18\", \"showlegend\": true, \"type\": \"scatter\", \"x\": [\"Team 18\"], \"xaxis\": \"x\", \"y\": [0.3422818791946309], \"yaxis\": \"y\"}, {\"hoverlabel\": {\"namelength\": 0}, \"hovertemplate\": \"Team=%{x}<br>WinRate=%{y}\", \"legendgroup\": \"Team=Team 19\", \"marker\": {\"color\": \"#FF97FF\", \"symbol\": \"circle\"}, \"mode\": \"markers\", \"name\": \"Team=Team 19\", \"showlegend\": true, \"type\": \"scatter\", \"x\": [\"Team 19\"], \"xaxis\": \"x\", \"y\": [0.33704453441295545], \"yaxis\": \"y\"}, {\"hoverlabel\": {\"namelength\": 0}, \"hovertemplate\": \"Team=%{x}<br>WinRate=%{y}\", \"legendgroup\": \"Team=Team 20\", \"marker\": {\"color\": \"#FECB52\", \"symbol\": \"circle\"}, \"mode\": \"markers\", \"name\": \"Team=Team 20\", \"showlegend\": true, \"type\": \"scatter\", \"x\": [\"Team 20\"], \"xaxis\": \"x\", \"y\": [0.33485401459854014], \"yaxis\": \"y\"}, {\"hoverlabel\": {\"namelength\": 0}, \"hovertemplate\": \"Team=%{x}<br>WinRate=%{y}\", \"legendgroup\": \"Team=Team 21\", \"marker\": {\"color\": \"#636efa\", \"symbol\": \"circle\"}, \"mode\": \"markers\", \"name\": \"Team=Team 21\", \"showlegend\": true, \"type\": \"scatter\", \"x\": [\"Team 21\"], \"xaxis\": \"x\", \"y\": [0.4117647058823529], \"yaxis\": \"y\"}, {\"hoverlabel\": {\"namelength\": 0}, \"hovertemplate\": \"Team=%{x}<br>WinRate=%{y}\", \"legendgroup\": \"Team=Team 22\", \"marker\": {\"color\": \"#EF553B\", \"symbol\": \"circle\"}, \"mode\": \"markers\", \"name\": \"Team=Team 22\", \"showlegend\": true, \"type\": \"scatter\", \"x\": [\"Team 22\"], \"xaxis\": \"x\", \"y\": [0.29380053908355797], \"yaxis\": \"y\"}, {\"hoverlabel\": {\"namelength\": 0}, \"hovertemplate\": \"Team=%{x}<br>WinRate=%{y}\", \"legendgroup\": \"Team=Team 23\", \"marker\": {\"color\": \"#00cc96\", \"symbol\": \"circle\"}, \"mode\": \"markers\", \"name\": \"Team=Team 23\", \"showlegend\": true, \"type\": \"scatter\", \"x\": [\"Team 23\"], \"xaxis\": \"x\", \"y\": [0.2898773006134969], \"yaxis\": \"y\"}, {\"hoverlabel\": {\"namelength\": 0}, \"hovertemplate\": \"Team=%{x}<br>WinRate=%{y}\", \"legendgroup\": \"Team=Team 24\", \"marker\": {\"color\": \"#ab63fa\", \"symbol\": \"circle\"}, \"mode\": \"markers\", \"name\": \"Team=Team 24\", \"showlegend\": true, \"type\": \"scatter\", \"x\": [\"Team 24\"], \"xaxis\": \"x\", \"y\": [0.2994100294985251], \"yaxis\": \"y\"}, {\"hoverlabel\": {\"namelength\": 0}, \"hovertemplate\": \"Team=%{x}<br>WinRate=%{y}\", \"legendgroup\": \"Team=Team 25\", \"marker\": {\"color\": \"#FFA15A\", \"symbol\": \"circle\"}, \"mode\": \"markers\", \"name\": \"Team=Team 25\", \"showlegend\": true, \"type\": \"scatter\", \"x\": [\"Team 25\"], \"xaxis\": \"x\", \"y\": [0.3223684210526316], \"yaxis\": \"y\"}, {\"hoverlabel\": {\"namelength\": 0}, \"hovertemplate\": \"Team=%{x}<br>WinRate=%{y}\", \"legendgroup\": \"Team=Team 26\", \"marker\": {\"color\": \"#19d3f3\", \"symbol\": \"circle\"}, \"mode\": \"markers\", \"name\": \"Team=Team 26\", \"showlegend\": true, \"type\": \"scatter\", \"x\": [\"Team 26\"], \"xaxis\": \"x\", \"y\": [0.2929936305732484], \"yaxis\": \"y\"}, {\"hoverlabel\": {\"namelength\": 0}, \"hovertemplate\": \"Team=%{x}<br>WinRate=%{y}\", \"legendgroup\": \"Team=Team 27\", \"marker\": {\"color\": \"#FF6692\", \"symbol\": \"circle\"}, \"mode\": \"markers\", \"name\": \"Team=Team 27\", \"showlegend\": true, \"type\": \"scatter\", \"x\": [\"Team 27\"], \"xaxis\": \"x\", \"y\": [0.31376518218623484], \"yaxis\": \"y\"}, {\"hoverlabel\": {\"namelength\": 0}, \"hovertemplate\": \"Team=%{x}<br>WinRate=%{y}\", \"legendgroup\": \"Team=Team 28\", \"marker\": {\"color\": \"#B6E880\", \"symbol\": \"circle\"}, \"mode\": \"markers\", \"name\": \"Team=Team 28\", \"showlegend\": true, \"type\": \"scatter\", \"x\": [\"Team 28\"], \"xaxis\": \"x\", \"y\": [0.24744027303754265], \"yaxis\": \"y\"}, {\"hoverlabel\": {\"namelength\": 0}, \"hovertemplate\": \"Team=%{x}<br>WinRate=%{y}\", \"legendgroup\": \"Team=Team 29\", \"marker\": {\"color\": \"#FF97FF\", \"symbol\": \"circle\"}, \"mode\": \"markers\", \"name\": \"Team=Team 29\", \"showlegend\": true, \"type\": \"scatter\", \"x\": [\"Team 29\"], \"xaxis\": \"x\", \"y\": [0.32894736842105265], \"yaxis\": \"y\"}, {\"hoverlabel\": {\"namelength\": 0}, \"hovertemplate\": \"Team=%{x}<br>WinRate=%{y}\", \"legendgroup\": \"Team=Team 30\", \"marker\": {\"color\": \"#FECB52\", \"symbol\": \"circle\"}, \"mode\": \"markers\", \"name\": \"Team=Team 30\", \"showlegend\": true, \"type\": \"scatter\", \"x\": [\"Team 30\"], \"xaxis\": \"x\", \"y\": [0.2810945273631841], \"yaxis\": \"y\"}, {\"hoverlabel\": {\"namelength\": 0}, \"hovertemplate\": \"Team=%{x}<br>WinRate=%{y}\", \"legendgroup\": \"Team=Team 31\", \"marker\": {\"color\": \"#636efa\", \"symbol\": \"circle\"}, \"mode\": \"markers\", \"name\": \"Team=Team 31\", \"showlegend\": true, \"type\": \"scatter\", \"x\": [\"Team 31\"], \"xaxis\": \"x\", \"y\": [0.2907801418439716], \"yaxis\": \"y\"}, {\"hoverlabel\": {\"namelength\": 0}, \"hovertemplate\": \"Team=%{x}<br>WinRate=%{y}\", \"legendgroup\": \"Team=Team 32\", \"marker\": {\"color\": \"#EF553B\", \"symbol\": \"circle\"}, \"mode\": \"markers\", \"name\": \"Team=Team 32\", \"showlegend\": true, \"type\": \"scatter\", \"x\": [\"Team 32\"], \"xaxis\": \"x\", \"y\": [0.3028169014084507], \"yaxis\": \"y\"}, {\"hoverlabel\": {\"namelength\": 0}, \"hovertemplate\": \"Team=%{x}<br>WinRate=%{y}\", \"legendgroup\": \"Team=Team 33\", \"marker\": {\"color\": \"#00cc96\", \"symbol\": \"circle\"}, \"mode\": \"markers\", \"name\": \"Team=Team 33\", \"showlegend\": true, \"type\": \"scatter\", \"x\": [\"Team 33\"], \"xaxis\": \"x\", \"y\": [0.23214285714285715], \"yaxis\": \"y\"}, {\"hoverlabel\": {\"namelength\": 0}, \"hovertemplate\": \"Team=%{x}<br>WinRate=%{y}\", \"legendgroup\": \"Team=Team 34\", \"marker\": {\"color\": \"#ab63fa\", \"symbol\": \"circle\"}, \"mode\": \"markers\", \"name\": \"Team=Team 34\", \"showlegend\": true, \"type\": \"scatter\", \"x\": [\"Team 34\"], \"xaxis\": \"x\", \"y\": [0.2774566473988439], \"yaxis\": \"y\"}, {\"hoverlabel\": {\"namelength\": 0}, \"hovertemplate\": \"Team=%{x}<br>WinRate=%{y}\", \"legendgroup\": \"Team=Team 35\", \"marker\": {\"color\": \"#FFA15A\", \"symbol\": \"circle\"}, \"mode\": \"markers\", \"name\": \"Team=Team 35\", \"showlegend\": true, \"type\": \"scatter\", \"x\": [\"Team 35\"], \"xaxis\": \"x\", \"y\": [0.3083832335329341], \"yaxis\": \"y\"}, {\"hoverlabel\": {\"namelength\": 0}, \"hovertemplate\": \"Team=%{x}<br>WinRate=%{y}\", \"legendgroup\": \"Team=Team 36\", \"marker\": {\"color\": \"#19d3f3\", \"symbol\": \"circle\"}, \"mode\": \"markers\", \"name\": \"Team=Team 36\", \"showlegend\": true, \"type\": \"scatter\", \"x\": [\"Team 36\"], \"xaxis\": \"x\", \"y\": [0.2814814814814815], \"yaxis\": \"y\"}, {\"hoverlabel\": {\"namelength\": 0}, \"hovertemplate\": \"Team=%{x}<br>WinRate=%{y}\", \"legendgroup\": \"Team=Team 37\", \"marker\": {\"color\": \"#FF6692\", \"symbol\": \"circle\"}, \"mode\": \"markers\", \"name\": \"Team=Team 37\", \"showlegend\": true, \"type\": \"scatter\", \"x\": [\"Team 37\"], \"xaxis\": \"x\", \"y\": [0.2719298245614035], \"yaxis\": \"y\"}, {\"hoverlabel\": {\"namelength\": 0}, \"hovertemplate\": \"Team=%{x}<br>WinRate=%{y}\", \"legendgroup\": \"Team=Team 38\", \"marker\": {\"color\": \"#B6E880\", \"symbol\": \"circle\"}, \"mode\": \"markers\", \"name\": \"Team=Team 38\", \"showlegend\": true, \"type\": \"scatter\", \"x\": [\"Team 38\"], \"xaxis\": \"x\", \"y\": [0.2907801418439716], \"yaxis\": \"y\"}, {\"hoverlabel\": {\"namelength\": 0}, \"hovertemplate\": \"Team=%{x}<br>WinRate=%{y}\", \"legendgroup\": \"Team=Team 39\", \"marker\": {\"color\": \"#FF97FF\", \"symbol\": \"circle\"}, \"mode\": \"markers\", \"name\": \"Team=Team 39\", \"showlegend\": true, \"type\": \"scatter\", \"x\": [\"Team 39\"], \"xaxis\": \"x\", \"y\": [0.325], \"yaxis\": \"y\"}, {\"hoverlabel\": {\"namelength\": 0}, \"hovertemplate\": \"Team=%{x}<br>WinRate=%{y}\", \"legendgroup\": \"Team=Team 40\", \"marker\": {\"color\": \"#FECB52\", \"symbol\": \"circle\"}, \"mode\": \"markers\", \"name\": \"Team=Team 40\", \"showlegend\": true, \"type\": \"scatter\", \"x\": [\"Team 40\"], \"xaxis\": \"x\", \"y\": [0.26881720430107525], \"yaxis\": \"y\"}, {\"hoverlabel\": {\"namelength\": 0}, \"hovertemplate\": \"Team=%{x}<br>WinRate=%{y}\", \"legendgroup\": \"Team=Team 41\", \"marker\": {\"color\": \"#636efa\", \"symbol\": \"circle\"}, \"mode\": \"markers\", \"name\": \"Team=Team 41\", \"showlegend\": true, \"type\": \"scatter\", \"x\": [\"Team 41\"], \"xaxis\": \"x\", \"y\": [0.28921568627450983], \"yaxis\": \"y\"}, {\"hoverlabel\": {\"namelength\": 0}, \"hovertemplate\": \"Team=%{x}<br>WinRate=%{y}\", \"legendgroup\": \"Team=Team 42\", \"marker\": {\"color\": \"#EF553B\", \"symbol\": \"circle\"}, \"mode\": \"markers\", \"name\": \"Team=Team 42\", \"showlegend\": true, \"type\": \"scatter\", \"x\": [\"Team 42\"], \"xaxis\": \"x\", \"y\": [0.29444444444444445], \"yaxis\": \"y\"}, {\"hoverlabel\": {\"namelength\": 0}, \"hovertemplate\": \"Team=%{x}<br>WinRate=%{y}\", \"legendgroup\": \"Team=Team 43\", \"marker\": {\"color\": \"#00cc96\", \"symbol\": \"circle\"}, \"mode\": \"markers\", \"name\": \"Team=Team 43\", \"showlegend\": true, \"type\": \"scatter\", \"x\": [\"Team 43\"], \"xaxis\": \"x\", \"y\": [0.24342105263157895], \"yaxis\": \"y\"}, {\"hoverlabel\": {\"namelength\": 0}, \"hovertemplate\": \"Team=%{x}<br>WinRate=%{y}\", \"legendgroup\": \"Team=Team 44\", \"marker\": {\"color\": \"#ab63fa\", \"symbol\": \"circle\"}, \"mode\": \"markers\", \"name\": \"Team=Team 44\", \"showlegend\": true, \"type\": \"scatter\", \"x\": [\"Team 44\"], \"xaxis\": \"x\", \"y\": [0.30701754385964913], \"yaxis\": \"y\"}, {\"hoverlabel\": {\"namelength\": 0}, \"hovertemplate\": \"Team=%{x}<br>WinRate=%{y}\", \"legendgroup\": \"Team=Team 45\", \"marker\": {\"color\": \"#FFA15A\", \"symbol\": \"circle\"}, \"mode\": \"markers\", \"name\": \"Team=Team 45\", \"showlegend\": true, \"type\": \"scatter\", \"x\": [\"Team 45\"], \"xaxis\": \"x\", \"y\": [0.33076923076923076], \"yaxis\": \"y\"}, {\"hoverlabel\": {\"namelength\": 0}, \"hovertemplate\": \"Team=%{x}<br>WinRate=%{y}\", \"legendgroup\": \"Team=Team 46\", \"marker\": {\"color\": \"#19d3f3\", \"symbol\": \"circle\"}, \"mode\": \"markers\", \"name\": \"Team=Team 46\", \"showlegend\": true, \"type\": \"scatter\", \"x\": [\"Team 46\"], \"xaxis\": \"x\", \"y\": [0.22807017543859648], \"yaxis\": \"y\"}, {\"hoverlabel\": {\"namelength\": 0}, \"hovertemplate\": \"Team=%{x}<br>WinRate=%{y}\", \"legendgroup\": \"Team=Team 47\", \"marker\": {\"color\": \"#FF6692\", \"symbol\": \"circle\"}, \"mode\": \"markers\", \"name\": \"Team=Team 47\", \"showlegend\": true, \"type\": \"scatter\", \"x\": [\"Team 47\"], \"xaxis\": \"x\", \"y\": [0.29310344827586204], \"yaxis\": \"y\"}, {\"hoverlabel\": {\"namelength\": 0}, \"hovertemplate\": \"Team=%{x}<br>WinRate=%{y}\", \"legendgroup\": \"Team=Team 48\", \"marker\": {\"color\": \"#B6E880\", \"symbol\": \"circle\"}, \"mode\": \"markers\", \"name\": \"Team=Team 48\", \"showlegend\": true, \"type\": \"scatter\", \"x\": [\"Team 48\"], \"xaxis\": \"x\", \"y\": [0.25], \"yaxis\": \"y\"}, {\"hoverlabel\": {\"namelength\": 0}, \"hovertemplate\": \"Team=%{x}<br>WinRate=%{y}\", \"legendgroup\": \"Team=Team 49\", \"marker\": {\"color\": \"#FF97FF\", \"symbol\": \"circle\"}, \"mode\": \"markers\", \"name\": \"Team=Team 49\", \"showlegend\": true, \"type\": \"scatter\", \"x\": [\"Team 49\"], \"xaxis\": \"x\", \"y\": [0.2375], \"yaxis\": \"y\"}, {\"hoverlabel\": {\"namelength\": 0}, \"hovertemplate\": \"Team=%{x}<br>WinRate=%{y}\", \"legendgroup\": \"Team=Team 50\", \"marker\": {\"color\": \"#FECB52\", \"symbol\": \"circle\"}, \"mode\": \"markers\", \"name\": \"Team=Team 50\", \"showlegend\": true, \"type\": \"scatter\", \"x\": [\"Team 50\"], \"xaxis\": \"x\", \"y\": [0.2777777777777778], \"yaxis\": \"y\"}, {\"hoverlabel\": {\"namelength\": 0}, \"hovertemplate\": \"Team=%{x}<br>WinRate=%{y}\", \"legendgroup\": \"Team=Team 51\", \"marker\": {\"color\": \"#636efa\", \"symbol\": \"circle\"}, \"mode\": \"markers\", \"name\": \"Team=Team 51\", \"showlegend\": true, \"type\": \"scatter\", \"x\": [\"Team 51\"], \"xaxis\": \"x\", \"y\": [0.32222222222222224], \"yaxis\": \"y\"}, {\"hoverlabel\": {\"namelength\": 0}, \"hovertemplate\": \"Team=%{x}<br>WinRate=%{y}\", \"legendgroup\": \"Team=Team 52\", \"marker\": {\"color\": \"#EF553B\", \"symbol\": \"circle\"}, \"mode\": \"markers\", \"name\": \"Team=Team 52\", \"showlegend\": true, \"type\": \"scatter\", \"x\": [\"Team 52\"], \"xaxis\": \"x\", \"y\": [0.2916666666666667], \"yaxis\": \"y\"}, {\"hoverlabel\": {\"namelength\": 0}, \"hovertemplate\": \"Team=%{x}<br>WinRate=%{y}\", \"legendgroup\": \"Team=Team 53\", \"marker\": {\"color\": \"#00cc96\", \"symbol\": \"circle\"}, \"mode\": \"markers\", \"name\": \"Team=Team 53\", \"showlegend\": true, \"type\": \"scatter\", \"x\": [\"Team 53\"], \"xaxis\": \"x\", \"y\": [0.25], \"yaxis\": \"y\"}, {\"hoverlabel\": {\"namelength\": 0}, \"hovertemplate\": \"Team=%{x}<br>WinRate=%{y}\", \"legendgroup\": \"Team=Team 54\", \"marker\": {\"color\": \"#ab63fa\", \"symbol\": \"circle\"}, \"mode\": \"markers\", \"name\": \"Team=Team 54\", \"showlegend\": true, \"type\": \"scatter\", \"x\": [\"Team 54\"], \"xaxis\": \"x\", \"y\": [0.3333333333333333], \"yaxis\": \"y\"}, {\"hoverlabel\": {\"namelength\": 0}, \"hovertemplate\": \"Team=%{x}<br>WinRate=%{y}\", \"legendgroup\": \"Team=Team 55\", \"marker\": {\"color\": \"#FFA15A\", \"symbol\": \"circle\"}, \"mode\": \"markers\", \"name\": \"Team=Team 55\", \"showlegend\": true, \"type\": \"scatter\", \"x\": [\"Team 55\"], \"xaxis\": \"x\", \"y\": [0.19117647058823528], \"yaxis\": \"y\"}, {\"hoverlabel\": {\"namelength\": 0}, \"hovertemplate\": \"Team=%{x}<br>WinRate=%{y}\", \"legendgroup\": \"Team=Team 56\", \"marker\": {\"color\": \"#19d3f3\", \"symbol\": \"circle\"}, \"mode\": \"markers\", \"name\": \"Team=Team 56\", \"showlegend\": true, \"type\": \"scatter\", \"x\": [\"Team 56\"], \"xaxis\": \"x\", \"y\": [0.21052631578947367], \"yaxis\": \"y\"}, {\"hoverlabel\": {\"namelength\": 0}, \"hovertemplate\": \"Team=%{x}<br>WinRate=%{y}\", \"legendgroup\": \"Team=Team 57\", \"marker\": {\"color\": \"#FF6692\", \"symbol\": \"circle\"}, \"mode\": \"markers\", \"name\": \"Team=Team 57\", \"showlegend\": true, \"type\": \"scatter\", \"x\": [\"Team 57\"], \"xaxis\": \"x\", \"y\": [0.21052631578947367], \"yaxis\": \"y\"}, {\"hoverlabel\": {\"namelength\": 0}, \"hovertemplate\": \"Team=%{x}<br>WinRate=%{y}\", \"legendgroup\": \"Team=Team 58\", \"marker\": {\"color\": \"#B6E880\", \"symbol\": \"circle\"}, \"mode\": \"markers\", \"name\": \"Team=Team 58\", \"showlegend\": true, \"type\": \"scatter\", \"x\": [\"Team 58\"], \"xaxis\": \"x\", \"y\": [0.23333333333333334], \"yaxis\": \"y\"}, {\"hoverlabel\": {\"namelength\": 0}, \"hovertemplate\": \"Team=%{x}<br>WinRate=%{y}\", \"legendgroup\": \"Team=Team 59\", \"marker\": {\"color\": \"#FF97FF\", \"symbol\": \"circle\"}, \"mode\": \"markers\", \"name\": \"Team=Team 59\", \"showlegend\": true, \"type\": \"scatter\", \"x\": [\"Team 59\"], \"xaxis\": \"x\", \"y\": [0.23333333333333334], \"yaxis\": \"y\"}, {\"hoverlabel\": {\"namelength\": 0}, \"hovertemplate\": \"Team=%{x}<br>WinRate=%{y}\", \"legendgroup\": \"Team=Team 60\", \"marker\": {\"color\": \"#FECB52\", \"symbol\": \"circle\"}, \"mode\": \"markers\", \"name\": \"Team=Team 60\", \"showlegend\": true, \"type\": \"scatter\", \"x\": [\"Team 60\"], \"xaxis\": \"x\", \"y\": [0.16666666666666666], \"yaxis\": \"y\"}, {\"hoverlabel\": {\"namelength\": 0}, \"hovertemplate\": \"Team=%{x}<br>WinRate=%{y}\", \"legendgroup\": \"Team=Team 61\", \"marker\": {\"color\": \"#636efa\", \"symbol\": \"circle\"}, \"mode\": \"markers\", \"name\": \"Team=Team 61\", \"showlegend\": true, \"type\": \"scatter\", \"x\": [\"Team 61\"], \"xaxis\": \"x\", \"y\": [null], \"yaxis\": \"y\"}],\n",
       "                        {\"legend\": {\"tracegroupgap\": 0}, \"margin\": {\"t\": 60}, \"template\": {\"data\": {\"bar\": [{\"error_x\": {\"color\": \"#2a3f5f\"}, \"error_y\": {\"color\": \"#2a3f5f\"}, \"marker\": {\"line\": {\"color\": \"#E5ECF6\", \"width\": 0.5}}, \"type\": \"bar\"}], \"barpolar\": [{\"marker\": {\"line\": {\"color\": \"#E5ECF6\", \"width\": 0.5}}, \"type\": \"barpolar\"}], \"carpet\": [{\"aaxis\": {\"endlinecolor\": \"#2a3f5f\", \"gridcolor\": \"white\", \"linecolor\": \"white\", \"minorgridcolor\": \"white\", \"startlinecolor\": \"#2a3f5f\"}, \"baxis\": {\"endlinecolor\": \"#2a3f5f\", \"gridcolor\": \"white\", \"linecolor\": \"white\", \"minorgridcolor\": \"white\", \"startlinecolor\": \"#2a3f5f\"}, \"type\": \"carpet\"}], \"choropleth\": [{\"colorbar\": {\"outlinewidth\": 0, \"ticks\": \"\"}, \"type\": \"choropleth\"}], \"contour\": [{\"colorbar\": {\"outlinewidth\": 0, \"ticks\": \"\"}, \"colorscale\": [[0.0, \"#0d0887\"], [0.1111111111111111, \"#46039f\"], [0.2222222222222222, \"#7201a8\"], [0.3333333333333333, \"#9c179e\"], [0.4444444444444444, \"#bd3786\"], [0.5555555555555556, \"#d8576b\"], [0.6666666666666666, \"#ed7953\"], [0.7777777777777778, \"#fb9f3a\"], [0.8888888888888888, \"#fdca26\"], [1.0, \"#f0f921\"]], \"type\": \"contour\"}], \"contourcarpet\": [{\"colorbar\": {\"outlinewidth\": 0, \"ticks\": \"\"}, \"type\": \"contourcarpet\"}], \"heatmap\": [{\"colorbar\": {\"outlinewidth\": 0, \"ticks\": \"\"}, \"colorscale\": [[0.0, \"#0d0887\"], [0.1111111111111111, \"#46039f\"], [0.2222222222222222, \"#7201a8\"], [0.3333333333333333, \"#9c179e\"], [0.4444444444444444, \"#bd3786\"], [0.5555555555555556, \"#d8576b\"], [0.6666666666666666, \"#ed7953\"], [0.7777777777777778, \"#fb9f3a\"], [0.8888888888888888, \"#fdca26\"], [1.0, \"#f0f921\"]], \"type\": \"heatmap\"}], \"heatmapgl\": [{\"colorbar\": {\"outlinewidth\": 0, \"ticks\": \"\"}, \"colorscale\": [[0.0, \"#0d0887\"], [0.1111111111111111, \"#46039f\"], [0.2222222222222222, \"#7201a8\"], [0.3333333333333333, \"#9c179e\"], [0.4444444444444444, \"#bd3786\"], [0.5555555555555556, \"#d8576b\"], [0.6666666666666666, \"#ed7953\"], [0.7777777777777778, \"#fb9f3a\"], [0.8888888888888888, \"#fdca26\"], [1.0, \"#f0f921\"]], \"type\": \"heatmapgl\"}], \"histogram\": [{\"marker\": {\"colorbar\": {\"outlinewidth\": 0, \"ticks\": \"\"}}, \"type\": \"histogram\"}], \"histogram2d\": [{\"colorbar\": {\"outlinewidth\": 0, \"ticks\": \"\"}, \"colorscale\": [[0.0, \"#0d0887\"], [0.1111111111111111, \"#46039f\"], [0.2222222222222222, \"#7201a8\"], [0.3333333333333333, \"#9c179e\"], [0.4444444444444444, \"#bd3786\"], [0.5555555555555556, \"#d8576b\"], [0.6666666666666666, \"#ed7953\"], [0.7777777777777778, \"#fb9f3a\"], [0.8888888888888888, \"#fdca26\"], [1.0, \"#f0f921\"]], \"type\": \"histogram2d\"}], \"histogram2dcontour\": [{\"colorbar\": {\"outlinewidth\": 0, \"ticks\": \"\"}, \"colorscale\": [[0.0, \"#0d0887\"], [0.1111111111111111, \"#46039f\"], [0.2222222222222222, \"#7201a8\"], [0.3333333333333333, \"#9c179e\"], [0.4444444444444444, \"#bd3786\"], [0.5555555555555556, \"#d8576b\"], [0.6666666666666666, \"#ed7953\"], [0.7777777777777778, \"#fb9f3a\"], [0.8888888888888888, \"#fdca26\"], [1.0, \"#f0f921\"]], \"type\": \"histogram2dcontour\"}], \"mesh3d\": [{\"colorbar\": {\"outlinewidth\": 0, \"ticks\": \"\"}, \"type\": \"mesh3d\"}], \"parcoords\": [{\"line\": {\"colorbar\": {\"outlinewidth\": 0, \"ticks\": \"\"}}, \"type\": \"parcoords\"}], \"pie\": [{\"automargin\": true, \"type\": \"pie\"}], \"scatter\": [{\"marker\": {\"colorbar\": {\"outlinewidth\": 0, \"ticks\": \"\"}}, \"type\": \"scatter\"}], \"scatter3d\": [{\"line\": {\"colorbar\": {\"outlinewidth\": 0, \"ticks\": \"\"}}, \"marker\": {\"colorbar\": {\"outlinewidth\": 0, \"ticks\": \"\"}}, \"type\": \"scatter3d\"}], \"scattercarpet\": [{\"marker\": {\"colorbar\": {\"outlinewidth\": 0, \"ticks\": \"\"}}, \"type\": \"scattercarpet\"}], \"scattergeo\": [{\"marker\": {\"colorbar\": {\"outlinewidth\": 0, \"ticks\": \"\"}}, \"type\": \"scattergeo\"}], \"scattergl\": [{\"marker\": {\"colorbar\": {\"outlinewidth\": 0, \"ticks\": \"\"}}, \"type\": \"scattergl\"}], \"scattermapbox\": [{\"marker\": {\"colorbar\": {\"outlinewidth\": 0, \"ticks\": \"\"}}, \"type\": \"scattermapbox\"}], \"scatterpolar\": [{\"marker\": {\"colorbar\": {\"outlinewidth\": 0, \"ticks\": \"\"}}, \"type\": \"scatterpolar\"}], \"scatterpolargl\": [{\"marker\": {\"colorbar\": {\"outlinewidth\": 0, \"ticks\": \"\"}}, \"type\": \"scatterpolargl\"}], \"scatterternary\": [{\"marker\": {\"colorbar\": {\"outlinewidth\": 0, \"ticks\": \"\"}}, \"type\": \"scatterternary\"}], \"surface\": [{\"colorbar\": {\"outlinewidth\": 0, \"ticks\": \"\"}, \"colorscale\": [[0.0, \"#0d0887\"], [0.1111111111111111, \"#46039f\"], [0.2222222222222222, \"#7201a8\"], [0.3333333333333333, \"#9c179e\"], [0.4444444444444444, \"#bd3786\"], [0.5555555555555556, \"#d8576b\"], [0.6666666666666666, \"#ed7953\"], [0.7777777777777778, \"#fb9f3a\"], [0.8888888888888888, \"#fdca26\"], [1.0, \"#f0f921\"]], \"type\": \"surface\"}], \"table\": [{\"cells\": {\"fill\": {\"color\": \"#EBF0F8\"}, \"line\": {\"color\": \"white\"}}, \"header\": {\"fill\": {\"color\": \"#C8D4E3\"}, \"line\": {\"color\": \"white\"}}, \"type\": \"table\"}]}, \"layout\": {\"annotationdefaults\": {\"arrowcolor\": \"#2a3f5f\", \"arrowhead\": 0, \"arrowwidth\": 1}, \"coloraxis\": {\"colorbar\": {\"outlinewidth\": 0, \"ticks\": \"\"}}, \"colorscale\": {\"diverging\": [[0, \"#8e0152\"], [0.1, \"#c51b7d\"], [0.2, \"#de77ae\"], [0.3, \"#f1b6da\"], [0.4, \"#fde0ef\"], [0.5, \"#f7f7f7\"], [0.6, \"#e6f5d0\"], [0.7, \"#b8e186\"], [0.8, \"#7fbc41\"], [0.9, \"#4d9221\"], [1, \"#276419\"]], \"sequential\": [[0.0, \"#0d0887\"], [0.1111111111111111, \"#46039f\"], [0.2222222222222222, \"#7201a8\"], [0.3333333333333333, \"#9c179e\"], [0.4444444444444444, \"#bd3786\"], [0.5555555555555556, \"#d8576b\"], [0.6666666666666666, \"#ed7953\"], [0.7777777777777778, \"#fb9f3a\"], [0.8888888888888888, \"#fdca26\"], [1.0, \"#f0f921\"]], \"sequentialminus\": [[0.0, \"#0d0887\"], [0.1111111111111111, \"#46039f\"], [0.2222222222222222, \"#7201a8\"], [0.3333333333333333, \"#9c179e\"], [0.4444444444444444, \"#bd3786\"], [0.5555555555555556, \"#d8576b\"], [0.6666666666666666, \"#ed7953\"], [0.7777777777777778, \"#fb9f3a\"], [0.8888888888888888, \"#fdca26\"], [1.0, \"#f0f921\"]]}, \"colorway\": [\"#636efa\", \"#EF553B\", \"#00cc96\", \"#ab63fa\", \"#FFA15A\", \"#19d3f3\", \"#FF6692\", \"#B6E880\", \"#FF97FF\", \"#FECB52\"], \"font\": {\"color\": \"#2a3f5f\"}, \"geo\": {\"bgcolor\": \"white\", \"lakecolor\": \"white\", \"landcolor\": \"#E5ECF6\", \"showlakes\": true, \"showland\": true, \"subunitcolor\": \"white\"}, \"hoverlabel\": {\"align\": \"left\"}, \"hovermode\": \"closest\", \"mapbox\": {\"style\": \"light\"}, \"paper_bgcolor\": \"white\", \"plot_bgcolor\": \"#E5ECF6\", \"polar\": {\"angularaxis\": {\"gridcolor\": \"white\", \"linecolor\": \"white\", \"ticks\": \"\"}, \"bgcolor\": \"#E5ECF6\", \"radialaxis\": {\"gridcolor\": \"white\", \"linecolor\": \"white\", \"ticks\": \"\"}}, \"scene\": {\"xaxis\": {\"backgroundcolor\": \"#E5ECF6\", \"gridcolor\": \"white\", \"gridwidth\": 2, \"linecolor\": \"white\", \"showbackground\": true, \"ticks\": \"\", \"zerolinecolor\": \"white\"}, \"yaxis\": {\"backgroundcolor\": \"#E5ECF6\", \"gridcolor\": \"white\", \"gridwidth\": 2, \"linecolor\": \"white\", \"showbackground\": true, \"ticks\": \"\", \"zerolinecolor\": \"white\"}, \"zaxis\": {\"backgroundcolor\": \"#E5ECF6\", \"gridcolor\": \"white\", \"gridwidth\": 2, \"linecolor\": \"white\", \"showbackground\": true, \"ticks\": \"\", \"zerolinecolor\": \"white\"}}, \"shapedefaults\": {\"line\": {\"color\": \"#2a3f5f\"}}, \"ternary\": {\"aaxis\": {\"gridcolor\": \"white\", \"linecolor\": \"white\", \"ticks\": \"\"}, \"baxis\": {\"gridcolor\": \"white\", \"linecolor\": \"white\", \"ticks\": \"\"}, \"bgcolor\": \"#E5ECF6\", \"caxis\": {\"gridcolor\": \"white\", \"linecolor\": \"white\", \"ticks\": \"\"}}, \"title\": {\"x\": 0.05}, \"xaxis\": {\"automargin\": true, \"gridcolor\": \"white\", \"linecolor\": \"white\", \"ticks\": \"\", \"title\": {\"standoff\": 15}, \"zerolinecolor\": \"white\", \"zerolinewidth\": 2}, \"yaxis\": {\"automargin\": true, \"gridcolor\": \"white\", \"linecolor\": \"white\", \"ticks\": \"\", \"title\": {\"standoff\": 15}, \"zerolinecolor\": \"white\", \"zerolinewidth\": 2}}}, \"xaxis\": {\"anchor\": \"y\", \"categoryarray\": [\"Team 1\", \"Team 2\", \"Team 3\", \"Team 4\", \"Team 5\", \"Team 6\", \"Team 7\", \"Team 8\", \"Team 9\", \"Team 10\", \"Team 11\", \"Team 12\", \"Team 13\", \"Team 14\", \"Team 15\", \"Team 16\", \"Team 17\", \"Team 18\", \"Team 19\", \"Team 20\", \"Team 21\", \"Team 22\", \"Team 23\", \"Team 24\", \"Team 25\", \"Team 26\", \"Team 27\", \"Team 28\", \"Team 29\", \"Team 30\", \"Team 31\", \"Team 32\", \"Team 33\", \"Team 34\", \"Team 35\", \"Team 36\", \"Team 37\", \"Team 38\", \"Team 39\", \"Team 40\", \"Team 41\", \"Team 42\", \"Team 43\", \"Team 44\", \"Team 45\", \"Team 46\", \"Team 47\", \"Team 48\", \"Team 49\", \"Team 50\", \"Team 51\", \"Team 52\", \"Team 53\", \"Team 54\", \"Team 55\", \"Team 56\", \"Team 57\", \"Team 58\", \"Team 59\", \"Team 60\", \"Team 61\"], \"categoryorder\": \"array\", \"domain\": [0.0, 1.0], \"title\": {\"text\": \"Team\"}}, \"yaxis\": {\"anchor\": \"x\", \"domain\": [0.0, 1.0], \"title\": {\"text\": \"WinRate\"}}},\n",
       "                        {\"responsive\": true}\n",
       "                    ).then(function(){\n",
       "                            \n",
       "var gd = document.getElementById('6399b736-adc2-492e-82fb-939b2549ba72');\n",
       "var x = new MutationObserver(function (mutations, observer) {{\n",
       "        var display = window.getComputedStyle(gd).display;\n",
       "        if (!display || display === 'none') {{\n",
       "            console.log([gd, 'removed!']);\n",
       "            Plotly.purge(gd);\n",
       "            observer.disconnect();\n",
       "        }}\n",
       "}});\n",
       "\n",
       "// Listen for the removal of the full notebook cells\n",
       "var notebookContainer = gd.closest('#notebook-container');\n",
       "if (notebookContainer) {{\n",
       "    x.observe(notebookContainer, {childList: true});\n",
       "}}\n",
       "\n",
       "// Listen for the clearing of the current output cell\n",
       "var outputEl = gd.closest('.output');\n",
       "if (outputEl) {{\n",
       "    x.observe(outputEl, {childList: true});\n",
       "}}\n",
       "\n",
       "                        })\n",
       "                };\n",
       "                \n",
       "            </script>\n",
       "        </div>\n",
       "</body>\n",
       "</html>"
      ]
     },
     "metadata": {},
     "output_type": "display_data"
    }
   ],
   "source": [
    "# Plotting new features\n",
    "import plotly.express as px\n",
    "fig = px.scatter(Basket_new, x=\"Team\", y=\"WinRate\",color='Team')\n",
    "fig.show()"
   ]
  },
  {
   "cell_type": "code",
   "execution_count": null,
   "metadata": {
    "colab": {
     "base_uri": "https://localhost:8080/",
     "height": 542
    },
    "executionInfo": {
     "elapsed": 6,
     "status": "ok",
     "timestamp": 1638504650920,
     "user": {
      "displayName": "Shashank Shirude",
      "photoUrl": "https://lh3.googleusercontent.com/a/default-user=s64",
      "userId": "07633140671838012494"
     },
     "user_tz": -330
    },
    "id": "KcpDMeg5Aw77",
    "outputId": "3df4a710-ad50-4716-b5db-6c9b8b2f7983"
   },
   "outputs": [
    {
     "data": {
      "text/html": [
       "<html>\n",
       "<head><meta charset=\"utf-8\" /></head>\n",
       "<body>\n",
       "    <div>\n",
       "            <script src=\"https://cdnjs.cloudflare.com/ajax/libs/mathjax/2.7.5/MathJax.js?config=TeX-AMS-MML_SVG\"></script><script type=\"text/javascript\">if (window.MathJax) {MathJax.Hub.Config({SVG: {font: \"STIX-Web\"}});}</script>\n",
       "                <script type=\"text/javascript\">window.PlotlyConfig = {MathJaxConfig: 'local'};</script>\n",
       "        <script src=\"https://cdn.plot.ly/plotly-latest.min.js\"></script>    \n",
       "            <div id=\"de723994-9115-4a16-9c5a-655dcc384cca\" class=\"plotly-graph-div\" style=\"height:525px; width:100%;\"></div>\n",
       "            <script type=\"text/javascript\">\n",
       "                \n",
       "                    window.PLOTLYENV=window.PLOTLYENV || {};\n",
       "                    \n",
       "                if (document.getElementById(\"de723994-9115-4a16-9c5a-655dcc384cca\")) {\n",
       "                    Plotly.newPlot(\n",
       "                        'de723994-9115-4a16-9c5a-655dcc384cca',\n",
       "                        [{\"hoverlabel\": {\"namelength\": 0}, \"hovertemplate\": \"Team=%{x}<br>WinRate=%{y}<br>Age=%{marker.color}\", \"legendgroup\": \"\", \"marker\": {\"color\": [90, 90, 90, 88, 90, 85, 90, 90, 80, 87, 78, 80, 71, 90, 75, 84, 70, 86, 59, 68, 21, 78, 42, 60, 15, 84, 58, 79, 89, 56, 45, 76, 42, 32, 78, 28, 12, 57, 25, 41, 48, 56, 20, 5, 90, 29, 72, 23, 24, 74, 66, 90, 40, 90, 69, 3, 10, 63, 68, 64, 2], \"coloraxis\": \"coloraxis\", \"symbol\": \"circle\"}, \"mode\": \"markers\", \"name\": \"\", \"showlegend\": false, \"type\": \"scatter\", \"x\": [\"Team 1\", \"Team 2\", \"Team 3\", \"Team 4\", \"Team 5\", \"Team 6\", \"Team 7\", \"Team 8\", \"Team 9\", \"Team 10\", \"Team 11\", \"Team 12\", \"Team 13\", \"Team 14\", \"Team 15\", \"Team 16\", \"Team 17\", \"Team 18\", \"Team 19\", \"Team 20\", \"Team 21\", \"Team 22\", \"Team 23\", \"Team 24\", \"Team 25\", \"Team 26\", \"Team 27\", \"Team 28\", \"Team 29\", \"Team 30\", \"Team 31\", \"Team 32\", \"Team 33\", \"Team 34\", \"Team 35\", \"Team 36\", \"Team 37\", \"Team 38\", \"Team 39\", \"Team 40\", \"Team 41\", \"Team 42\", \"Team 43\", \"Team 44\", \"Team 45\", \"Team 46\", \"Team 47\", \"Team 48\", \"Team 49\", \"Team 50\", \"Team 51\", \"Team 52\", \"Team 53\", \"Team 54\", \"Team 55\", \"Team 56\", \"Team 57\", \"Team 58\", \"Team 59\", \"Team 60\", \"Team 61\"], \"xaxis\": \"x\", \"y\": [0.5963070238957278, 0.5724112961622013, 0.4747513389441469, 0.4455705705705706, 0.4377262853005069, 0.4111295681063123, 0.361005331302361, 0.37532580364900087, 0.351460221550856, 0.3506944444444444, 0.36797385620915035, 0.3451118963486455, 0.31582537517053205, 0.3172268907563025, 0.3230452674897119, 0.3232169954476479, 0.3107569721115538, 0.3422818791946309, 0.33704453441295545, 0.33485401459854014, 0.4117647058823529, 0.29380053908355797, 0.2898773006134969, 0.2994100294985251, 0.3223684210526316, 0.2929936305732484, 0.31376518218623484, 0.24744027303754265, 0.32894736842105265, 0.2810945273631841, 0.2907801418439716, 0.3028169014084507, 0.23214285714285715, 0.2774566473988439, 0.3083832335329341, 0.2814814814814815, 0.2719298245614035, 0.2907801418439716, 0.325, 0.26881720430107525, 0.28921568627450983, 0.29444444444444445, 0.24342105263157895, 0.30701754385964913, 0.33076923076923076, 0.22807017543859648, 0.29310344827586204, 0.25, 0.2375, 0.2777777777777778, 0.32222222222222224, 0.2916666666666667, 0.25, 0.3333333333333333, 0.19117647058823528, 0.21052631578947367, 0.21052631578947367, 0.23333333333333334, 0.23333333333333334, 0.16666666666666666, null], \"yaxis\": \"y\"}],\n",
       "                        {\"coloraxis\": {\"colorbar\": {\"title\": {\"text\": \"Age\"}}, \"colorscale\": [[0.0, \"#0d0887\"], [0.1111111111111111, \"#46039f\"], [0.2222222222222222, \"#7201a8\"], [0.3333333333333333, \"#9c179e\"], [0.4444444444444444, \"#bd3786\"], [0.5555555555555556, \"#d8576b\"], [0.6666666666666666, \"#ed7953\"], [0.7777777777777778, \"#fb9f3a\"], [0.8888888888888888, \"#fdca26\"], [1.0, \"#f0f921\"]]}, \"legend\": {\"tracegroupgap\": 0}, \"margin\": {\"t\": 60}, \"template\": {\"data\": {\"bar\": [{\"error_x\": {\"color\": \"#2a3f5f\"}, \"error_y\": {\"color\": \"#2a3f5f\"}, \"marker\": {\"line\": {\"color\": \"#E5ECF6\", \"width\": 0.5}}, \"type\": \"bar\"}], \"barpolar\": [{\"marker\": {\"line\": {\"color\": \"#E5ECF6\", \"width\": 0.5}}, \"type\": \"barpolar\"}], \"carpet\": [{\"aaxis\": {\"endlinecolor\": \"#2a3f5f\", \"gridcolor\": \"white\", \"linecolor\": \"white\", \"minorgridcolor\": \"white\", \"startlinecolor\": \"#2a3f5f\"}, \"baxis\": {\"endlinecolor\": \"#2a3f5f\", \"gridcolor\": \"white\", \"linecolor\": \"white\", \"minorgridcolor\": \"white\", \"startlinecolor\": \"#2a3f5f\"}, \"type\": \"carpet\"}], \"choropleth\": [{\"colorbar\": {\"outlinewidth\": 0, \"ticks\": \"\"}, \"type\": \"choropleth\"}], \"contour\": [{\"colorbar\": {\"outlinewidth\": 0, \"ticks\": \"\"}, \"colorscale\": [[0.0, \"#0d0887\"], [0.1111111111111111, \"#46039f\"], [0.2222222222222222, \"#7201a8\"], [0.3333333333333333, \"#9c179e\"], [0.4444444444444444, \"#bd3786\"], [0.5555555555555556, \"#d8576b\"], [0.6666666666666666, \"#ed7953\"], [0.7777777777777778, \"#fb9f3a\"], [0.8888888888888888, \"#fdca26\"], [1.0, \"#f0f921\"]], \"type\": \"contour\"}], \"contourcarpet\": [{\"colorbar\": {\"outlinewidth\": 0, \"ticks\": \"\"}, \"type\": \"contourcarpet\"}], \"heatmap\": [{\"colorbar\": {\"outlinewidth\": 0, \"ticks\": \"\"}, \"colorscale\": [[0.0, \"#0d0887\"], [0.1111111111111111, \"#46039f\"], [0.2222222222222222, \"#7201a8\"], [0.3333333333333333, \"#9c179e\"], [0.4444444444444444, \"#bd3786\"], [0.5555555555555556, \"#d8576b\"], [0.6666666666666666, \"#ed7953\"], [0.7777777777777778, \"#fb9f3a\"], [0.8888888888888888, \"#fdca26\"], [1.0, \"#f0f921\"]], \"type\": \"heatmap\"}], \"heatmapgl\": [{\"colorbar\": {\"outlinewidth\": 0, \"ticks\": \"\"}, \"colorscale\": [[0.0, \"#0d0887\"], [0.1111111111111111, \"#46039f\"], [0.2222222222222222, \"#7201a8\"], [0.3333333333333333, \"#9c179e\"], [0.4444444444444444, \"#bd3786\"], [0.5555555555555556, \"#d8576b\"], [0.6666666666666666, \"#ed7953\"], [0.7777777777777778, \"#fb9f3a\"], [0.8888888888888888, \"#fdca26\"], [1.0, \"#f0f921\"]], \"type\": \"heatmapgl\"}], \"histogram\": [{\"marker\": {\"colorbar\": {\"outlinewidth\": 0, \"ticks\": \"\"}}, \"type\": \"histogram\"}], \"histogram2d\": [{\"colorbar\": {\"outlinewidth\": 0, \"ticks\": \"\"}, \"colorscale\": [[0.0, \"#0d0887\"], [0.1111111111111111, \"#46039f\"], [0.2222222222222222, \"#7201a8\"], [0.3333333333333333, \"#9c179e\"], [0.4444444444444444, \"#bd3786\"], [0.5555555555555556, \"#d8576b\"], [0.6666666666666666, \"#ed7953\"], [0.7777777777777778, \"#fb9f3a\"], [0.8888888888888888, \"#fdca26\"], [1.0, \"#f0f921\"]], \"type\": \"histogram2d\"}], \"histogram2dcontour\": [{\"colorbar\": {\"outlinewidth\": 0, \"ticks\": \"\"}, \"colorscale\": [[0.0, \"#0d0887\"], [0.1111111111111111, \"#46039f\"], [0.2222222222222222, \"#7201a8\"], [0.3333333333333333, \"#9c179e\"], [0.4444444444444444, \"#bd3786\"], [0.5555555555555556, \"#d8576b\"], [0.6666666666666666, \"#ed7953\"], [0.7777777777777778, \"#fb9f3a\"], [0.8888888888888888, \"#fdca26\"], [1.0, \"#f0f921\"]], \"type\": \"histogram2dcontour\"}], \"mesh3d\": [{\"colorbar\": {\"outlinewidth\": 0, \"ticks\": \"\"}, \"type\": \"mesh3d\"}], \"parcoords\": [{\"line\": {\"colorbar\": {\"outlinewidth\": 0, \"ticks\": \"\"}}, \"type\": \"parcoords\"}], \"pie\": [{\"automargin\": true, \"type\": \"pie\"}], \"scatter\": [{\"marker\": {\"colorbar\": {\"outlinewidth\": 0, \"ticks\": \"\"}}, \"type\": \"scatter\"}], \"scatter3d\": [{\"line\": {\"colorbar\": {\"outlinewidth\": 0, \"ticks\": \"\"}}, \"marker\": {\"colorbar\": {\"outlinewidth\": 0, \"ticks\": \"\"}}, \"type\": \"scatter3d\"}], \"scattercarpet\": [{\"marker\": {\"colorbar\": {\"outlinewidth\": 0, \"ticks\": \"\"}}, \"type\": \"scattercarpet\"}], \"scattergeo\": [{\"marker\": {\"colorbar\": {\"outlinewidth\": 0, \"ticks\": \"\"}}, \"type\": \"scattergeo\"}], \"scattergl\": [{\"marker\": {\"colorbar\": {\"outlinewidth\": 0, \"ticks\": \"\"}}, \"type\": \"scattergl\"}], \"scattermapbox\": [{\"marker\": {\"colorbar\": {\"outlinewidth\": 0, \"ticks\": \"\"}}, \"type\": \"scattermapbox\"}], \"scatterpolar\": [{\"marker\": {\"colorbar\": {\"outlinewidth\": 0, \"ticks\": \"\"}}, \"type\": \"scatterpolar\"}], \"scatterpolargl\": [{\"marker\": {\"colorbar\": {\"outlinewidth\": 0, \"ticks\": \"\"}}, \"type\": \"scatterpolargl\"}], \"scatterternary\": [{\"marker\": {\"colorbar\": {\"outlinewidth\": 0, \"ticks\": \"\"}}, \"type\": \"scatterternary\"}], \"surface\": [{\"colorbar\": {\"outlinewidth\": 0, \"ticks\": \"\"}, \"colorscale\": [[0.0, \"#0d0887\"], [0.1111111111111111, \"#46039f\"], [0.2222222222222222, \"#7201a8\"], [0.3333333333333333, \"#9c179e\"], [0.4444444444444444, \"#bd3786\"], [0.5555555555555556, \"#d8576b\"], [0.6666666666666666, \"#ed7953\"], [0.7777777777777778, \"#fb9f3a\"], [0.8888888888888888, \"#fdca26\"], [1.0, \"#f0f921\"]], \"type\": \"surface\"}], \"table\": [{\"cells\": {\"fill\": {\"color\": \"#EBF0F8\"}, \"line\": {\"color\": \"white\"}}, \"header\": {\"fill\": {\"color\": \"#C8D4E3\"}, \"line\": {\"color\": \"white\"}}, \"type\": \"table\"}]}, \"layout\": {\"annotationdefaults\": {\"arrowcolor\": \"#2a3f5f\", \"arrowhead\": 0, \"arrowwidth\": 1}, \"coloraxis\": {\"colorbar\": {\"outlinewidth\": 0, \"ticks\": \"\"}}, \"colorscale\": {\"diverging\": [[0, \"#8e0152\"], [0.1, \"#c51b7d\"], [0.2, \"#de77ae\"], [0.3, \"#f1b6da\"], [0.4, \"#fde0ef\"], [0.5, \"#f7f7f7\"], [0.6, \"#e6f5d0\"], [0.7, \"#b8e186\"], [0.8, \"#7fbc41\"], [0.9, \"#4d9221\"], [1, \"#276419\"]], \"sequential\": [[0.0, \"#0d0887\"], [0.1111111111111111, \"#46039f\"], [0.2222222222222222, \"#7201a8\"], [0.3333333333333333, \"#9c179e\"], [0.4444444444444444, \"#bd3786\"], [0.5555555555555556, \"#d8576b\"], [0.6666666666666666, \"#ed7953\"], [0.7777777777777778, \"#fb9f3a\"], [0.8888888888888888, \"#fdca26\"], [1.0, \"#f0f921\"]], \"sequentialminus\": [[0.0, \"#0d0887\"], [0.1111111111111111, \"#46039f\"], [0.2222222222222222, \"#7201a8\"], [0.3333333333333333, \"#9c179e\"], [0.4444444444444444, \"#bd3786\"], [0.5555555555555556, \"#d8576b\"], [0.6666666666666666, \"#ed7953\"], [0.7777777777777778, \"#fb9f3a\"], [0.8888888888888888, \"#fdca26\"], [1.0, \"#f0f921\"]]}, \"colorway\": [\"#636efa\", \"#EF553B\", \"#00cc96\", \"#ab63fa\", \"#FFA15A\", \"#19d3f3\", \"#FF6692\", \"#B6E880\", \"#FF97FF\", \"#FECB52\"], \"font\": {\"color\": \"#2a3f5f\"}, \"geo\": {\"bgcolor\": \"white\", \"lakecolor\": \"white\", \"landcolor\": \"#E5ECF6\", \"showlakes\": true, \"showland\": true, \"subunitcolor\": \"white\"}, \"hoverlabel\": {\"align\": \"left\"}, \"hovermode\": \"closest\", \"mapbox\": {\"style\": \"light\"}, \"paper_bgcolor\": \"white\", \"plot_bgcolor\": \"#E5ECF6\", \"polar\": {\"angularaxis\": {\"gridcolor\": \"white\", \"linecolor\": \"white\", \"ticks\": \"\"}, \"bgcolor\": \"#E5ECF6\", \"radialaxis\": {\"gridcolor\": \"white\", \"linecolor\": \"white\", \"ticks\": \"\"}}, \"scene\": {\"xaxis\": {\"backgroundcolor\": \"#E5ECF6\", \"gridcolor\": \"white\", \"gridwidth\": 2, \"linecolor\": \"white\", \"showbackground\": true, \"ticks\": \"\", \"zerolinecolor\": \"white\"}, \"yaxis\": {\"backgroundcolor\": \"#E5ECF6\", \"gridcolor\": \"white\", \"gridwidth\": 2, \"linecolor\": \"white\", \"showbackground\": true, \"ticks\": \"\", \"zerolinecolor\": \"white\"}, \"zaxis\": {\"backgroundcolor\": \"#E5ECF6\", \"gridcolor\": \"white\", \"gridwidth\": 2, \"linecolor\": \"white\", \"showbackground\": true, \"ticks\": \"\", \"zerolinecolor\": \"white\"}}, \"shapedefaults\": {\"line\": {\"color\": \"#2a3f5f\"}}, \"ternary\": {\"aaxis\": {\"gridcolor\": \"white\", \"linecolor\": \"white\", \"ticks\": \"\"}, \"baxis\": {\"gridcolor\": \"white\", \"linecolor\": \"white\", \"ticks\": \"\"}, \"bgcolor\": \"#E5ECF6\", \"caxis\": {\"gridcolor\": \"white\", \"linecolor\": \"white\", \"ticks\": \"\"}}, \"title\": {\"x\": 0.05}, \"xaxis\": {\"automargin\": true, \"gridcolor\": \"white\", \"linecolor\": \"white\", \"ticks\": \"\", \"title\": {\"standoff\": 15}, \"zerolinecolor\": \"white\", \"zerolinewidth\": 2}, \"yaxis\": {\"automargin\": true, \"gridcolor\": \"white\", \"linecolor\": \"white\", \"ticks\": \"\", \"title\": {\"standoff\": 15}, \"zerolinecolor\": \"white\", \"zerolinewidth\": 2}}}, \"xaxis\": {\"anchor\": \"y\", \"domain\": [0.0, 1.0], \"title\": {\"text\": \"Team\"}}, \"yaxis\": {\"anchor\": \"x\", \"domain\": [0.0, 1.0], \"title\": {\"text\": \"WinRate\"}}},\n",
       "                        {\"responsive\": true}\n",
       "                    ).then(function(){\n",
       "                            \n",
       "var gd = document.getElementById('de723994-9115-4a16-9c5a-655dcc384cca');\n",
       "var x = new MutationObserver(function (mutations, observer) {{\n",
       "        var display = window.getComputedStyle(gd).display;\n",
       "        if (!display || display === 'none') {{\n",
       "            console.log([gd, 'removed!']);\n",
       "            Plotly.purge(gd);\n",
       "            observer.disconnect();\n",
       "        }}\n",
       "}});\n",
       "\n",
       "// Listen for the removal of the full notebook cells\n",
       "var notebookContainer = gd.closest('#notebook-container');\n",
       "if (notebookContainer) {{\n",
       "    x.observe(notebookContainer, {childList: true});\n",
       "}}\n",
       "\n",
       "// Listen for the clearing of the current output cell\n",
       "var outputEl = gd.closest('.output');\n",
       "if (outputEl) {{\n",
       "    x.observe(outputEl, {childList: true});\n",
       "}}\n",
       "\n",
       "                        })\n",
       "                };\n",
       "                \n",
       "            </script>\n",
       "        </div>\n",
       "</body>\n",
       "</html>"
      ]
     },
     "metadata": {},
     "output_type": "display_data"
    }
   ],
   "source": [
    "# Plotting new features\n",
    "import plotly.express as px\n",
    "fig = px.scatter(Basket_new, x=\"Team\", y=\"WinRate\", color='Age')\n",
    "fig.show()"
   ]
  },
  {
   "cell_type": "code",
   "execution_count": null,
   "metadata": {
    "colab": {
     "base_uri": "https://localhost:8080/",
     "height": 542
    },
    "executionInfo": {
     "elapsed": 1367,
     "status": "ok",
     "timestamp": 1638504652283,
     "user": {
      "displayName": "Shashank Shirude",
      "photoUrl": "https://lh3.googleusercontent.com/a/default-user=s64",
      "userId": "07633140671838012494"
     },
     "user_tz": -330
    },
    "id": "G-SI2AINAw78",
    "outputId": "e02b58be-11ee-4335-d475-b19807cb041e"
   },
   "outputs": [
    {
     "data": {
      "text/html": [
       "<html>\n",
       "<head><meta charset=\"utf-8\" /></head>\n",
       "<body>\n",
       "    <div>\n",
       "            <script src=\"https://cdnjs.cloudflare.com/ajax/libs/mathjax/2.7.5/MathJax.js?config=TeX-AMS-MML_SVG\"></script><script type=\"text/javascript\">if (window.MathJax) {MathJax.Hub.Config({SVG: {font: \"STIX-Web\"}});}</script>\n",
       "                <script type=\"text/javascript\">window.PlotlyConfig = {MathJaxConfig: 'local'};</script>\n",
       "        <script src=\"https://cdn.plot.ly/plotly-latest.min.js\"></script>    \n",
       "            <div id=\"cb4d15a6-f8f6-40e6-be62-d7056940f994\" class=\"plotly-graph-div\" style=\"height:525px; width:100%;\"></div>\n",
       "            <script type=\"text/javascript\">\n",
       "                \n",
       "                    window.PLOTLYENV=window.PLOTLYENV || {};\n",
       "                    \n",
       "                if (document.getElementById(\"cb4d15a6-f8f6-40e6-be62-d7056940f994\")) {\n",
       "                    Plotly.newPlot(\n",
       "                        'cb4d15a6-f8f6-40e6-be62-d7056940f994',\n",
       "                        [{\"hoverlabel\": {\"namelength\": 0}, \"hovertemplate\": \"Team=Team 1<br>WinRate=%{x}<br>HighestPositionHeld=%{y}<br>Age=%{marker.size}\", \"legendgroup\": \"Team=Team 1\", \"marker\": {\"color\": \"#636efa\", \"size\": [90], \"sizemode\": \"area\", \"sizeref\": 0.225, \"symbol\": \"circle\"}, \"mode\": \"markers\", \"name\": \"Team=Team 1\", \"showlegend\": true, \"type\": \"scatter\", \"x\": [0.5963070238957278], \"xaxis\": \"x\", \"y\": [1], \"yaxis\": \"y\"}, {\"hoverlabel\": {\"namelength\": 0}, \"hovertemplate\": \"Team=Team 2<br>WinRate=%{x}<br>HighestPositionHeld=%{y}<br>Age=%{marker.size}\", \"legendgroup\": \"Team=Team 2\", \"marker\": {\"color\": \"#EF553B\", \"size\": [90], \"sizemode\": \"area\", \"sizeref\": 0.225, \"symbol\": \"circle\"}, \"mode\": \"markers\", \"name\": \"Team=Team 2\", \"showlegend\": true, \"type\": \"scatter\", \"x\": [0.5724112961622013], \"xaxis\": \"x\", \"y\": [1], \"yaxis\": \"y\"}, {\"hoverlabel\": {\"namelength\": 0}, \"hovertemplate\": \"Team=Team 3<br>WinRate=%{x}<br>HighestPositionHeld=%{y}<br>Age=%{marker.size}\", \"legendgroup\": \"Team=Team 3\", \"marker\": {\"color\": \"#00cc96\", \"size\": [90], \"sizemode\": \"area\", \"sizeref\": 0.225, \"symbol\": \"circle\"}, \"mode\": \"markers\", \"name\": \"Team=Team 3\", \"showlegend\": true, \"type\": \"scatter\", \"x\": [0.4747513389441469], \"xaxis\": \"x\", \"y\": [1], \"yaxis\": \"y\"}, {\"hoverlabel\": {\"namelength\": 0}, \"hovertemplate\": \"Team=Team 4<br>WinRate=%{x}<br>HighestPositionHeld=%{y}<br>Age=%{marker.size}\", \"legendgroup\": \"Team=Team 4\", \"marker\": {\"color\": \"#ab63fa\", \"size\": [88], \"sizemode\": \"area\", \"sizeref\": 0.225, \"symbol\": \"circle\"}, \"mode\": \"markers\", \"name\": \"Team=Team 4\", \"showlegend\": true, \"type\": \"scatter\", \"x\": [0.4455705705705706], \"xaxis\": \"x\", \"y\": [1], \"yaxis\": \"y\"}, {\"hoverlabel\": {\"namelength\": 0}, \"hovertemplate\": \"Team=Team 5<br>WinRate=%{x}<br>HighestPositionHeld=%{y}<br>Age=%{marker.size}\", \"legendgroup\": \"Team=Team 5\", \"marker\": {\"color\": \"#FFA15A\", \"size\": [90], \"sizemode\": \"area\", \"sizeref\": 0.225, \"symbol\": \"circle\"}, \"mode\": \"markers\", \"name\": \"Team=Team 5\", \"showlegend\": true, \"type\": \"scatter\", \"x\": [0.4377262853005069], \"xaxis\": \"x\", \"y\": [1], \"yaxis\": \"y\"}, {\"hoverlabel\": {\"namelength\": 0}, \"hovertemplate\": \"Team=Team 6<br>WinRate=%{x}<br>HighestPositionHeld=%{y}<br>Age=%{marker.size}\", \"legendgroup\": \"Team=Team 6\", \"marker\": {\"color\": \"#19d3f3\", \"size\": [85], \"sizemode\": \"area\", \"sizeref\": 0.225, \"symbol\": \"circle\"}, \"mode\": \"markers\", \"name\": \"Team=Team 6\", \"showlegend\": true, \"type\": \"scatter\", \"x\": [0.4111295681063123], \"xaxis\": \"x\", \"y\": [1], \"yaxis\": \"y\"}, {\"hoverlabel\": {\"namelength\": 0}, \"hovertemplate\": \"Team=Team 7<br>WinRate=%{x}<br>HighestPositionHeld=%{y}<br>Age=%{marker.size}\", \"legendgroup\": \"Team=Team 7\", \"marker\": {\"color\": \"#FF6692\", \"size\": [90], \"sizemode\": \"area\", \"sizeref\": 0.225, \"symbol\": \"circle\"}, \"mode\": \"markers\", \"name\": \"Team=Team 7\", \"showlegend\": true, \"type\": \"scatter\", \"x\": [0.361005331302361], \"xaxis\": \"x\", \"y\": [3], \"yaxis\": \"y\"}, {\"hoverlabel\": {\"namelength\": 0}, \"hovertemplate\": \"Team=Team 8<br>WinRate=%{x}<br>HighestPositionHeld=%{y}<br>Age=%{marker.size}\", \"legendgroup\": \"Team=Team 8\", \"marker\": {\"color\": \"#B6E880\", \"size\": [90], \"sizemode\": \"area\", \"sizeref\": 0.225, \"symbol\": \"circle\"}, \"mode\": \"markers\", \"name\": \"Team=Team 8\", \"showlegend\": true, \"type\": \"scatter\", \"x\": [0.37532580364900087], \"xaxis\": \"x\", \"y\": [1], \"yaxis\": \"y\"}, {\"hoverlabel\": {\"namelength\": 0}, \"hovertemplate\": \"Team=Team 9<br>WinRate=%{x}<br>HighestPositionHeld=%{y}<br>Age=%{marker.size}\", \"legendgroup\": \"Team=Team 9\", \"marker\": {\"color\": \"#FF97FF\", \"size\": [80], \"sizemode\": \"area\", \"sizeref\": 0.225, \"symbol\": \"circle\"}, \"mode\": \"markers\", \"name\": \"Team=Team 9\", \"showlegend\": true, \"type\": \"scatter\", \"x\": [0.351460221550856], \"xaxis\": \"x\", \"y\": [2], \"yaxis\": \"y\"}, {\"hoverlabel\": {\"namelength\": 0}, \"hovertemplate\": \"Team=Team 10<br>WinRate=%{x}<br>HighestPositionHeld=%{y}<br>Age=%{marker.size}\", \"legendgroup\": \"Team=Team 10\", \"marker\": {\"color\": \"#FECB52\", \"size\": [87], \"sizemode\": \"area\", \"sizeref\": 0.225, \"symbol\": \"circle\"}, \"mode\": \"markers\", \"name\": \"Team=Team 10\", \"showlegend\": true, \"type\": \"scatter\", \"x\": [0.3506944444444444], \"xaxis\": \"x\", \"y\": [1], \"yaxis\": \"y\"}, {\"hoverlabel\": {\"namelength\": 0}, \"hovertemplate\": \"Team=Team 11<br>WinRate=%{x}<br>HighestPositionHeld=%{y}<br>Age=%{marker.size}\", \"legendgroup\": \"Team=Team 11\", \"marker\": {\"color\": \"#636efa\", \"size\": [78], \"sizemode\": \"area\", \"sizeref\": 0.225, \"symbol\": \"circle\"}, \"mode\": \"markers\", \"name\": \"Team=Team 11\", \"showlegend\": true, \"type\": \"scatter\", \"x\": [0.36797385620915035], \"xaxis\": \"x\", \"y\": [1], \"yaxis\": \"y\"}, {\"hoverlabel\": {\"namelength\": 0}, \"hovertemplate\": \"Team=Team 12<br>WinRate=%{x}<br>HighestPositionHeld=%{y}<br>Age=%{marker.size}\", \"legendgroup\": \"Team=Team 12\", \"marker\": {\"color\": \"#EF553B\", \"size\": [80], \"sizemode\": \"area\", \"sizeref\": 0.225, \"symbol\": \"circle\"}, \"mode\": \"markers\", \"name\": \"Team=Team 12\", \"showlegend\": true, \"type\": \"scatter\", \"x\": [0.3451118963486455], \"xaxis\": \"x\", \"y\": [4], \"yaxis\": \"y\"}, {\"hoverlabel\": {\"namelength\": 0}, \"hovertemplate\": \"Team=Team 13<br>WinRate=%{x}<br>HighestPositionHeld=%{y}<br>Age=%{marker.size}\", \"legendgroup\": \"Team=Team 13\", \"marker\": {\"color\": \"#00cc96\", \"size\": [71], \"sizemode\": \"area\", \"sizeref\": 0.225, \"symbol\": \"circle\"}, \"mode\": \"markers\", \"name\": \"Team=Team 13\", \"showlegend\": true, \"type\": \"scatter\", \"x\": [0.31582537517053205], \"xaxis\": \"x\", \"y\": [4], \"yaxis\": \"y\"}, {\"hoverlabel\": {\"namelength\": 0}, \"hovertemplate\": \"Team=Team 14<br>WinRate=%{x}<br>HighestPositionHeld=%{y}<br>Age=%{marker.size}\", \"legendgroup\": \"Team=Team 14\", \"marker\": {\"color\": \"#ab63fa\", \"size\": [90], \"sizemode\": \"area\", \"sizeref\": 0.225, \"symbol\": \"circle\"}, \"mode\": \"markers\", \"name\": \"Team=Team 14\", \"showlegend\": true, \"type\": \"scatter\", \"x\": [0.3172268907563025], \"xaxis\": \"x\", \"y\": [2], \"yaxis\": \"y\"}, {\"hoverlabel\": {\"namelength\": 0}, \"hovertemplate\": \"Team=Team 15<br>WinRate=%{x}<br>HighestPositionHeld=%{y}<br>Age=%{marker.size}\", \"legendgroup\": \"Team=Team 15\", \"marker\": {\"color\": \"#FFA15A\", \"size\": [75], \"sizemode\": \"area\", \"sizeref\": 0.225, \"symbol\": \"circle\"}, \"mode\": \"markers\", \"name\": \"Team=Team 15\", \"showlegend\": true, \"type\": \"scatter\", \"x\": [0.3230452674897119], \"xaxis\": \"x\", \"y\": [2], \"yaxis\": \"y\"}, {\"hoverlabel\": {\"namelength\": 0}, \"hovertemplate\": \"Team=Team 16<br>WinRate=%{x}<br>HighestPositionHeld=%{y}<br>Age=%{marker.size}\", \"legendgroup\": \"Team=Team 16\", \"marker\": {\"color\": \"#19d3f3\", \"size\": [84], \"sizemode\": \"area\", \"sizeref\": 0.225, \"symbol\": \"circle\"}, \"mode\": \"markers\", \"name\": \"Team=Team 16\", \"showlegend\": true, \"type\": \"scatter\", \"x\": [0.3232169954476479], \"xaxis\": \"x\", \"y\": [4], \"yaxis\": \"y\"}, {\"hoverlabel\": {\"namelength\": 0}, \"hovertemplate\": \"Team=Team 17<br>WinRate=%{x}<br>HighestPositionHeld=%{y}<br>Age=%{marker.size}\", \"legendgroup\": \"Team=Team 17\", \"marker\": {\"color\": \"#FF6692\", \"size\": [70], \"sizemode\": \"area\", \"sizeref\": 0.225, \"symbol\": \"circle\"}, \"mode\": \"markers\", \"name\": \"Team=Team 17\", \"showlegend\": true, \"type\": \"scatter\", \"x\": [0.3107569721115538], \"xaxis\": \"x\", \"y\": [4], \"yaxis\": \"y\"}, {\"hoverlabel\": {\"namelength\": 0}, \"hovertemplate\": \"Team=Team 18<br>WinRate=%{x}<br>HighestPositionHeld=%{y}<br>Age=%{marker.size}\", \"legendgroup\": \"Team=Team 18\", \"marker\": {\"color\": \"#B6E880\", \"size\": [86], \"sizemode\": \"area\", \"sizeref\": 0.225, \"symbol\": \"circle\"}, \"mode\": \"markers\", \"name\": \"Team=Team 18\", \"showlegend\": true, \"type\": \"scatter\", \"x\": [0.3422818791946309], \"xaxis\": \"x\", \"y\": [3], \"yaxis\": \"y\"}, {\"hoverlabel\": {\"namelength\": 0}, \"hovertemplate\": \"Team=Team 19<br>WinRate=%{x}<br>HighestPositionHeld=%{y}<br>Age=%{marker.size}\", \"legendgroup\": \"Team=Team 19\", \"marker\": {\"color\": \"#FF97FF\", \"size\": [59], \"sizemode\": \"area\", \"sizeref\": 0.225, \"symbol\": \"circle\"}, \"mode\": \"markers\", \"name\": \"Team=Team 19\", \"showlegend\": true, \"type\": \"scatter\", \"x\": [0.33704453441295545], \"xaxis\": \"x\", \"y\": [3], \"yaxis\": \"y\"}, {\"hoverlabel\": {\"namelength\": 0}, \"hovertemplate\": \"Team=Team 20<br>WinRate=%{x}<br>HighestPositionHeld=%{y}<br>Age=%{marker.size}\", \"legendgroup\": \"Team=Team 20\", \"marker\": {\"color\": \"#FECB52\", \"size\": [68], \"sizemode\": \"area\", \"sizeref\": 0.225, \"symbol\": \"circle\"}, \"mode\": \"markers\", \"name\": \"Team=Team 20\", \"showlegend\": true, \"type\": \"scatter\", \"x\": [0.33485401459854014], \"xaxis\": \"x\", \"y\": [2], \"yaxis\": \"y\"}, {\"hoverlabel\": {\"namelength\": 0}, \"hovertemplate\": \"Team=Team 21<br>WinRate=%{x}<br>HighestPositionHeld=%{y}<br>Age=%{marker.size}\", \"legendgroup\": \"Team=Team 21\", \"marker\": {\"color\": \"#636efa\", \"size\": [21], \"sizemode\": \"area\", \"sizeref\": 0.225, \"symbol\": \"circle\"}, \"mode\": \"markers\", \"name\": \"Team=Team 21\", \"showlegend\": true, \"type\": \"scatter\", \"x\": [0.4117647058823529], \"xaxis\": \"x\", \"y\": [2], \"yaxis\": \"y\"}, {\"hoverlabel\": {\"namelength\": 0}, \"hovertemplate\": \"Team=Team 22<br>WinRate=%{x}<br>HighestPositionHeld=%{y}<br>Age=%{marker.size}\", \"legendgroup\": \"Team=Team 22\", \"marker\": {\"color\": \"#EF553B\", \"size\": [78], \"sizemode\": \"area\", \"sizeref\": 0.225, \"symbol\": \"circle\"}, \"mode\": \"markers\", \"name\": \"Team=Team 22\", \"showlegend\": true, \"type\": \"scatter\", \"x\": [0.29380053908355797], \"xaxis\": \"x\", \"y\": [6], \"yaxis\": \"y\"}, {\"hoverlabel\": {\"namelength\": 0}, \"hovertemplate\": \"Team=Team 23<br>WinRate=%{x}<br>HighestPositionHeld=%{y}<br>Age=%{marker.size}\", \"legendgroup\": \"Team=Team 23\", \"marker\": {\"color\": \"#00cc96\", \"size\": [42], \"sizemode\": \"area\", \"sizeref\": 0.225, \"symbol\": \"circle\"}, \"mode\": \"markers\", \"name\": \"Team=Team 23\", \"showlegend\": true, \"type\": \"scatter\", \"x\": [0.2898773006134969], \"xaxis\": \"x\", \"y\": [8], \"yaxis\": \"y\"}, {\"hoverlabel\": {\"namelength\": 0}, \"hovertemplate\": \"Team=Team 24<br>WinRate=%{x}<br>HighestPositionHeld=%{y}<br>Age=%{marker.size}\", \"legendgroup\": \"Team=Team 24\", \"marker\": {\"color\": \"#ab63fa\", \"size\": [60], \"sizemode\": \"area\", \"sizeref\": 0.225, \"symbol\": \"circle\"}, \"mode\": \"markers\", \"name\": \"Team=Team 24\", \"showlegend\": true, \"type\": \"scatter\", \"x\": [0.2994100294985251], \"xaxis\": \"x\", \"y\": [5], \"yaxis\": \"y\"}, {\"hoverlabel\": {\"namelength\": 0}, \"hovertemplate\": \"Team=Team 25<br>WinRate=%{x}<br>HighestPositionHeld=%{y}<br>Age=%{marker.size}\", \"legendgroup\": \"Team=Team 25\", \"marker\": {\"color\": \"#FFA15A\", \"size\": [15], \"sizemode\": \"area\", \"sizeref\": 0.225, \"symbol\": \"circle\"}, \"mode\": \"markers\", \"name\": \"Team=Team 25\", \"showlegend\": true, \"type\": \"scatter\", \"x\": [0.3223684210526316], \"xaxis\": \"x\", \"y\": [6], \"yaxis\": \"y\"}, {\"hoverlabel\": {\"namelength\": 0}, \"hovertemplate\": \"Team=Team 26<br>WinRate=%{x}<br>HighestPositionHeld=%{y}<br>Age=%{marker.size}\", \"legendgroup\": \"Team=Team 26\", \"marker\": {\"color\": \"#19d3f3\", \"size\": [84], \"sizemode\": \"area\", \"sizeref\": 0.225, \"symbol\": \"circle\"}, \"mode\": \"markers\", \"name\": \"Team=Team 26\", \"showlegend\": true, \"type\": \"scatter\", \"x\": [0.2929936305732484], \"xaxis\": \"x\", \"y\": [5], \"yaxis\": \"y\"}, {\"hoverlabel\": {\"namelength\": 0}, \"hovertemplate\": \"Team=Team 27<br>WinRate=%{x}<br>HighestPositionHeld=%{y}<br>Age=%{marker.size}\", \"legendgroup\": \"Team=Team 27\", \"marker\": {\"color\": \"#FF6692\", \"size\": [58], \"sizemode\": \"area\", \"sizeref\": 0.225, \"symbol\": \"circle\"}, \"mode\": \"markers\", \"name\": \"Team=Team 27\", \"showlegend\": true, \"type\": \"scatter\", \"x\": [0.31376518218623484], \"xaxis\": \"x\", \"y\": [5], \"yaxis\": \"y\"}, {\"hoverlabel\": {\"namelength\": 0}, \"hovertemplate\": \"Team=Team 28<br>WinRate=%{x}<br>HighestPositionHeld=%{y}<br>Age=%{marker.size}\", \"legendgroup\": \"Team=Team 28\", \"marker\": {\"color\": \"#B6E880\", \"size\": [79], \"sizemode\": \"area\", \"sizeref\": 0.225, \"symbol\": \"circle\"}, \"mode\": \"markers\", \"name\": \"Team=Team 28\", \"showlegend\": true, \"type\": \"scatter\", \"x\": [0.24744027303754265], \"xaxis\": \"x\", \"y\": [11], \"yaxis\": \"y\"}, {\"hoverlabel\": {\"namelength\": 0}, \"hovertemplate\": \"Team=Team 29<br>WinRate=%{x}<br>HighestPositionHeld=%{y}<br>Age=%{marker.size}\", \"legendgroup\": \"Team=Team 29\", \"marker\": {\"color\": \"#FF97FF\", \"size\": [89], \"sizemode\": \"area\", \"sizeref\": 0.225, \"symbol\": \"circle\"}, \"mode\": \"markers\", \"name\": \"Team=Team 29\", \"showlegend\": true, \"type\": \"scatter\", \"x\": [0.32894736842105265], \"xaxis\": \"x\", \"y\": [6], \"yaxis\": \"y\"}, {\"hoverlabel\": {\"namelength\": 0}, \"hovertemplate\": \"Team=Team 30<br>WinRate=%{x}<br>HighestPositionHeld=%{y}<br>Age=%{marker.size}\", \"legendgroup\": \"Team=Team 30\", \"marker\": {\"color\": \"#FECB52\", \"size\": [56], \"sizemode\": \"area\", \"sizeref\": 0.225, \"symbol\": \"circle\"}, \"mode\": \"markers\", \"name\": \"Team=Team 30\", \"showlegend\": true, \"type\": \"scatter\", \"x\": [0.2810945273631841], \"xaxis\": \"x\", \"y\": [6], \"yaxis\": \"y\"}, {\"hoverlabel\": {\"namelength\": 0}, \"hovertemplate\": \"Team=Team 31<br>WinRate=%{x}<br>HighestPositionHeld=%{y}<br>Age=%{marker.size}\", \"legendgroup\": \"Team=Team 31\", \"marker\": {\"color\": \"#636efa\", \"size\": [45], \"sizemode\": \"area\", \"sizeref\": 0.225, \"symbol\": \"circle\"}, \"mode\": \"markers\", \"name\": \"Team=Team 31\", \"showlegend\": true, \"type\": \"scatter\", \"x\": [0.2907801418439716], \"xaxis\": \"x\", \"y\": [7], \"yaxis\": \"y\"}, {\"hoverlabel\": {\"namelength\": 0}, \"hovertemplate\": \"Team=Team 32<br>WinRate=%{x}<br>HighestPositionHeld=%{y}<br>Age=%{marker.size}\", \"legendgroup\": \"Team=Team 32\", \"marker\": {\"color\": \"#EF553B\", \"size\": [76], \"sizemode\": \"area\", \"sizeref\": 0.225, \"symbol\": \"circle\"}, \"mode\": \"markers\", \"name\": \"Team=Team 32\", \"showlegend\": true, \"type\": \"scatter\", \"x\": [0.3028169014084507], \"xaxis\": \"x\", \"y\": [4], \"yaxis\": \"y\"}, {\"hoverlabel\": {\"namelength\": 0}, \"hovertemplate\": \"Team=Team 33<br>WinRate=%{x}<br>HighestPositionHeld=%{y}<br>Age=%{marker.size}\", \"legendgroup\": \"Team=Team 33\", \"marker\": {\"color\": \"#00cc96\", \"size\": [42], \"sizemode\": \"area\", \"sizeref\": 0.225, \"symbol\": \"circle\"}, \"mode\": \"markers\", \"name\": \"Team=Team 33\", \"showlegend\": true, \"type\": \"scatter\", \"x\": [0.23214285714285715], \"xaxis\": \"x\", \"y\": [12], \"yaxis\": \"y\"}, {\"hoverlabel\": {\"namelength\": 0}, \"hovertemplate\": \"Team=Team 34<br>WinRate=%{x}<br>HighestPositionHeld=%{y}<br>Age=%{marker.size}\", \"legendgroup\": \"Team=Team 34\", \"marker\": {\"color\": \"#ab63fa\", \"size\": [32], \"sizemode\": \"area\", \"sizeref\": 0.225, \"symbol\": \"circle\"}, \"mode\": \"markers\", \"name\": \"Team=Team 34\", \"showlegend\": true, \"type\": \"scatter\", \"x\": [0.2774566473988439], \"xaxis\": \"x\", \"y\": [7], \"yaxis\": \"y\"}, {\"hoverlabel\": {\"namelength\": 0}, \"hovertemplate\": \"Team=Team 35<br>WinRate=%{x}<br>HighestPositionHeld=%{y}<br>Age=%{marker.size}\", \"legendgroup\": \"Team=Team 35\", \"marker\": {\"color\": \"#FFA15A\", \"size\": [78], \"sizemode\": \"area\", \"sizeref\": 0.225, \"symbol\": \"circle\"}, \"mode\": \"markers\", \"name\": \"Team=Team 35\", \"showlegend\": true, \"type\": \"scatter\", \"x\": [0.3083832335329341], \"xaxis\": \"x\", \"y\": [4], \"yaxis\": \"y\"}, {\"hoverlabel\": {\"namelength\": 0}, \"hovertemplate\": \"Team=Team 36<br>WinRate=%{x}<br>HighestPositionHeld=%{y}<br>Age=%{marker.size}\", \"legendgroup\": \"Team=Team 36\", \"marker\": {\"color\": \"#19d3f3\", \"size\": [28], \"sizemode\": \"area\", \"sizeref\": 0.225, \"symbol\": \"circle\"}, \"mode\": \"markers\", \"name\": \"Team=Team 36\", \"showlegend\": true, \"type\": \"scatter\", \"x\": [0.2814814814814815], \"xaxis\": \"x\", \"y\": [7], \"yaxis\": \"y\"}, {\"hoverlabel\": {\"namelength\": 0}, \"hovertemplate\": \"Team=Team 37<br>WinRate=%{x}<br>HighestPositionHeld=%{y}<br>Age=%{marker.size}\", \"legendgroup\": \"Team=Team 37\", \"marker\": {\"color\": \"#FF6692\", \"size\": [12], \"sizemode\": \"area\", \"sizeref\": 0.225, \"symbol\": \"circle\"}, \"mode\": \"markers\", \"name\": \"Team=Team 37\", \"showlegend\": true, \"type\": \"scatter\", \"x\": [0.2719298245614035], \"xaxis\": \"x\", \"y\": [8], \"yaxis\": \"y\"}, {\"hoverlabel\": {\"namelength\": 0}, \"hovertemplate\": \"Team=Team 38<br>WinRate=%{x}<br>HighestPositionHeld=%{y}<br>Age=%{marker.size}\", \"legendgroup\": \"Team=Team 38\", \"marker\": {\"color\": \"#B6E880\", \"size\": [57], \"sizemode\": \"area\", \"sizeref\": 0.225, \"symbol\": \"circle\"}, \"mode\": \"markers\", \"name\": \"Team=Team 38\", \"showlegend\": true, \"type\": \"scatter\", \"x\": [0.2907801418439716], \"xaxis\": \"x\", \"y\": [5], \"yaxis\": \"y\"}, {\"hoverlabel\": {\"namelength\": 0}, \"hovertemplate\": \"Team=Team 39<br>WinRate=%{x}<br>HighestPositionHeld=%{y}<br>Age=%{marker.size}\", \"legendgroup\": \"Team=Team 39\", \"marker\": {\"color\": \"#FF97FF\", \"size\": [25], \"sizemode\": \"area\", \"sizeref\": 0.225, \"symbol\": \"circle\"}, \"mode\": \"markers\", \"name\": \"Team=Team 39\", \"showlegend\": true, \"type\": \"scatter\", \"x\": [0.325], \"xaxis\": \"x\", \"y\": [10], \"yaxis\": \"y\"}, {\"hoverlabel\": {\"namelength\": 0}, \"hovertemplate\": \"Team=Team 40<br>WinRate=%{x}<br>HighestPositionHeld=%{y}<br>Age=%{marker.size}\", \"legendgroup\": \"Team=Team 40\", \"marker\": {\"color\": \"#FECB52\", \"size\": [41], \"sizemode\": \"area\", \"sizeref\": 0.225, \"symbol\": \"circle\"}, \"mode\": \"markers\", \"name\": \"Team=Team 40\", \"showlegend\": true, \"type\": \"scatter\", \"x\": [0.26881720430107525], \"xaxis\": \"x\", \"y\": [8], \"yaxis\": \"y\"}, {\"hoverlabel\": {\"namelength\": 0}, \"hovertemplate\": \"Team=Team 41<br>WinRate=%{x}<br>HighestPositionHeld=%{y}<br>Age=%{marker.size}\", \"legendgroup\": \"Team=Team 41\", \"marker\": {\"color\": \"#636efa\", \"size\": [48], \"sizemode\": \"area\", \"sizeref\": 0.225, \"symbol\": \"circle\"}, \"mode\": \"markers\", \"name\": \"Team=Team 41\", \"showlegend\": true, \"type\": \"scatter\", \"x\": [0.28921568627450983], \"xaxis\": \"x\", \"y\": [12], \"yaxis\": \"y\"}, {\"hoverlabel\": {\"namelength\": 0}, \"hovertemplate\": \"Team=Team 42<br>WinRate=%{x}<br>HighestPositionHeld=%{y}<br>Age=%{marker.size}\", \"legendgroup\": \"Team=Team 42\", \"marker\": {\"color\": \"#EF553B\", \"size\": [56], \"sizemode\": \"area\", \"sizeref\": 0.225, \"symbol\": \"circle\"}, \"mode\": \"markers\", \"name\": \"Team=Team 42\", \"showlegend\": true, \"type\": \"scatter\", \"x\": [0.29444444444444445], \"xaxis\": \"x\", \"y\": [7], \"yaxis\": \"y\"}, {\"hoverlabel\": {\"namelength\": 0}, \"hovertemplate\": \"Team=Team 43<br>WinRate=%{x}<br>HighestPositionHeld=%{y}<br>Age=%{marker.size}\", \"legendgroup\": \"Team=Team 43\", \"marker\": {\"color\": \"#00cc96\", \"size\": [20], \"sizemode\": \"area\", \"sizeref\": 0.225, \"symbol\": \"circle\"}, \"mode\": \"markers\", \"name\": \"Team=Team 43\", \"showlegend\": true, \"type\": \"scatter\", \"x\": [0.24342105263157895], \"xaxis\": \"x\", \"y\": [17], \"yaxis\": \"y\"}, {\"hoverlabel\": {\"namelength\": 0}, \"hovertemplate\": \"Team=Team 44<br>WinRate=%{x}<br>HighestPositionHeld=%{y}<br>Age=%{marker.size}\", \"legendgroup\": \"Team=Team 44\", \"marker\": {\"color\": \"#ab63fa\", \"size\": [5], \"sizemode\": \"area\", \"sizeref\": 0.225, \"symbol\": \"circle\"}, \"mode\": \"markers\", \"name\": \"Team=Team 44\", \"showlegend\": true, \"type\": \"scatter\", \"x\": [0.30701754385964913], \"xaxis\": \"x\", \"y\": [10], \"yaxis\": \"y\"}, {\"hoverlabel\": {\"namelength\": 0}, \"hovertemplate\": \"Team=Team 45<br>WinRate=%{x}<br>HighestPositionHeld=%{y}<br>Age=%{marker.size}\", \"legendgroup\": \"Team=Team 45\", \"marker\": {\"color\": \"#FFA15A\", \"size\": [90], \"sizemode\": \"area\", \"sizeref\": 0.225, \"symbol\": \"circle\"}, \"mode\": \"markers\", \"name\": \"Team=Team 45\", \"showlegend\": true, \"type\": \"scatter\", \"x\": [0.33076923076923076], \"xaxis\": \"x\", \"y\": [3], \"yaxis\": \"y\"}, {\"hoverlabel\": {\"namelength\": 0}, \"hovertemplate\": \"Team=Team 46<br>WinRate=%{x}<br>HighestPositionHeld=%{y}<br>Age=%{marker.size}\", \"legendgroup\": \"Team=Team 46\", \"marker\": {\"color\": \"#19d3f3\", \"size\": [29], \"sizemode\": \"area\", \"sizeref\": 0.225, \"symbol\": \"circle\"}, \"mode\": \"markers\", \"name\": \"Team=Team 46\", \"showlegend\": true, \"type\": \"scatter\", \"x\": [0.22807017543859648], \"xaxis\": \"x\", \"y\": [9], \"yaxis\": \"y\"}, {\"hoverlabel\": {\"namelength\": 0}, \"hovertemplate\": \"Team=Team 47<br>WinRate=%{x}<br>HighestPositionHeld=%{y}<br>Age=%{marker.size}\", \"legendgroup\": \"Team=Team 47\", \"marker\": {\"color\": \"#FF6692\", \"size\": [72], \"sizemode\": \"area\", \"sizeref\": 0.225, \"symbol\": \"circle\"}, \"mode\": \"markers\", \"name\": \"Team=Team 47\", \"showlegend\": true, \"type\": \"scatter\", \"x\": [0.29310344827586204], \"xaxis\": \"x\", \"y\": [7], \"yaxis\": \"y\"}, {\"hoverlabel\": {\"namelength\": 0}, \"hovertemplate\": \"Team=Team 48<br>WinRate=%{x}<br>HighestPositionHeld=%{y}<br>Age=%{marker.size}\", \"legendgroup\": \"Team=Team 48\", \"marker\": {\"color\": \"#B6E880\", \"size\": [23], \"sizemode\": \"area\", \"sizeref\": 0.225, \"symbol\": \"circle\"}, \"mode\": \"markers\", \"name\": \"Team=Team 48\", \"showlegend\": true, \"type\": \"scatter\", \"x\": [0.25], \"xaxis\": \"x\", \"y\": [17], \"yaxis\": \"y\"}, {\"hoverlabel\": {\"namelength\": 0}, \"hovertemplate\": \"Team=Team 49<br>WinRate=%{x}<br>HighestPositionHeld=%{y}<br>Age=%{marker.size}\", \"legendgroup\": \"Team=Team 49\", \"marker\": {\"color\": \"#FF97FF\", \"size\": [24], \"sizemode\": \"area\", \"sizeref\": 0.225, \"symbol\": \"circle\"}, \"mode\": \"markers\", \"name\": \"Team=Team 49\", \"showlegend\": true, \"type\": \"scatter\", \"x\": [0.2375], \"xaxis\": \"x\", \"y\": [19], \"yaxis\": \"y\"}, {\"hoverlabel\": {\"namelength\": 0}, \"hovertemplate\": \"Team=Team 50<br>WinRate=%{x}<br>HighestPositionHeld=%{y}<br>Age=%{marker.size}\", \"legendgroup\": \"Team=Team 50\", \"marker\": {\"color\": \"#FECB52\", \"size\": [74], \"sizemode\": \"area\", \"sizeref\": 0.225, \"symbol\": \"circle\"}, \"mode\": \"markers\", \"name\": \"Team=Team 50\", \"showlegend\": true, \"type\": \"scatter\", \"x\": [0.2777777777777778], \"xaxis\": \"x\", \"y\": [10], \"yaxis\": \"y\"}, {\"hoverlabel\": {\"namelength\": 0}, \"hovertemplate\": \"Team=Team 51<br>WinRate=%{x}<br>HighestPositionHeld=%{y}<br>Age=%{marker.size}\", \"legendgroup\": \"Team=Team 51\", \"marker\": {\"color\": \"#636efa\", \"size\": [66], \"sizemode\": \"area\", \"sizeref\": 0.225, \"symbol\": \"circle\"}, \"mode\": \"markers\", \"name\": \"Team=Team 51\", \"showlegend\": true, \"type\": \"scatter\", \"x\": [0.32222222222222224], \"xaxis\": \"x\", \"y\": [14], \"yaxis\": \"y\"}, {\"hoverlabel\": {\"namelength\": 0}, \"hovertemplate\": \"Team=Team 52<br>WinRate=%{x}<br>HighestPositionHeld=%{y}<br>Age=%{marker.size}\", \"legendgroup\": \"Team=Team 52\", \"marker\": {\"color\": \"#EF553B\", \"size\": [90], \"sizemode\": \"area\", \"sizeref\": 0.225, \"symbol\": \"circle\"}, \"mode\": \"markers\", \"name\": \"Team=Team 52\", \"showlegend\": true, \"type\": \"scatter\", \"x\": [0.2916666666666667], \"xaxis\": \"x\", \"y\": [6], \"yaxis\": \"y\"}, {\"hoverlabel\": {\"namelength\": 0}, \"hovertemplate\": \"Team=Team 53<br>WinRate=%{x}<br>HighestPositionHeld=%{y}<br>Age=%{marker.size}\", \"legendgroup\": \"Team=Team 53\", \"marker\": {\"color\": \"#00cc96\", \"size\": [40], \"sizemode\": \"area\", \"sizeref\": 0.225, \"symbol\": \"circle\"}, \"mode\": \"markers\", \"name\": \"Team=Team 53\", \"showlegend\": true, \"type\": \"scatter\", \"x\": [0.25], \"xaxis\": \"x\", \"y\": [10], \"yaxis\": \"y\"}, {\"hoverlabel\": {\"namelength\": 0}, \"hovertemplate\": \"Team=Team 54<br>WinRate=%{x}<br>HighestPositionHeld=%{y}<br>Age=%{marker.size}\", \"legendgroup\": \"Team=Team 54\", \"marker\": {\"color\": \"#ab63fa\", \"size\": [90], \"sizemode\": \"area\", \"sizeref\": 0.225, \"symbol\": \"circle\"}, \"mode\": \"markers\", \"name\": \"Team=Team 54\", \"showlegend\": true, \"type\": \"scatter\", \"x\": [0.3333333333333333], \"xaxis\": \"x\", \"y\": [8], \"yaxis\": \"y\"}, {\"hoverlabel\": {\"namelength\": 0}, \"hovertemplate\": \"Team=Team 55<br>WinRate=%{x}<br>HighestPositionHeld=%{y}<br>Age=%{marker.size}\", \"legendgroup\": \"Team=Team 55\", \"marker\": {\"color\": \"#FFA15A\", \"size\": [69], \"sizemode\": \"area\", \"sizeref\": 0.225, \"symbol\": \"circle\"}, \"mode\": \"markers\", \"name\": \"Team=Team 55\", \"showlegend\": true, \"type\": \"scatter\", \"x\": [0.19117647058823528], \"xaxis\": \"x\", \"y\": [16], \"yaxis\": \"y\"}, {\"hoverlabel\": {\"namelength\": 0}, \"hovertemplate\": \"Team=Team 56<br>WinRate=%{x}<br>HighestPositionHeld=%{y}<br>Age=%{marker.size}\", \"legendgroup\": \"Team=Team 56\", \"marker\": {\"color\": \"#19d3f3\", \"size\": [3], \"sizemode\": \"area\", \"sizeref\": 0.225, \"symbol\": \"circle\"}, \"mode\": \"markers\", \"name\": \"Team=Team 56\", \"showlegend\": true, \"type\": \"scatter\", \"x\": [0.21052631578947367], \"xaxis\": \"x\", \"y\": [17], \"yaxis\": \"y\"}, {\"hoverlabel\": {\"namelength\": 0}, \"hovertemplate\": \"Team=Team 57<br>WinRate=%{x}<br>HighestPositionHeld=%{y}<br>Age=%{marker.size}\", \"legendgroup\": \"Team=Team 57\", \"marker\": {\"color\": \"#FF6692\", \"size\": [10], \"sizemode\": \"area\", \"sizeref\": 0.225, \"symbol\": \"circle\"}, \"mode\": \"markers\", \"name\": \"Team=Team 57\", \"showlegend\": true, \"type\": \"scatter\", \"x\": [0.21052631578947367], \"xaxis\": \"x\", \"y\": [20], \"yaxis\": \"y\"}, {\"hoverlabel\": {\"namelength\": 0}, \"hovertemplate\": \"Team=Team 58<br>WinRate=%{x}<br>HighestPositionHeld=%{y}<br>Age=%{marker.size}\", \"legendgroup\": \"Team=Team 58\", \"marker\": {\"color\": \"#B6E880\", \"size\": [63], \"sizemode\": \"area\", \"sizeref\": 0.225, \"symbol\": \"circle\"}, \"mode\": \"markers\", \"name\": \"Team=Team 58\", \"showlegend\": true, \"type\": \"scatter\", \"x\": [0.23333333333333334], \"xaxis\": \"x\", \"y\": [16], \"yaxis\": \"y\"}, {\"hoverlabel\": {\"namelength\": 0}, \"hovertemplate\": \"Team=Team 59<br>WinRate=%{x}<br>HighestPositionHeld=%{y}<br>Age=%{marker.size}\", \"legendgroup\": \"Team=Team 59\", \"marker\": {\"color\": \"#FF97FF\", \"size\": [68], \"sizemode\": \"area\", \"sizeref\": 0.225, \"symbol\": \"circle\"}, \"mode\": \"markers\", \"name\": \"Team=Team 59\", \"showlegend\": true, \"type\": \"scatter\", \"x\": [0.23333333333333334], \"xaxis\": \"x\", \"y\": [16], \"yaxis\": \"y\"}, {\"hoverlabel\": {\"namelength\": 0}, \"hovertemplate\": \"Team=Team 60<br>WinRate=%{x}<br>HighestPositionHeld=%{y}<br>Age=%{marker.size}\", \"legendgroup\": \"Team=Team 60\", \"marker\": {\"color\": \"#FECB52\", \"size\": [64], \"sizemode\": \"area\", \"sizeref\": 0.225, \"symbol\": \"circle\"}, \"mode\": \"markers\", \"name\": \"Team=Team 60\", \"showlegend\": true, \"type\": \"scatter\", \"x\": [0.16666666666666666], \"xaxis\": \"x\", \"y\": [15], \"yaxis\": \"y\"}, {\"hoverlabel\": {\"namelength\": 0}, \"hovertemplate\": \"Team=Team 61<br>WinRate=%{x}<br>HighestPositionHeld=%{y}<br>Age=%{marker.size}\", \"legendgroup\": \"Team=Team 61\", \"marker\": {\"color\": \"#636efa\", \"size\": [2], \"sizemode\": \"area\", \"sizeref\": 0.225, \"symbol\": \"circle\"}, \"mode\": \"markers\", \"name\": \"Team=Team 61\", \"showlegend\": true, \"type\": \"scatter\", \"x\": [null], \"xaxis\": \"x\", \"y\": [9], \"yaxis\": \"y\"}],\n",
       "                        {\"legend\": {\"itemsizing\": \"constant\", \"tracegroupgap\": 0}, \"margin\": {\"t\": 60}, \"template\": {\"data\": {\"bar\": [{\"error_x\": {\"color\": \"#2a3f5f\"}, \"error_y\": {\"color\": \"#2a3f5f\"}, \"marker\": {\"line\": {\"color\": \"#E5ECF6\", \"width\": 0.5}}, \"type\": \"bar\"}], \"barpolar\": [{\"marker\": {\"line\": {\"color\": \"#E5ECF6\", \"width\": 0.5}}, \"type\": \"barpolar\"}], \"carpet\": [{\"aaxis\": {\"endlinecolor\": \"#2a3f5f\", \"gridcolor\": \"white\", \"linecolor\": \"white\", \"minorgridcolor\": \"white\", \"startlinecolor\": \"#2a3f5f\"}, \"baxis\": {\"endlinecolor\": \"#2a3f5f\", \"gridcolor\": \"white\", \"linecolor\": \"white\", \"minorgridcolor\": \"white\", \"startlinecolor\": \"#2a3f5f\"}, \"type\": \"carpet\"}], \"choropleth\": [{\"colorbar\": {\"outlinewidth\": 0, \"ticks\": \"\"}, \"type\": \"choropleth\"}], \"contour\": [{\"colorbar\": {\"outlinewidth\": 0, \"ticks\": \"\"}, \"colorscale\": [[0.0, \"#0d0887\"], [0.1111111111111111, \"#46039f\"], [0.2222222222222222, \"#7201a8\"], [0.3333333333333333, \"#9c179e\"], [0.4444444444444444, \"#bd3786\"], [0.5555555555555556, \"#d8576b\"], [0.6666666666666666, \"#ed7953\"], [0.7777777777777778, \"#fb9f3a\"], [0.8888888888888888, \"#fdca26\"], [1.0, \"#f0f921\"]], \"type\": \"contour\"}], \"contourcarpet\": [{\"colorbar\": {\"outlinewidth\": 0, \"ticks\": \"\"}, \"type\": \"contourcarpet\"}], \"heatmap\": [{\"colorbar\": {\"outlinewidth\": 0, \"ticks\": \"\"}, \"colorscale\": [[0.0, \"#0d0887\"], [0.1111111111111111, \"#46039f\"], [0.2222222222222222, \"#7201a8\"], [0.3333333333333333, \"#9c179e\"], [0.4444444444444444, \"#bd3786\"], [0.5555555555555556, \"#d8576b\"], [0.6666666666666666, \"#ed7953\"], [0.7777777777777778, \"#fb9f3a\"], [0.8888888888888888, \"#fdca26\"], [1.0, \"#f0f921\"]], \"type\": \"heatmap\"}], \"heatmapgl\": [{\"colorbar\": {\"outlinewidth\": 0, \"ticks\": \"\"}, \"colorscale\": [[0.0, \"#0d0887\"], [0.1111111111111111, \"#46039f\"], [0.2222222222222222, \"#7201a8\"], [0.3333333333333333, \"#9c179e\"], [0.4444444444444444, \"#bd3786\"], [0.5555555555555556, \"#d8576b\"], [0.6666666666666666, \"#ed7953\"], [0.7777777777777778, \"#fb9f3a\"], [0.8888888888888888, \"#fdca26\"], [1.0, \"#f0f921\"]], \"type\": \"heatmapgl\"}], \"histogram\": [{\"marker\": {\"colorbar\": {\"outlinewidth\": 0, \"ticks\": \"\"}}, \"type\": \"histogram\"}], \"histogram2d\": [{\"colorbar\": {\"outlinewidth\": 0, \"ticks\": \"\"}, \"colorscale\": [[0.0, \"#0d0887\"], [0.1111111111111111, \"#46039f\"], [0.2222222222222222, \"#7201a8\"], [0.3333333333333333, \"#9c179e\"], [0.4444444444444444, \"#bd3786\"], [0.5555555555555556, \"#d8576b\"], [0.6666666666666666, \"#ed7953\"], [0.7777777777777778, \"#fb9f3a\"], [0.8888888888888888, \"#fdca26\"], [1.0, \"#f0f921\"]], \"type\": \"histogram2d\"}], \"histogram2dcontour\": [{\"colorbar\": {\"outlinewidth\": 0, \"ticks\": \"\"}, \"colorscale\": [[0.0, \"#0d0887\"], [0.1111111111111111, \"#46039f\"], [0.2222222222222222, \"#7201a8\"], [0.3333333333333333, \"#9c179e\"], [0.4444444444444444, \"#bd3786\"], [0.5555555555555556, \"#d8576b\"], [0.6666666666666666, \"#ed7953\"], [0.7777777777777778, \"#fb9f3a\"], [0.8888888888888888, \"#fdca26\"], [1.0, \"#f0f921\"]], \"type\": \"histogram2dcontour\"}], \"mesh3d\": [{\"colorbar\": {\"outlinewidth\": 0, \"ticks\": \"\"}, \"type\": \"mesh3d\"}], \"parcoords\": [{\"line\": {\"colorbar\": {\"outlinewidth\": 0, \"ticks\": \"\"}}, \"type\": \"parcoords\"}], \"pie\": [{\"automargin\": true, \"type\": \"pie\"}], \"scatter\": [{\"marker\": {\"colorbar\": {\"outlinewidth\": 0, \"ticks\": \"\"}}, \"type\": \"scatter\"}], \"scatter3d\": [{\"line\": {\"colorbar\": {\"outlinewidth\": 0, \"ticks\": \"\"}}, \"marker\": {\"colorbar\": {\"outlinewidth\": 0, \"ticks\": \"\"}}, \"type\": \"scatter3d\"}], \"scattercarpet\": [{\"marker\": {\"colorbar\": {\"outlinewidth\": 0, \"ticks\": \"\"}}, \"type\": \"scattercarpet\"}], \"scattergeo\": [{\"marker\": {\"colorbar\": {\"outlinewidth\": 0, \"ticks\": \"\"}}, \"type\": \"scattergeo\"}], \"scattergl\": [{\"marker\": {\"colorbar\": {\"outlinewidth\": 0, \"ticks\": \"\"}}, \"type\": \"scattergl\"}], \"scattermapbox\": [{\"marker\": {\"colorbar\": {\"outlinewidth\": 0, \"ticks\": \"\"}}, \"type\": \"scattermapbox\"}], \"scatterpolar\": [{\"marker\": {\"colorbar\": {\"outlinewidth\": 0, \"ticks\": \"\"}}, \"type\": \"scatterpolar\"}], \"scatterpolargl\": [{\"marker\": {\"colorbar\": {\"outlinewidth\": 0, \"ticks\": \"\"}}, \"type\": \"scatterpolargl\"}], \"scatterternary\": [{\"marker\": {\"colorbar\": {\"outlinewidth\": 0, \"ticks\": \"\"}}, \"type\": \"scatterternary\"}], \"surface\": [{\"colorbar\": {\"outlinewidth\": 0, \"ticks\": \"\"}, \"colorscale\": [[0.0, \"#0d0887\"], [0.1111111111111111, \"#46039f\"], [0.2222222222222222, \"#7201a8\"], [0.3333333333333333, \"#9c179e\"], [0.4444444444444444, \"#bd3786\"], [0.5555555555555556, \"#d8576b\"], [0.6666666666666666, \"#ed7953\"], [0.7777777777777778, \"#fb9f3a\"], [0.8888888888888888, \"#fdca26\"], [1.0, \"#f0f921\"]], \"type\": \"surface\"}], \"table\": [{\"cells\": {\"fill\": {\"color\": \"#EBF0F8\"}, \"line\": {\"color\": \"white\"}}, \"header\": {\"fill\": {\"color\": \"#C8D4E3\"}, \"line\": {\"color\": \"white\"}}, \"type\": \"table\"}]}, \"layout\": {\"annotationdefaults\": {\"arrowcolor\": \"#2a3f5f\", \"arrowhead\": 0, \"arrowwidth\": 1}, \"coloraxis\": {\"colorbar\": {\"outlinewidth\": 0, \"ticks\": \"\"}}, \"colorscale\": {\"diverging\": [[0, \"#8e0152\"], [0.1, \"#c51b7d\"], [0.2, \"#de77ae\"], [0.3, \"#f1b6da\"], [0.4, \"#fde0ef\"], [0.5, \"#f7f7f7\"], [0.6, \"#e6f5d0\"], [0.7, \"#b8e186\"], [0.8, \"#7fbc41\"], [0.9, \"#4d9221\"], [1, \"#276419\"]], \"sequential\": [[0.0, \"#0d0887\"], [0.1111111111111111, \"#46039f\"], [0.2222222222222222, \"#7201a8\"], [0.3333333333333333, \"#9c179e\"], [0.4444444444444444, \"#bd3786\"], [0.5555555555555556, \"#d8576b\"], [0.6666666666666666, \"#ed7953\"], [0.7777777777777778, \"#fb9f3a\"], [0.8888888888888888, \"#fdca26\"], [1.0, \"#f0f921\"]], \"sequentialminus\": [[0.0, \"#0d0887\"], [0.1111111111111111, \"#46039f\"], [0.2222222222222222, \"#7201a8\"], [0.3333333333333333, \"#9c179e\"], [0.4444444444444444, \"#bd3786\"], [0.5555555555555556, \"#d8576b\"], [0.6666666666666666, \"#ed7953\"], [0.7777777777777778, \"#fb9f3a\"], [0.8888888888888888, \"#fdca26\"], [1.0, \"#f0f921\"]]}, \"colorway\": [\"#636efa\", \"#EF553B\", \"#00cc96\", \"#ab63fa\", \"#FFA15A\", \"#19d3f3\", \"#FF6692\", \"#B6E880\", \"#FF97FF\", \"#FECB52\"], \"font\": {\"color\": \"#2a3f5f\"}, \"geo\": {\"bgcolor\": \"white\", \"lakecolor\": \"white\", \"landcolor\": \"#E5ECF6\", \"showlakes\": true, \"showland\": true, \"subunitcolor\": \"white\"}, \"hoverlabel\": {\"align\": \"left\"}, \"hovermode\": \"closest\", \"mapbox\": {\"style\": \"light\"}, \"paper_bgcolor\": \"white\", \"plot_bgcolor\": \"#E5ECF6\", \"polar\": {\"angularaxis\": {\"gridcolor\": \"white\", \"linecolor\": \"white\", \"ticks\": \"\"}, \"bgcolor\": \"#E5ECF6\", \"radialaxis\": {\"gridcolor\": \"white\", \"linecolor\": \"white\", \"ticks\": \"\"}}, \"scene\": {\"xaxis\": {\"backgroundcolor\": \"#E5ECF6\", \"gridcolor\": \"white\", \"gridwidth\": 2, \"linecolor\": \"white\", \"showbackground\": true, \"ticks\": \"\", \"zerolinecolor\": \"white\"}, \"yaxis\": {\"backgroundcolor\": \"#E5ECF6\", \"gridcolor\": \"white\", \"gridwidth\": 2, \"linecolor\": \"white\", \"showbackground\": true, \"ticks\": \"\", \"zerolinecolor\": \"white\"}, \"zaxis\": {\"backgroundcolor\": \"#E5ECF6\", \"gridcolor\": \"white\", \"gridwidth\": 2, \"linecolor\": \"white\", \"showbackground\": true, \"ticks\": \"\", \"zerolinecolor\": \"white\"}}, \"shapedefaults\": {\"line\": {\"color\": \"#2a3f5f\"}}, \"ternary\": {\"aaxis\": {\"gridcolor\": \"white\", \"linecolor\": \"white\", \"ticks\": \"\"}, \"baxis\": {\"gridcolor\": \"white\", \"linecolor\": \"white\", \"ticks\": \"\"}, \"bgcolor\": \"#E5ECF6\", \"caxis\": {\"gridcolor\": \"white\", \"linecolor\": \"white\", \"ticks\": \"\"}}, \"title\": {\"x\": 0.05}, \"xaxis\": {\"automargin\": true, \"gridcolor\": \"white\", \"linecolor\": \"white\", \"ticks\": \"\", \"title\": {\"standoff\": 15}, \"zerolinecolor\": \"white\", \"zerolinewidth\": 2}, \"yaxis\": {\"automargin\": true, \"gridcolor\": \"white\", \"linecolor\": \"white\", \"ticks\": \"\", \"title\": {\"standoff\": 15}, \"zerolinecolor\": \"white\", \"zerolinewidth\": 2}}}, \"xaxis\": {\"anchor\": \"y\", \"domain\": [0.0, 1.0], \"title\": {\"text\": \"WinRate\"}}, \"yaxis\": {\"anchor\": \"x\", \"domain\": [0.0, 1.0], \"title\": {\"text\": \"HighestPositionHeld\"}}},\n",
       "                        {\"responsive\": true}\n",
       "                    ).then(function(){\n",
       "                            \n",
       "var gd = document.getElementById('cb4d15a6-f8f6-40e6-be62-d7056940f994');\n",
       "var x = new MutationObserver(function (mutations, observer) {{\n",
       "        var display = window.getComputedStyle(gd).display;\n",
       "        if (!display || display === 'none') {{\n",
       "            console.log([gd, 'removed!']);\n",
       "            Plotly.purge(gd);\n",
       "            observer.disconnect();\n",
       "        }}\n",
       "}});\n",
       "\n",
       "// Listen for the removal of the full notebook cells\n",
       "var notebookContainer = gd.closest('#notebook-container');\n",
       "if (notebookContainer) {{\n",
       "    x.observe(notebookContainer, {childList: true});\n",
       "}}\n",
       "\n",
       "// Listen for the clearing of the current output cell\n",
       "var outputEl = gd.closest('.output');\n",
       "if (outputEl) {{\n",
       "    x.observe(outputEl, {childList: true});\n",
       "}}\n",
       "\n",
       "                        })\n",
       "                };\n",
       "                \n",
       "            </script>\n",
       "        </div>\n",
       "</body>\n",
       "</html>"
      ]
     },
     "metadata": {},
     "output_type": "display_data"
    }
   ],
   "source": [
    "# Young vs old team's performance\n",
    "\n",
    "fig = px.scatter(Basket_new, x=\"WinRate\", y=\"HighestPositionHeld\",size=\"Age\",color='Team')\n",
    "fig.show()"
   ]
  },
  {
   "cell_type": "code",
   "execution_count": null,
   "metadata": {
    "colab": {
     "base_uri": "https://localhost:8080/",
     "height": 542
    },
    "executionInfo": {
     "elapsed": 8,
     "status": "ok",
     "timestamp": 1638504652284,
     "user": {
      "displayName": "Shashank Shirude",
      "photoUrl": "https://lh3.googleusercontent.com/a/default-user=s64",
      "userId": "07633140671838012494"
     },
     "user_tz": -330
    },
    "id": "rXTSupNWAw78",
    "outputId": "89f95c97-e180-46c5-b358-9c7abb537966",
    "scrolled": true
   },
   "outputs": [
    {
     "data": {
      "text/html": [
       "<html>\n",
       "<head><meta charset=\"utf-8\" /></head>\n",
       "<body>\n",
       "    <div>\n",
       "            <script src=\"https://cdnjs.cloudflare.com/ajax/libs/mathjax/2.7.5/MathJax.js?config=TeX-AMS-MML_SVG\"></script><script type=\"text/javascript\">if (window.MathJax) {MathJax.Hub.Config({SVG: {font: \"STIX-Web\"}});}</script>\n",
       "                <script type=\"text/javascript\">window.PlotlyConfig = {MathJaxConfig: 'local'};</script>\n",
       "        <script src=\"https://cdn.plot.ly/plotly-latest.min.js\"></script>    \n",
       "            <div id=\"5fe636c0-4b39-4619-8ffa-e8ee7fa008b2\" class=\"plotly-graph-div\" style=\"height:525px; width:100%;\"></div>\n",
       "            <script type=\"text/javascript\">\n",
       "                \n",
       "                    window.PLOTLYENV=window.PLOTLYENV || {};\n",
       "                    \n",
       "                if (document.getElementById(\"5fe636c0-4b39-4619-8ffa-e8ee7fa008b2\")) {\n",
       "                    Plotly.newPlot(\n",
       "                        '5fe636c0-4b39-4619-8ffa-e8ee7fa008b2',\n",
       "                        [{\"hoverlabel\": {\"namelength\": 0}, \"hovertemplate\": \"Team=%{x}<br>WinRate=%{y}<br>Age=%{marker.size}\", \"legendgroup\": \"\", \"marker\": {\"color\": \"#636efa\", \"size\": [90, 90, 90, 88, 90, 85, 90, 90, 80, 87, 78, 80, 71, 90, 75, 84, 70, 86, 59, 68, 21, 78, 42, 60, 15, 84, 58, 79, 89, 56, 45, 76, 42, 32, 78, 28, 12, 57, 25, 41, 48, 56, 20, 5, 90, 29, 72, 23, 24, 74, 66, 90, 40, 90, 69, 3, 10, 63, 68, 64, 2], \"sizemode\": \"area\", \"sizeref\": 0.225, \"symbol\": \"circle\"}, \"mode\": \"markers\", \"name\": \"\", \"showlegend\": false, \"type\": \"scatter\", \"x\": [\"Team 1\", \"Team 2\", \"Team 3\", \"Team 4\", \"Team 5\", \"Team 6\", \"Team 7\", \"Team 8\", \"Team 9\", \"Team 10\", \"Team 11\", \"Team 12\", \"Team 13\", \"Team 14\", \"Team 15\", \"Team 16\", \"Team 17\", \"Team 18\", \"Team 19\", \"Team 20\", \"Team 21\", \"Team 22\", \"Team 23\", \"Team 24\", \"Team 25\", \"Team 26\", \"Team 27\", \"Team 28\", \"Team 29\", \"Team 30\", \"Team 31\", \"Team 32\", \"Team 33\", \"Team 34\", \"Team 35\", \"Team 36\", \"Team 37\", \"Team 38\", \"Team 39\", \"Team 40\", \"Team 41\", \"Team 42\", \"Team 43\", \"Team 44\", \"Team 45\", \"Team 46\", \"Team 47\", \"Team 48\", \"Team 49\", \"Team 50\", \"Team 51\", \"Team 52\", \"Team 53\", \"Team 54\", \"Team 55\", \"Team 56\", \"Team 57\", \"Team 58\", \"Team 59\", \"Team 60\", \"Team 61\"], \"xaxis\": \"x\", \"y\": [0.5963070238957278, 0.5724112961622013, 0.4747513389441469, 0.4455705705705706, 0.4377262853005069, 0.4111295681063123, 0.361005331302361, 0.37532580364900087, 0.351460221550856, 0.3506944444444444, 0.36797385620915035, 0.3451118963486455, 0.31582537517053205, 0.3172268907563025, 0.3230452674897119, 0.3232169954476479, 0.3107569721115538, 0.3422818791946309, 0.33704453441295545, 0.33485401459854014, 0.4117647058823529, 0.29380053908355797, 0.2898773006134969, 0.2994100294985251, 0.3223684210526316, 0.2929936305732484, 0.31376518218623484, 0.24744027303754265, 0.32894736842105265, 0.2810945273631841, 0.2907801418439716, 0.3028169014084507, 0.23214285714285715, 0.2774566473988439, 0.3083832335329341, 0.2814814814814815, 0.2719298245614035, 0.2907801418439716, 0.325, 0.26881720430107525, 0.28921568627450983, 0.29444444444444445, 0.24342105263157895, 0.30701754385964913, 0.33076923076923076, 0.22807017543859648, 0.29310344827586204, 0.25, 0.2375, 0.2777777777777778, 0.32222222222222224, 0.2916666666666667, 0.25, 0.3333333333333333, 0.19117647058823528, 0.21052631578947367, 0.21052631578947367, 0.23333333333333334, 0.23333333333333334, 0.16666666666666666, null], \"yaxis\": \"y\"}],\n",
       "                        {\"legend\": {\"itemsizing\": \"constant\", \"tracegroupgap\": 0}, \"margin\": {\"t\": 60}, \"template\": {\"data\": {\"bar\": [{\"error_x\": {\"color\": \"#2a3f5f\"}, \"error_y\": {\"color\": \"#2a3f5f\"}, \"marker\": {\"line\": {\"color\": \"#E5ECF6\", \"width\": 0.5}}, \"type\": \"bar\"}], \"barpolar\": [{\"marker\": {\"line\": {\"color\": \"#E5ECF6\", \"width\": 0.5}}, \"type\": \"barpolar\"}], \"carpet\": [{\"aaxis\": {\"endlinecolor\": \"#2a3f5f\", \"gridcolor\": \"white\", \"linecolor\": \"white\", \"minorgridcolor\": \"white\", \"startlinecolor\": \"#2a3f5f\"}, \"baxis\": {\"endlinecolor\": \"#2a3f5f\", \"gridcolor\": \"white\", \"linecolor\": \"white\", \"minorgridcolor\": \"white\", \"startlinecolor\": \"#2a3f5f\"}, \"type\": \"carpet\"}], \"choropleth\": [{\"colorbar\": {\"outlinewidth\": 0, \"ticks\": \"\"}, \"type\": \"choropleth\"}], \"contour\": [{\"colorbar\": {\"outlinewidth\": 0, \"ticks\": \"\"}, \"colorscale\": [[0.0, \"#0d0887\"], [0.1111111111111111, \"#46039f\"], [0.2222222222222222, \"#7201a8\"], [0.3333333333333333, \"#9c179e\"], [0.4444444444444444, \"#bd3786\"], [0.5555555555555556, \"#d8576b\"], [0.6666666666666666, \"#ed7953\"], [0.7777777777777778, \"#fb9f3a\"], [0.8888888888888888, \"#fdca26\"], [1.0, \"#f0f921\"]], \"type\": \"contour\"}], \"contourcarpet\": [{\"colorbar\": {\"outlinewidth\": 0, \"ticks\": \"\"}, \"type\": \"contourcarpet\"}], \"heatmap\": [{\"colorbar\": {\"outlinewidth\": 0, \"ticks\": \"\"}, \"colorscale\": [[0.0, \"#0d0887\"], [0.1111111111111111, \"#46039f\"], [0.2222222222222222, \"#7201a8\"], [0.3333333333333333, \"#9c179e\"], [0.4444444444444444, \"#bd3786\"], [0.5555555555555556, \"#d8576b\"], [0.6666666666666666, \"#ed7953\"], [0.7777777777777778, \"#fb9f3a\"], [0.8888888888888888, \"#fdca26\"], [1.0, \"#f0f921\"]], \"type\": \"heatmap\"}], \"heatmapgl\": [{\"colorbar\": {\"outlinewidth\": 0, \"ticks\": \"\"}, \"colorscale\": [[0.0, \"#0d0887\"], [0.1111111111111111, \"#46039f\"], [0.2222222222222222, \"#7201a8\"], [0.3333333333333333, \"#9c179e\"], [0.4444444444444444, \"#bd3786\"], [0.5555555555555556, \"#d8576b\"], [0.6666666666666666, \"#ed7953\"], [0.7777777777777778, \"#fb9f3a\"], [0.8888888888888888, \"#fdca26\"], [1.0, \"#f0f921\"]], \"type\": \"heatmapgl\"}], \"histogram\": [{\"marker\": {\"colorbar\": {\"outlinewidth\": 0, \"ticks\": \"\"}}, \"type\": \"histogram\"}], \"histogram2d\": [{\"colorbar\": {\"outlinewidth\": 0, \"ticks\": \"\"}, \"colorscale\": [[0.0, \"#0d0887\"], [0.1111111111111111, \"#46039f\"], [0.2222222222222222, \"#7201a8\"], [0.3333333333333333, \"#9c179e\"], [0.4444444444444444, \"#bd3786\"], [0.5555555555555556, \"#d8576b\"], [0.6666666666666666, \"#ed7953\"], [0.7777777777777778, \"#fb9f3a\"], [0.8888888888888888, \"#fdca26\"], [1.0, \"#f0f921\"]], \"type\": \"histogram2d\"}], \"histogram2dcontour\": [{\"colorbar\": {\"outlinewidth\": 0, \"ticks\": \"\"}, \"colorscale\": [[0.0, \"#0d0887\"], [0.1111111111111111, \"#46039f\"], [0.2222222222222222, \"#7201a8\"], [0.3333333333333333, \"#9c179e\"], [0.4444444444444444, \"#bd3786\"], [0.5555555555555556, \"#d8576b\"], [0.6666666666666666, \"#ed7953\"], [0.7777777777777778, \"#fb9f3a\"], [0.8888888888888888, \"#fdca26\"], [1.0, \"#f0f921\"]], \"type\": \"histogram2dcontour\"}], \"mesh3d\": [{\"colorbar\": {\"outlinewidth\": 0, \"ticks\": \"\"}, \"type\": \"mesh3d\"}], \"parcoords\": [{\"line\": {\"colorbar\": {\"outlinewidth\": 0, \"ticks\": \"\"}}, \"type\": \"parcoords\"}], \"pie\": [{\"automargin\": true, \"type\": \"pie\"}], \"scatter\": [{\"marker\": {\"colorbar\": {\"outlinewidth\": 0, \"ticks\": \"\"}}, \"type\": \"scatter\"}], \"scatter3d\": [{\"line\": {\"colorbar\": {\"outlinewidth\": 0, \"ticks\": \"\"}}, \"marker\": {\"colorbar\": {\"outlinewidth\": 0, \"ticks\": \"\"}}, \"type\": \"scatter3d\"}], \"scattercarpet\": [{\"marker\": {\"colorbar\": {\"outlinewidth\": 0, \"ticks\": \"\"}}, \"type\": \"scattercarpet\"}], \"scattergeo\": [{\"marker\": {\"colorbar\": {\"outlinewidth\": 0, \"ticks\": \"\"}}, \"type\": \"scattergeo\"}], \"scattergl\": [{\"marker\": {\"colorbar\": {\"outlinewidth\": 0, \"ticks\": \"\"}}, \"type\": \"scattergl\"}], \"scattermapbox\": [{\"marker\": {\"colorbar\": {\"outlinewidth\": 0, \"ticks\": \"\"}}, \"type\": \"scattermapbox\"}], \"scatterpolar\": [{\"marker\": {\"colorbar\": {\"outlinewidth\": 0, \"ticks\": \"\"}}, \"type\": \"scatterpolar\"}], \"scatterpolargl\": [{\"marker\": {\"colorbar\": {\"outlinewidth\": 0, \"ticks\": \"\"}}, \"type\": \"scatterpolargl\"}], \"scatterternary\": [{\"marker\": {\"colorbar\": {\"outlinewidth\": 0, \"ticks\": \"\"}}, \"type\": \"scatterternary\"}], \"surface\": [{\"colorbar\": {\"outlinewidth\": 0, \"ticks\": \"\"}, \"colorscale\": [[0.0, \"#0d0887\"], [0.1111111111111111, \"#46039f\"], [0.2222222222222222, \"#7201a8\"], [0.3333333333333333, \"#9c179e\"], [0.4444444444444444, \"#bd3786\"], [0.5555555555555556, \"#d8576b\"], [0.6666666666666666, \"#ed7953\"], [0.7777777777777778, \"#fb9f3a\"], [0.8888888888888888, \"#fdca26\"], [1.0, \"#f0f921\"]], \"type\": \"surface\"}], \"table\": [{\"cells\": {\"fill\": {\"color\": \"#EBF0F8\"}, \"line\": {\"color\": \"white\"}}, \"header\": {\"fill\": {\"color\": \"#C8D4E3\"}, \"line\": {\"color\": \"white\"}}, \"type\": \"table\"}]}, \"layout\": {\"annotationdefaults\": {\"arrowcolor\": \"#2a3f5f\", \"arrowhead\": 0, \"arrowwidth\": 1}, \"coloraxis\": {\"colorbar\": {\"outlinewidth\": 0, \"ticks\": \"\"}}, \"colorscale\": {\"diverging\": [[0, \"#8e0152\"], [0.1, \"#c51b7d\"], [0.2, \"#de77ae\"], [0.3, \"#f1b6da\"], [0.4, \"#fde0ef\"], [0.5, \"#f7f7f7\"], [0.6, \"#e6f5d0\"], [0.7, \"#b8e186\"], [0.8, \"#7fbc41\"], [0.9, \"#4d9221\"], [1, \"#276419\"]], \"sequential\": [[0.0, \"#0d0887\"], [0.1111111111111111, \"#46039f\"], [0.2222222222222222, \"#7201a8\"], [0.3333333333333333, \"#9c179e\"], [0.4444444444444444, \"#bd3786\"], [0.5555555555555556, \"#d8576b\"], [0.6666666666666666, \"#ed7953\"], [0.7777777777777778, \"#fb9f3a\"], [0.8888888888888888, \"#fdca26\"], [1.0, \"#f0f921\"]], \"sequentialminus\": [[0.0, \"#0d0887\"], [0.1111111111111111, \"#46039f\"], [0.2222222222222222, \"#7201a8\"], [0.3333333333333333, \"#9c179e\"], [0.4444444444444444, \"#bd3786\"], [0.5555555555555556, \"#d8576b\"], [0.6666666666666666, \"#ed7953\"], [0.7777777777777778, \"#fb9f3a\"], [0.8888888888888888, \"#fdca26\"], [1.0, \"#f0f921\"]]}, \"colorway\": [\"#636efa\", \"#EF553B\", \"#00cc96\", \"#ab63fa\", \"#FFA15A\", \"#19d3f3\", \"#FF6692\", \"#B6E880\", \"#FF97FF\", \"#FECB52\"], \"font\": {\"color\": \"#2a3f5f\"}, \"geo\": {\"bgcolor\": \"white\", \"lakecolor\": \"white\", \"landcolor\": \"#E5ECF6\", \"showlakes\": true, \"showland\": true, \"subunitcolor\": \"white\"}, \"hoverlabel\": {\"align\": \"left\"}, \"hovermode\": \"closest\", \"mapbox\": {\"style\": \"light\"}, \"paper_bgcolor\": \"white\", \"plot_bgcolor\": \"#E5ECF6\", \"polar\": {\"angularaxis\": {\"gridcolor\": \"white\", \"linecolor\": \"white\", \"ticks\": \"\"}, \"bgcolor\": \"#E5ECF6\", \"radialaxis\": {\"gridcolor\": \"white\", \"linecolor\": \"white\", \"ticks\": \"\"}}, \"scene\": {\"xaxis\": {\"backgroundcolor\": \"#E5ECF6\", \"gridcolor\": \"white\", \"gridwidth\": 2, \"linecolor\": \"white\", \"showbackground\": true, \"ticks\": \"\", \"zerolinecolor\": \"white\"}, \"yaxis\": {\"backgroundcolor\": \"#E5ECF6\", \"gridcolor\": \"white\", \"gridwidth\": 2, \"linecolor\": \"white\", \"showbackground\": true, \"ticks\": \"\", \"zerolinecolor\": \"white\"}, \"zaxis\": {\"backgroundcolor\": \"#E5ECF6\", \"gridcolor\": \"white\", \"gridwidth\": 2, \"linecolor\": \"white\", \"showbackground\": true, \"ticks\": \"\", \"zerolinecolor\": \"white\"}}, \"shapedefaults\": {\"line\": {\"color\": \"#2a3f5f\"}}, \"ternary\": {\"aaxis\": {\"gridcolor\": \"white\", \"linecolor\": \"white\", \"ticks\": \"\"}, \"baxis\": {\"gridcolor\": \"white\", \"linecolor\": \"white\", \"ticks\": \"\"}, \"bgcolor\": \"#E5ECF6\", \"caxis\": {\"gridcolor\": \"white\", \"linecolor\": \"white\", \"ticks\": \"\"}}, \"title\": {\"x\": 0.05}, \"xaxis\": {\"automargin\": true, \"gridcolor\": \"white\", \"linecolor\": \"white\", \"ticks\": \"\", \"title\": {\"standoff\": 15}, \"zerolinecolor\": \"white\", \"zerolinewidth\": 2}, \"yaxis\": {\"automargin\": true, \"gridcolor\": \"white\", \"linecolor\": \"white\", \"ticks\": \"\", \"title\": {\"standoff\": 15}, \"zerolinecolor\": \"white\", \"zerolinewidth\": 2}}}, \"xaxis\": {\"anchor\": \"y\", \"domain\": [0.0, 1.0], \"title\": {\"text\": \"Team\"}}, \"yaxis\": {\"anchor\": \"x\", \"domain\": [0.0, 1.0], \"title\": {\"text\": \"WinRate\"}}},\n",
       "                        {\"responsive\": true}\n",
       "                    ).then(function(){\n",
       "                            \n",
       "var gd = document.getElementById('5fe636c0-4b39-4619-8ffa-e8ee7fa008b2');\n",
       "var x = new MutationObserver(function (mutations, observer) {{\n",
       "        var display = window.getComputedStyle(gd).display;\n",
       "        if (!display || display === 'none') {{\n",
       "            console.log([gd, 'removed!']);\n",
       "            Plotly.purge(gd);\n",
       "            observer.disconnect();\n",
       "        }}\n",
       "}});\n",
       "\n",
       "// Listen for the removal of the full notebook cells\n",
       "var notebookContainer = gd.closest('#notebook-container');\n",
       "if (notebookContainer) {{\n",
       "    x.observe(notebookContainer, {childList: true});\n",
       "}}\n",
       "\n",
       "// Listen for the clearing of the current output cell\n",
       "var outputEl = gd.closest('.output');\n",
       "if (outputEl) {{\n",
       "    x.observe(outputEl, {childList: true});\n",
       "}}\n",
       "\n",
       "                        })\n",
       "                };\n",
       "                \n",
       "            </script>\n",
       "        </div>\n",
       "</body>\n",
       "</html>"
      ]
     },
     "metadata": {},
     "output_type": "display_data"
    }
   ],
   "source": [
    "# Young vs old team's performance\n",
    "\n",
    "fig = px.scatter(Basket_new, x=\"Team\", y=\"WinRate\",size=\"Age\")\n",
    "fig.show()"
   ]
  },
  {
   "cell_type": "markdown",
   "metadata": {
    "id": "nWGRM_15Aw78"
   },
   "source": [
    "Observations: \n",
    " \n",
    "- Young and old teams with similar performance \n",
    "\n",
    "    - Team 6:\n",
    "        1. Win Rate: 41%\n",
    "        2. Highest Position: 1\n",
    "        3. Age: 85\n",
    "    - Team 21:\n",
    "        1. Win Rate: 41%\n",
    "        2. Highest Position: 2\n",
    "        3. Age: 21\n",
    "\n",
    "- Young teams with similar performance\n",
    "\n",
    "\n",
    "    - Team 57:\n",
    "        1. Win Rate: 21%%\n",
    "        2. Highest Position: 20\n",
    "        3. Age: 10\n",
    "    - Team 56:\n",
    "        1. Win Rate: 21%\n",
    "        2. Highest Position: 17\n",
    "        3. Age: 3\n",
    "        \n",
    "There are many columns available with many combinations.  "
   ]
  },
  {
   "cell_type": "code",
   "execution_count": null,
   "metadata": {
    "colab": {
     "base_uri": "https://localhost:8080/",
     "height": 542
    },
    "executionInfo": {
     "elapsed": 863,
     "status": "ok",
     "timestamp": 1638504653142,
     "user": {
      "displayName": "Shashank Shirude",
      "photoUrl": "https://lh3.googleusercontent.com/a/default-user=s64",
      "userId": "07633140671838012494"
     },
     "user_tz": -330
    },
    "id": "EJJEyaASAw78",
    "outputId": "54fc4efd-caba-4cfe-df80-20ec31acad89"
   },
   "outputs": [
    {
     "data": {
      "text/html": [
       "<html>\n",
       "<head><meta charset=\"utf-8\" /></head>\n",
       "<body>\n",
       "    <div>\n",
       "            <script src=\"https://cdnjs.cloudflare.com/ajax/libs/mathjax/2.7.5/MathJax.js?config=TeX-AMS-MML_SVG\"></script><script type=\"text/javascript\">if (window.MathJax) {MathJax.Hub.Config({SVG: {font: \"STIX-Web\"}});}</script>\n",
       "                <script type=\"text/javascript\">window.PlotlyConfig = {MathJaxConfig: 'local'};</script>\n",
       "        <script src=\"https://cdn.plot.ly/plotly-latest.min.js\"></script>    \n",
       "            <div id=\"efc8e46f-6321-4aef-a988-9aaaa4eac184\" class=\"plotly-graph-div\" style=\"height:525px; width:100%;\"></div>\n",
       "            <script type=\"text/javascript\">\n",
       "                \n",
       "                    window.PLOTLYENV=window.PLOTLYENV || {};\n",
       "                    \n",
       "                if (document.getElementById(\"efc8e46f-6321-4aef-a988-9aaaa4eac184\")) {\n",
       "                    Plotly.newPlot(\n",
       "                        'efc8e46f-6321-4aef-a988-9aaaa4eac184',\n",
       "                        [{\"alignmentgroup\": \"True\", \"hoverlabel\": {\"namelength\": 0}, \"hovertemplate\": \"Age=%{y}\", \"legendgroup\": \"\", \"marker\": {\"color\": \"#636efa\"}, \"name\": \"\", \"notched\": false, \"offsetgroup\": \"\", \"orientation\": \"v\", \"showlegend\": false, \"type\": \"box\", \"x0\": \" \", \"xaxis\": \"x\", \"y\": [90, 90, 90, 88, 90, 85, 90, 90, 80, 87, 78, 80, 71, 90, 75, 84, 70, 86, 59, 68, 21, 78, 42, 60, 15, 84, 58, 79, 89, 56, 45, 76, 42, 32, 78, 28, 12, 57, 25, 41, 48, 56, 20, 5, 90, 29, 72, 23, 24, 74, 66, 90, 40, 90, 69, 3, 10, 63, 68, 64, 2], \"y0\": \" \", \"yaxis\": \"y\"}],\n",
       "                        {\"boxmode\": \"group\", \"legend\": {\"tracegroupgap\": 0}, \"margin\": {\"t\": 60}, \"template\": {\"data\": {\"bar\": [{\"error_x\": {\"color\": \"#2a3f5f\"}, \"error_y\": {\"color\": \"#2a3f5f\"}, \"marker\": {\"line\": {\"color\": \"#E5ECF6\", \"width\": 0.5}}, \"type\": \"bar\"}], \"barpolar\": [{\"marker\": {\"line\": {\"color\": \"#E5ECF6\", \"width\": 0.5}}, \"type\": \"barpolar\"}], \"carpet\": [{\"aaxis\": {\"endlinecolor\": \"#2a3f5f\", \"gridcolor\": \"white\", \"linecolor\": \"white\", \"minorgridcolor\": \"white\", \"startlinecolor\": \"#2a3f5f\"}, \"baxis\": {\"endlinecolor\": \"#2a3f5f\", \"gridcolor\": \"white\", \"linecolor\": \"white\", \"minorgridcolor\": \"white\", \"startlinecolor\": \"#2a3f5f\"}, \"type\": \"carpet\"}], \"choropleth\": [{\"colorbar\": {\"outlinewidth\": 0, \"ticks\": \"\"}, \"type\": \"choropleth\"}], \"contour\": [{\"colorbar\": {\"outlinewidth\": 0, \"ticks\": \"\"}, \"colorscale\": [[0.0, \"#0d0887\"], [0.1111111111111111, \"#46039f\"], [0.2222222222222222, \"#7201a8\"], [0.3333333333333333, \"#9c179e\"], [0.4444444444444444, \"#bd3786\"], [0.5555555555555556, \"#d8576b\"], [0.6666666666666666, \"#ed7953\"], [0.7777777777777778, \"#fb9f3a\"], [0.8888888888888888, \"#fdca26\"], [1.0, \"#f0f921\"]], \"type\": \"contour\"}], \"contourcarpet\": [{\"colorbar\": {\"outlinewidth\": 0, \"ticks\": \"\"}, \"type\": \"contourcarpet\"}], \"heatmap\": [{\"colorbar\": {\"outlinewidth\": 0, \"ticks\": \"\"}, \"colorscale\": [[0.0, \"#0d0887\"], [0.1111111111111111, \"#46039f\"], [0.2222222222222222, \"#7201a8\"], [0.3333333333333333, \"#9c179e\"], [0.4444444444444444, \"#bd3786\"], [0.5555555555555556, \"#d8576b\"], [0.6666666666666666, \"#ed7953\"], [0.7777777777777778, \"#fb9f3a\"], [0.8888888888888888, \"#fdca26\"], [1.0, \"#f0f921\"]], \"type\": \"heatmap\"}], \"heatmapgl\": [{\"colorbar\": {\"outlinewidth\": 0, \"ticks\": \"\"}, \"colorscale\": [[0.0, \"#0d0887\"], [0.1111111111111111, \"#46039f\"], [0.2222222222222222, \"#7201a8\"], [0.3333333333333333, \"#9c179e\"], [0.4444444444444444, \"#bd3786\"], [0.5555555555555556, \"#d8576b\"], [0.6666666666666666, \"#ed7953\"], [0.7777777777777778, \"#fb9f3a\"], [0.8888888888888888, \"#fdca26\"], [1.0, \"#f0f921\"]], \"type\": \"heatmapgl\"}], \"histogram\": [{\"marker\": {\"colorbar\": {\"outlinewidth\": 0, \"ticks\": \"\"}}, \"type\": \"histogram\"}], \"histogram2d\": [{\"colorbar\": {\"outlinewidth\": 0, \"ticks\": \"\"}, \"colorscale\": [[0.0, \"#0d0887\"], [0.1111111111111111, \"#46039f\"], [0.2222222222222222, \"#7201a8\"], [0.3333333333333333, \"#9c179e\"], [0.4444444444444444, \"#bd3786\"], [0.5555555555555556, \"#d8576b\"], [0.6666666666666666, \"#ed7953\"], [0.7777777777777778, \"#fb9f3a\"], [0.8888888888888888, \"#fdca26\"], [1.0, \"#f0f921\"]], \"type\": \"histogram2d\"}], \"histogram2dcontour\": [{\"colorbar\": {\"outlinewidth\": 0, \"ticks\": \"\"}, \"colorscale\": [[0.0, \"#0d0887\"], [0.1111111111111111, \"#46039f\"], [0.2222222222222222, \"#7201a8\"], [0.3333333333333333, \"#9c179e\"], [0.4444444444444444, \"#bd3786\"], [0.5555555555555556, \"#d8576b\"], [0.6666666666666666, \"#ed7953\"], [0.7777777777777778, \"#fb9f3a\"], [0.8888888888888888, \"#fdca26\"], [1.0, \"#f0f921\"]], \"type\": \"histogram2dcontour\"}], \"mesh3d\": [{\"colorbar\": {\"outlinewidth\": 0, \"ticks\": \"\"}, \"type\": \"mesh3d\"}], \"parcoords\": [{\"line\": {\"colorbar\": {\"outlinewidth\": 0, \"ticks\": \"\"}}, \"type\": \"parcoords\"}], \"pie\": [{\"automargin\": true, \"type\": \"pie\"}], \"scatter\": [{\"marker\": {\"colorbar\": {\"outlinewidth\": 0, \"ticks\": \"\"}}, \"type\": \"scatter\"}], \"scatter3d\": [{\"line\": {\"colorbar\": {\"outlinewidth\": 0, \"ticks\": \"\"}}, \"marker\": {\"colorbar\": {\"outlinewidth\": 0, \"ticks\": \"\"}}, \"type\": \"scatter3d\"}], \"scattercarpet\": [{\"marker\": {\"colorbar\": {\"outlinewidth\": 0, \"ticks\": \"\"}}, \"type\": \"scattercarpet\"}], \"scattergeo\": [{\"marker\": {\"colorbar\": {\"outlinewidth\": 0, \"ticks\": \"\"}}, \"type\": \"scattergeo\"}], \"scattergl\": [{\"marker\": {\"colorbar\": {\"outlinewidth\": 0, \"ticks\": \"\"}}, \"type\": \"scattergl\"}], \"scattermapbox\": [{\"marker\": {\"colorbar\": {\"outlinewidth\": 0, \"ticks\": \"\"}}, \"type\": \"scattermapbox\"}], \"scatterpolar\": [{\"marker\": {\"colorbar\": {\"outlinewidth\": 0, \"ticks\": \"\"}}, \"type\": \"scatterpolar\"}], \"scatterpolargl\": [{\"marker\": {\"colorbar\": {\"outlinewidth\": 0, \"ticks\": \"\"}}, \"type\": \"scatterpolargl\"}], \"scatterternary\": [{\"marker\": {\"colorbar\": {\"outlinewidth\": 0, \"ticks\": \"\"}}, \"type\": \"scatterternary\"}], \"surface\": [{\"colorbar\": {\"outlinewidth\": 0, \"ticks\": \"\"}, \"colorscale\": [[0.0, \"#0d0887\"], [0.1111111111111111, \"#46039f\"], [0.2222222222222222, \"#7201a8\"], [0.3333333333333333, \"#9c179e\"], [0.4444444444444444, \"#bd3786\"], [0.5555555555555556, \"#d8576b\"], [0.6666666666666666, \"#ed7953\"], [0.7777777777777778, \"#fb9f3a\"], [0.8888888888888888, \"#fdca26\"], [1.0, \"#f0f921\"]], \"type\": \"surface\"}], \"table\": [{\"cells\": {\"fill\": {\"color\": \"#EBF0F8\"}, \"line\": {\"color\": \"white\"}}, \"header\": {\"fill\": {\"color\": \"#C8D4E3\"}, \"line\": {\"color\": \"white\"}}, \"type\": \"table\"}]}, \"layout\": {\"annotationdefaults\": {\"arrowcolor\": \"#2a3f5f\", \"arrowhead\": 0, \"arrowwidth\": 1}, \"coloraxis\": {\"colorbar\": {\"outlinewidth\": 0, \"ticks\": \"\"}}, \"colorscale\": {\"diverging\": [[0, \"#8e0152\"], [0.1, \"#c51b7d\"], [0.2, \"#de77ae\"], [0.3, \"#f1b6da\"], [0.4, \"#fde0ef\"], [0.5, \"#f7f7f7\"], [0.6, \"#e6f5d0\"], [0.7, \"#b8e186\"], [0.8, \"#7fbc41\"], [0.9, \"#4d9221\"], [1, \"#276419\"]], \"sequential\": [[0.0, \"#0d0887\"], [0.1111111111111111, \"#46039f\"], [0.2222222222222222, \"#7201a8\"], [0.3333333333333333, \"#9c179e\"], [0.4444444444444444, \"#bd3786\"], [0.5555555555555556, \"#d8576b\"], [0.6666666666666666, \"#ed7953\"], [0.7777777777777778, \"#fb9f3a\"], [0.8888888888888888, \"#fdca26\"], [1.0, \"#f0f921\"]], \"sequentialminus\": [[0.0, \"#0d0887\"], [0.1111111111111111, \"#46039f\"], [0.2222222222222222, \"#7201a8\"], [0.3333333333333333, \"#9c179e\"], [0.4444444444444444, \"#bd3786\"], [0.5555555555555556, \"#d8576b\"], [0.6666666666666666, \"#ed7953\"], [0.7777777777777778, \"#fb9f3a\"], [0.8888888888888888, \"#fdca26\"], [1.0, \"#f0f921\"]]}, \"colorway\": [\"#636efa\", \"#EF553B\", \"#00cc96\", \"#ab63fa\", \"#FFA15A\", \"#19d3f3\", \"#FF6692\", \"#B6E880\", \"#FF97FF\", \"#FECB52\"], \"font\": {\"color\": \"#2a3f5f\"}, \"geo\": {\"bgcolor\": \"white\", \"lakecolor\": \"white\", \"landcolor\": \"#E5ECF6\", \"showlakes\": true, \"showland\": true, \"subunitcolor\": \"white\"}, \"hoverlabel\": {\"align\": \"left\"}, \"hovermode\": \"closest\", \"mapbox\": {\"style\": \"light\"}, \"paper_bgcolor\": \"white\", \"plot_bgcolor\": \"#E5ECF6\", \"polar\": {\"angularaxis\": {\"gridcolor\": \"white\", \"linecolor\": \"white\", \"ticks\": \"\"}, \"bgcolor\": \"#E5ECF6\", \"radialaxis\": {\"gridcolor\": \"white\", \"linecolor\": \"white\", \"ticks\": \"\"}}, \"scene\": {\"xaxis\": {\"backgroundcolor\": \"#E5ECF6\", \"gridcolor\": \"white\", \"gridwidth\": 2, \"linecolor\": \"white\", \"showbackground\": true, \"ticks\": \"\", \"zerolinecolor\": \"white\"}, \"yaxis\": {\"backgroundcolor\": \"#E5ECF6\", \"gridcolor\": \"white\", \"gridwidth\": 2, \"linecolor\": \"white\", \"showbackground\": true, \"ticks\": \"\", \"zerolinecolor\": \"white\"}, \"zaxis\": {\"backgroundcolor\": \"#E5ECF6\", \"gridcolor\": \"white\", \"gridwidth\": 2, \"linecolor\": \"white\", \"showbackground\": true, \"ticks\": \"\", \"zerolinecolor\": \"white\"}}, \"shapedefaults\": {\"line\": {\"color\": \"#2a3f5f\"}}, \"ternary\": {\"aaxis\": {\"gridcolor\": \"white\", \"linecolor\": \"white\", \"ticks\": \"\"}, \"baxis\": {\"gridcolor\": \"white\", \"linecolor\": \"white\", \"ticks\": \"\"}, \"bgcolor\": \"#E5ECF6\", \"caxis\": {\"gridcolor\": \"white\", \"linecolor\": \"white\", \"ticks\": \"\"}}, \"title\": {\"x\": 0.05}, \"xaxis\": {\"automargin\": true, \"gridcolor\": \"white\", \"linecolor\": \"white\", \"ticks\": \"\", \"title\": {\"standoff\": 15}, \"zerolinecolor\": \"white\", \"zerolinewidth\": 2}, \"yaxis\": {\"automargin\": true, \"gridcolor\": \"white\", \"linecolor\": \"white\", \"ticks\": \"\", \"title\": {\"standoff\": 15}, \"zerolinecolor\": \"white\", \"zerolinewidth\": 2}}}, \"xaxis\": {\"anchor\": \"y\", \"domain\": [0.0, 1.0]}, \"yaxis\": {\"anchor\": \"x\", \"domain\": [0.0, 1.0], \"title\": {\"text\": \"Age\"}}},\n",
       "                        {\"responsive\": true}\n",
       "                    ).then(function(){\n",
       "                            \n",
       "var gd = document.getElementById('efc8e46f-6321-4aef-a988-9aaaa4eac184');\n",
       "var x = new MutationObserver(function (mutations, observer) {{\n",
       "        var display = window.getComputedStyle(gd).display;\n",
       "        if (!display || display === 'none') {{\n",
       "            console.log([gd, 'removed!']);\n",
       "            Plotly.purge(gd);\n",
       "            observer.disconnect();\n",
       "        }}\n",
       "}});\n",
       "\n",
       "// Listen for the removal of the full notebook cells\n",
       "var notebookContainer = gd.closest('#notebook-container');\n",
       "if (notebookContainer) {{\n",
       "    x.observe(notebookContainer, {childList: true});\n",
       "}}\n",
       "\n",
       "// Listen for the clearing of the current output cell\n",
       "var outputEl = gd.closest('.output');\n",
       "if (outputEl) {{\n",
       "    x.observe(outputEl, {childList: true});\n",
       "}}\n",
       "\n",
       "                        })\n",
       "                };\n",
       "                \n",
       "            </script>\n",
       "        </div>\n",
       "</body>\n",
       "</html>"
      ]
     },
     "metadata": {},
     "output_type": "display_data"
    }
   ],
   "source": [
    "import plotly.express as px\n",
    "fig = px.box(Basket_new,y='Age')  # Mix match columns and comment on the statistical distribution\n",
    "fig.show()"
   ]
  },
  {
   "cell_type": "code",
   "execution_count": null,
   "metadata": {
    "colab": {
     "base_uri": "https://localhost:8080/",
     "height": 542
    },
    "executionInfo": {
     "elapsed": 8,
     "status": "ok",
     "timestamp": 1638504653142,
     "user": {
      "displayName": "Shashank Shirude",
      "photoUrl": "https://lh3.googleusercontent.com/a/default-user=s64",
      "userId": "07633140671838012494"
     },
     "user_tz": -330
    },
    "id": "VJd03hSGAw78",
    "outputId": "99750d9d-7c49-409a-aefe-b7965dc7a469"
   },
   "outputs": [
    {
     "data": {
      "text/html": [
       "<html>\n",
       "<head><meta charset=\"utf-8\" /></head>\n",
       "<body>\n",
       "    <div>\n",
       "            <script src=\"https://cdnjs.cloudflare.com/ajax/libs/mathjax/2.7.5/MathJax.js?config=TeX-AMS-MML_SVG\"></script><script type=\"text/javascript\">if (window.MathJax) {MathJax.Hub.Config({SVG: {font: \"STIX-Web\"}});}</script>\n",
       "                <script type=\"text/javascript\">window.PlotlyConfig = {MathJaxConfig: 'local'};</script>\n",
       "        <script src=\"https://cdn.plot.ly/plotly-latest.min.js\"></script>    \n",
       "            <div id=\"cfb0c127-dabd-485a-8479-971d64c4cee1\" class=\"plotly-graph-div\" style=\"height:525px; width:100%;\"></div>\n",
       "            <script type=\"text/javascript\">\n",
       "                \n",
       "                    window.PLOTLYENV=window.PLOTLYENV || {};\n",
       "                    \n",
       "                if (document.getElementById(\"cfb0c127-dabd-485a-8479-971d64c4cee1\")) {\n",
       "                    Plotly.newPlot(\n",
       "                        'cfb0c127-dabd-485a-8479-971d64c4cee1',\n",
       "                        [{\"alignmentgroup\": \"True\", \"bingroup\": \"x\", \"hoverlabel\": {\"namelength\": 0}, \"hovertemplate\": \"Age=%{x}<br>count=%{y}\", \"legendgroup\": \"\", \"marker\": {\"color\": \"#636efa\"}, \"name\": \"\", \"offsetgroup\": \"\", \"orientation\": \"v\", \"showlegend\": false, \"type\": \"histogram\", \"x\": [90, 90, 90, 88, 90, 85, 90, 90, 80, 87, 78, 80, 71, 90, 75, 84, 70, 86, 59, 68, 21, 78, 42, 60, 15, 84, 58, 79, 89, 56, 45, 76, 42, 32, 78, 28, 12, 57, 25, 41, 48, 56, 20, 5, 90, 29, 72, 23, 24, 74, 66, 90, 40, 90, 69, 3, 10, 63, 68, 64, 2], \"xaxis\": \"x\", \"yaxis\": \"y\"}],\n",
       "                        {\"barmode\": \"relative\", \"legend\": {\"tracegroupgap\": 0}, \"margin\": {\"t\": 60}, \"template\": {\"data\": {\"bar\": [{\"error_x\": {\"color\": \"#2a3f5f\"}, \"error_y\": {\"color\": \"#2a3f5f\"}, \"marker\": {\"line\": {\"color\": \"#E5ECF6\", \"width\": 0.5}}, \"type\": \"bar\"}], \"barpolar\": [{\"marker\": {\"line\": {\"color\": \"#E5ECF6\", \"width\": 0.5}}, \"type\": \"barpolar\"}], \"carpet\": [{\"aaxis\": {\"endlinecolor\": \"#2a3f5f\", \"gridcolor\": \"white\", \"linecolor\": \"white\", \"minorgridcolor\": \"white\", \"startlinecolor\": \"#2a3f5f\"}, \"baxis\": {\"endlinecolor\": \"#2a3f5f\", \"gridcolor\": \"white\", \"linecolor\": \"white\", \"minorgridcolor\": \"white\", \"startlinecolor\": \"#2a3f5f\"}, \"type\": \"carpet\"}], \"choropleth\": [{\"colorbar\": {\"outlinewidth\": 0, \"ticks\": \"\"}, \"type\": \"choropleth\"}], \"contour\": [{\"colorbar\": {\"outlinewidth\": 0, \"ticks\": \"\"}, \"colorscale\": [[0.0, \"#0d0887\"], [0.1111111111111111, \"#46039f\"], [0.2222222222222222, \"#7201a8\"], [0.3333333333333333, \"#9c179e\"], [0.4444444444444444, \"#bd3786\"], [0.5555555555555556, \"#d8576b\"], [0.6666666666666666, \"#ed7953\"], [0.7777777777777778, \"#fb9f3a\"], [0.8888888888888888, \"#fdca26\"], [1.0, \"#f0f921\"]], \"type\": \"contour\"}], \"contourcarpet\": [{\"colorbar\": {\"outlinewidth\": 0, \"ticks\": \"\"}, \"type\": \"contourcarpet\"}], \"heatmap\": [{\"colorbar\": {\"outlinewidth\": 0, \"ticks\": \"\"}, \"colorscale\": [[0.0, \"#0d0887\"], [0.1111111111111111, \"#46039f\"], [0.2222222222222222, \"#7201a8\"], [0.3333333333333333, \"#9c179e\"], [0.4444444444444444, \"#bd3786\"], [0.5555555555555556, \"#d8576b\"], [0.6666666666666666, \"#ed7953\"], [0.7777777777777778, \"#fb9f3a\"], [0.8888888888888888, \"#fdca26\"], [1.0, \"#f0f921\"]], \"type\": \"heatmap\"}], \"heatmapgl\": [{\"colorbar\": {\"outlinewidth\": 0, \"ticks\": \"\"}, \"colorscale\": [[0.0, \"#0d0887\"], [0.1111111111111111, \"#46039f\"], [0.2222222222222222, \"#7201a8\"], [0.3333333333333333, \"#9c179e\"], [0.4444444444444444, \"#bd3786\"], [0.5555555555555556, \"#d8576b\"], [0.6666666666666666, \"#ed7953\"], [0.7777777777777778, \"#fb9f3a\"], [0.8888888888888888, \"#fdca26\"], [1.0, \"#f0f921\"]], \"type\": \"heatmapgl\"}], \"histogram\": [{\"marker\": {\"colorbar\": {\"outlinewidth\": 0, \"ticks\": \"\"}}, \"type\": \"histogram\"}], \"histogram2d\": [{\"colorbar\": {\"outlinewidth\": 0, \"ticks\": \"\"}, \"colorscale\": [[0.0, \"#0d0887\"], [0.1111111111111111, \"#46039f\"], [0.2222222222222222, \"#7201a8\"], [0.3333333333333333, \"#9c179e\"], [0.4444444444444444, \"#bd3786\"], [0.5555555555555556, \"#d8576b\"], [0.6666666666666666, \"#ed7953\"], [0.7777777777777778, \"#fb9f3a\"], [0.8888888888888888, \"#fdca26\"], [1.0, \"#f0f921\"]], \"type\": \"histogram2d\"}], \"histogram2dcontour\": [{\"colorbar\": {\"outlinewidth\": 0, \"ticks\": \"\"}, \"colorscale\": [[0.0, \"#0d0887\"], [0.1111111111111111, \"#46039f\"], [0.2222222222222222, \"#7201a8\"], [0.3333333333333333, \"#9c179e\"], [0.4444444444444444, \"#bd3786\"], [0.5555555555555556, \"#d8576b\"], [0.6666666666666666, \"#ed7953\"], [0.7777777777777778, \"#fb9f3a\"], [0.8888888888888888, \"#fdca26\"], [1.0, \"#f0f921\"]], \"type\": \"histogram2dcontour\"}], \"mesh3d\": [{\"colorbar\": {\"outlinewidth\": 0, \"ticks\": \"\"}, \"type\": \"mesh3d\"}], \"parcoords\": [{\"line\": {\"colorbar\": {\"outlinewidth\": 0, \"ticks\": \"\"}}, \"type\": \"parcoords\"}], \"pie\": [{\"automargin\": true, \"type\": \"pie\"}], \"scatter\": [{\"marker\": {\"colorbar\": {\"outlinewidth\": 0, \"ticks\": \"\"}}, \"type\": \"scatter\"}], \"scatter3d\": [{\"line\": {\"colorbar\": {\"outlinewidth\": 0, \"ticks\": \"\"}}, \"marker\": {\"colorbar\": {\"outlinewidth\": 0, \"ticks\": \"\"}}, \"type\": \"scatter3d\"}], \"scattercarpet\": [{\"marker\": {\"colorbar\": {\"outlinewidth\": 0, \"ticks\": \"\"}}, \"type\": \"scattercarpet\"}], \"scattergeo\": [{\"marker\": {\"colorbar\": {\"outlinewidth\": 0, \"ticks\": \"\"}}, \"type\": \"scattergeo\"}], \"scattergl\": [{\"marker\": {\"colorbar\": {\"outlinewidth\": 0, \"ticks\": \"\"}}, \"type\": \"scattergl\"}], \"scattermapbox\": [{\"marker\": {\"colorbar\": {\"outlinewidth\": 0, \"ticks\": \"\"}}, \"type\": \"scattermapbox\"}], \"scatterpolar\": [{\"marker\": {\"colorbar\": {\"outlinewidth\": 0, \"ticks\": \"\"}}, \"type\": \"scatterpolar\"}], \"scatterpolargl\": [{\"marker\": {\"colorbar\": {\"outlinewidth\": 0, \"ticks\": \"\"}}, \"type\": \"scatterpolargl\"}], \"scatterternary\": [{\"marker\": {\"colorbar\": {\"outlinewidth\": 0, \"ticks\": \"\"}}, \"type\": \"scatterternary\"}], \"surface\": [{\"colorbar\": {\"outlinewidth\": 0, \"ticks\": \"\"}, \"colorscale\": [[0.0, \"#0d0887\"], [0.1111111111111111, \"#46039f\"], [0.2222222222222222, \"#7201a8\"], [0.3333333333333333, \"#9c179e\"], [0.4444444444444444, \"#bd3786\"], [0.5555555555555556, \"#d8576b\"], [0.6666666666666666, \"#ed7953\"], [0.7777777777777778, \"#fb9f3a\"], [0.8888888888888888, \"#fdca26\"], [1.0, \"#f0f921\"]], \"type\": \"surface\"}], \"table\": [{\"cells\": {\"fill\": {\"color\": \"#EBF0F8\"}, \"line\": {\"color\": \"white\"}}, \"header\": {\"fill\": {\"color\": \"#C8D4E3\"}, \"line\": {\"color\": \"white\"}}, \"type\": \"table\"}]}, \"layout\": {\"annotationdefaults\": {\"arrowcolor\": \"#2a3f5f\", \"arrowhead\": 0, \"arrowwidth\": 1}, \"coloraxis\": {\"colorbar\": {\"outlinewidth\": 0, \"ticks\": \"\"}}, \"colorscale\": {\"diverging\": [[0, \"#8e0152\"], [0.1, \"#c51b7d\"], [0.2, \"#de77ae\"], [0.3, \"#f1b6da\"], [0.4, \"#fde0ef\"], [0.5, \"#f7f7f7\"], [0.6, \"#e6f5d0\"], [0.7, \"#b8e186\"], [0.8, \"#7fbc41\"], [0.9, \"#4d9221\"], [1, \"#276419\"]], \"sequential\": [[0.0, \"#0d0887\"], [0.1111111111111111, \"#46039f\"], [0.2222222222222222, \"#7201a8\"], [0.3333333333333333, \"#9c179e\"], [0.4444444444444444, \"#bd3786\"], [0.5555555555555556, \"#d8576b\"], [0.6666666666666666, \"#ed7953\"], [0.7777777777777778, \"#fb9f3a\"], [0.8888888888888888, \"#fdca26\"], [1.0, \"#f0f921\"]], \"sequentialminus\": [[0.0, \"#0d0887\"], [0.1111111111111111, \"#46039f\"], [0.2222222222222222, \"#7201a8\"], [0.3333333333333333, \"#9c179e\"], [0.4444444444444444, \"#bd3786\"], [0.5555555555555556, \"#d8576b\"], [0.6666666666666666, \"#ed7953\"], [0.7777777777777778, \"#fb9f3a\"], [0.8888888888888888, \"#fdca26\"], [1.0, \"#f0f921\"]]}, \"colorway\": [\"#636efa\", \"#EF553B\", \"#00cc96\", \"#ab63fa\", \"#FFA15A\", \"#19d3f3\", \"#FF6692\", \"#B6E880\", \"#FF97FF\", \"#FECB52\"], \"font\": {\"color\": \"#2a3f5f\"}, \"geo\": {\"bgcolor\": \"white\", \"lakecolor\": \"white\", \"landcolor\": \"#E5ECF6\", \"showlakes\": true, \"showland\": true, \"subunitcolor\": \"white\"}, \"hoverlabel\": {\"align\": \"left\"}, \"hovermode\": \"closest\", \"mapbox\": {\"style\": \"light\"}, \"paper_bgcolor\": \"white\", \"plot_bgcolor\": \"#E5ECF6\", \"polar\": {\"angularaxis\": {\"gridcolor\": \"white\", \"linecolor\": \"white\", \"ticks\": \"\"}, \"bgcolor\": \"#E5ECF6\", \"radialaxis\": {\"gridcolor\": \"white\", \"linecolor\": \"white\", \"ticks\": \"\"}}, \"scene\": {\"xaxis\": {\"backgroundcolor\": \"#E5ECF6\", \"gridcolor\": \"white\", \"gridwidth\": 2, \"linecolor\": \"white\", \"showbackground\": true, \"ticks\": \"\", \"zerolinecolor\": \"white\"}, \"yaxis\": {\"backgroundcolor\": \"#E5ECF6\", \"gridcolor\": \"white\", \"gridwidth\": 2, \"linecolor\": \"white\", \"showbackground\": true, \"ticks\": \"\", \"zerolinecolor\": \"white\"}, \"zaxis\": {\"backgroundcolor\": \"#E5ECF6\", \"gridcolor\": \"white\", \"gridwidth\": 2, \"linecolor\": \"white\", \"showbackground\": true, \"ticks\": \"\", \"zerolinecolor\": \"white\"}}, \"shapedefaults\": {\"line\": {\"color\": \"#2a3f5f\"}}, \"ternary\": {\"aaxis\": {\"gridcolor\": \"white\", \"linecolor\": \"white\", \"ticks\": \"\"}, \"baxis\": {\"gridcolor\": \"white\", \"linecolor\": \"white\", \"ticks\": \"\"}, \"bgcolor\": \"#E5ECF6\", \"caxis\": {\"gridcolor\": \"white\", \"linecolor\": \"white\", \"ticks\": \"\"}}, \"title\": {\"x\": 0.05}, \"xaxis\": {\"automargin\": true, \"gridcolor\": \"white\", \"linecolor\": \"white\", \"ticks\": \"\", \"title\": {\"standoff\": 15}, \"zerolinecolor\": \"white\", \"zerolinewidth\": 2}, \"yaxis\": {\"automargin\": true, \"gridcolor\": \"white\", \"linecolor\": \"white\", \"ticks\": \"\", \"title\": {\"standoff\": 15}, \"zerolinecolor\": \"white\", \"zerolinewidth\": 2}}}, \"xaxis\": {\"anchor\": \"y\", \"domain\": [0.0, 1.0], \"title\": {\"text\": \"Age\"}}, \"yaxis\": {\"anchor\": \"x\", \"domain\": [0.0, 1.0], \"title\": {\"text\": \"count\"}}},\n",
       "                        {\"responsive\": true}\n",
       "                    ).then(function(){\n",
       "                            \n",
       "var gd = document.getElementById('cfb0c127-dabd-485a-8479-971d64c4cee1');\n",
       "var x = new MutationObserver(function (mutations, observer) {{\n",
       "        var display = window.getComputedStyle(gd).display;\n",
       "        if (!display || display === 'none') {{\n",
       "            console.log([gd, 'removed!']);\n",
       "            Plotly.purge(gd);\n",
       "            observer.disconnect();\n",
       "        }}\n",
       "}});\n",
       "\n",
       "// Listen for the removal of the full notebook cells\n",
       "var notebookContainer = gd.closest('#notebook-container');\n",
       "if (notebookContainer) {{\n",
       "    x.observe(notebookContainer, {childList: true});\n",
       "}}\n",
       "\n",
       "// Listen for the clearing of the current output cell\n",
       "var outputEl = gd.closest('.output');\n",
       "if (outputEl) {{\n",
       "    x.observe(outputEl, {childList: true});\n",
       "}}\n",
       "\n",
       "                        })\n",
       "                };\n",
       "                \n",
       "            </script>\n",
       "        </div>\n",
       "</body>\n",
       "</html>"
      ]
     },
     "metadata": {},
     "output_type": "display_data"
    }
   ],
   "source": [
    "import plotly.express as px\n",
    "fig = px.histogram(Basket_new, x=\"Age\")  # Mix match columns and comment on the statistical distribution\n",
    "fig.show()"
   ]
  },
  {
   "cell_type": "code",
   "execution_count": null,
   "metadata": {
    "colab": {
     "base_uri": "https://localhost:8080/"
    },
    "executionInfo": {
     "elapsed": 769,
     "status": "ok",
     "timestamp": 1638504653905,
     "user": {
      "displayName": "Shashank Shirude",
      "photoUrl": "https://lh3.googleusercontent.com/a/default-user=s64",
      "userId": "07633140671838012494"
     },
     "user_tz": -330
    },
    "id": "Ppwr2R_2Aw79",
    "outputId": "e3d4bb46-5144-432d-bb38-a38ab1344457"
   },
   "outputs": [
    {
     "data": {
      "text/html": [
       "<html>\n",
       "<head><meta charset=\"utf-8\" /></head>\n",
       "<body>\n",
       "    <div>\n",
       "            <script src=\"https://cdnjs.cloudflare.com/ajax/libs/mathjax/2.7.5/MathJax.js?config=TeX-AMS-MML_SVG\"></script><script type=\"text/javascript\">if (window.MathJax) {MathJax.Hub.Config({SVG: {font: \"STIX-Web\"}});}</script>\n",
       "                <script type=\"text/javascript\">window.PlotlyConfig = {MathJaxConfig: 'local'};</script>\n",
       "        <script src=\"https://cdn.plot.ly/plotly-latest.min.js\"></script>    \n",
       "            <div id=\"1f4f78c0-8f39-4c59-8942-cb3ece07e9d6\" class=\"plotly-graph-div\" style=\"height:525px; width:100%;\"></div>\n",
       "            <script type=\"text/javascript\">\n",
       "                \n",
       "                    window.PLOTLYENV=window.PLOTLYENV || {};\n",
       "                    \n",
       "                if (document.getElementById(\"1f4f78c0-8f39-4c59-8942-cb3ece07e9d6\")) {\n",
       "                    Plotly.newPlot(\n",
       "                        '1f4f78c0-8f39-4c59-8942-cb3ece07e9d6',\n",
       "                        [{\"domain\": {\"x\": [0.0, 1.0], \"y\": [0.0, 1.0]}, \"hoverlabel\": {\"namelength\": 0}, \"hovertemplate\": \"Team=%{label}<br>Age=%{value}\", \"labels\": [\"Team 1\", \"Team 2\", \"Team 3\", \"Team 4\", \"Team 5\", \"Team 6\", \"Team 7\", \"Team 8\", \"Team 9\", \"Team 10\", \"Team 11\", \"Team 12\", \"Team 13\", \"Team 14\", \"Team 15\", \"Team 16\", \"Team 17\", \"Team 18\", \"Team 19\", \"Team 20\", \"Team 21\", \"Team 22\", \"Team 23\", \"Team 24\", \"Team 25\", \"Team 26\", \"Team 27\", \"Team 28\", \"Team 29\", \"Team 30\", \"Team 31\", \"Team 32\", \"Team 33\", \"Team 34\", \"Team 35\", \"Team 36\", \"Team 37\", \"Team 38\", \"Team 39\", \"Team 40\", \"Team 41\", \"Team 42\", \"Team 43\", \"Team 44\", \"Team 45\", \"Team 46\", \"Team 47\", \"Team 48\", \"Team 49\", \"Team 50\", \"Team 51\", \"Team 52\", \"Team 53\", \"Team 54\", \"Team 55\", \"Team 56\", \"Team 57\", \"Team 58\", \"Team 59\", \"Team 60\", \"Team 61\"], \"legendgroup\": \"\", \"name\": \"\", \"showlegend\": true, \"type\": \"pie\", \"values\": [90, 90, 90, 88, 90, 85, 90, 90, 80, 87, 78, 80, 71, 90, 75, 84, 70, 86, 59, 68, 21, 78, 42, 60, 15, 84, 58, 79, 89, 56, 45, 76, 42, 32, 78, 28, 12, 57, 25, 41, 48, 56, 20, 5, 90, 29, 72, 23, 24, 74, 66, 90, 40, 90, 69, 3, 10, 63, 68, 64, 2]}],\n",
       "                        {\"legend\": {\"tracegroupgap\": 0}, \"margin\": {\"t\": 60}, \"template\": {\"data\": {\"bar\": [{\"error_x\": {\"color\": \"#2a3f5f\"}, \"error_y\": {\"color\": \"#2a3f5f\"}, \"marker\": {\"line\": {\"color\": \"#E5ECF6\", \"width\": 0.5}}, \"type\": \"bar\"}], \"barpolar\": [{\"marker\": {\"line\": {\"color\": \"#E5ECF6\", \"width\": 0.5}}, \"type\": \"barpolar\"}], \"carpet\": [{\"aaxis\": {\"endlinecolor\": \"#2a3f5f\", \"gridcolor\": \"white\", \"linecolor\": \"white\", \"minorgridcolor\": \"white\", \"startlinecolor\": \"#2a3f5f\"}, \"baxis\": {\"endlinecolor\": \"#2a3f5f\", \"gridcolor\": \"white\", \"linecolor\": \"white\", \"minorgridcolor\": \"white\", \"startlinecolor\": \"#2a3f5f\"}, \"type\": \"carpet\"}], \"choropleth\": [{\"colorbar\": {\"outlinewidth\": 0, \"ticks\": \"\"}, \"type\": \"choropleth\"}], \"contour\": [{\"colorbar\": {\"outlinewidth\": 0, \"ticks\": \"\"}, \"colorscale\": [[0.0, \"#0d0887\"], [0.1111111111111111, \"#46039f\"], [0.2222222222222222, \"#7201a8\"], [0.3333333333333333, \"#9c179e\"], [0.4444444444444444, \"#bd3786\"], [0.5555555555555556, \"#d8576b\"], [0.6666666666666666, \"#ed7953\"], [0.7777777777777778, \"#fb9f3a\"], [0.8888888888888888, \"#fdca26\"], [1.0, \"#f0f921\"]], \"type\": \"contour\"}], \"contourcarpet\": [{\"colorbar\": {\"outlinewidth\": 0, \"ticks\": \"\"}, \"type\": \"contourcarpet\"}], \"heatmap\": [{\"colorbar\": {\"outlinewidth\": 0, \"ticks\": \"\"}, \"colorscale\": [[0.0, \"#0d0887\"], [0.1111111111111111, \"#46039f\"], [0.2222222222222222, \"#7201a8\"], [0.3333333333333333, \"#9c179e\"], [0.4444444444444444, \"#bd3786\"], [0.5555555555555556, \"#d8576b\"], [0.6666666666666666, \"#ed7953\"], [0.7777777777777778, \"#fb9f3a\"], [0.8888888888888888, \"#fdca26\"], [1.0, \"#f0f921\"]], \"type\": \"heatmap\"}], \"heatmapgl\": [{\"colorbar\": {\"outlinewidth\": 0, \"ticks\": \"\"}, \"colorscale\": [[0.0, \"#0d0887\"], [0.1111111111111111, \"#46039f\"], [0.2222222222222222, \"#7201a8\"], [0.3333333333333333, \"#9c179e\"], [0.4444444444444444, \"#bd3786\"], [0.5555555555555556, \"#d8576b\"], [0.6666666666666666, \"#ed7953\"], [0.7777777777777778, \"#fb9f3a\"], [0.8888888888888888, \"#fdca26\"], [1.0, \"#f0f921\"]], \"type\": \"heatmapgl\"}], \"histogram\": [{\"marker\": {\"colorbar\": {\"outlinewidth\": 0, \"ticks\": \"\"}}, \"type\": \"histogram\"}], \"histogram2d\": [{\"colorbar\": {\"outlinewidth\": 0, \"ticks\": \"\"}, \"colorscale\": [[0.0, \"#0d0887\"], [0.1111111111111111, \"#46039f\"], [0.2222222222222222, \"#7201a8\"], [0.3333333333333333, \"#9c179e\"], [0.4444444444444444, \"#bd3786\"], [0.5555555555555556, \"#d8576b\"], [0.6666666666666666, \"#ed7953\"], [0.7777777777777778, \"#fb9f3a\"], [0.8888888888888888, \"#fdca26\"], [1.0, \"#f0f921\"]], \"type\": \"histogram2d\"}], \"histogram2dcontour\": [{\"colorbar\": {\"outlinewidth\": 0, \"ticks\": \"\"}, \"colorscale\": [[0.0, \"#0d0887\"], [0.1111111111111111, \"#46039f\"], [0.2222222222222222, \"#7201a8\"], [0.3333333333333333, \"#9c179e\"], [0.4444444444444444, \"#bd3786\"], [0.5555555555555556, \"#d8576b\"], [0.6666666666666666, \"#ed7953\"], [0.7777777777777778, \"#fb9f3a\"], [0.8888888888888888, \"#fdca26\"], [1.0, \"#f0f921\"]], \"type\": \"histogram2dcontour\"}], \"mesh3d\": [{\"colorbar\": {\"outlinewidth\": 0, \"ticks\": \"\"}, \"type\": \"mesh3d\"}], \"parcoords\": [{\"line\": {\"colorbar\": {\"outlinewidth\": 0, \"ticks\": \"\"}}, \"type\": \"parcoords\"}], \"pie\": [{\"automargin\": true, \"type\": \"pie\"}], \"scatter\": [{\"marker\": {\"colorbar\": {\"outlinewidth\": 0, \"ticks\": \"\"}}, \"type\": \"scatter\"}], \"scatter3d\": [{\"line\": {\"colorbar\": {\"outlinewidth\": 0, \"ticks\": \"\"}}, \"marker\": {\"colorbar\": {\"outlinewidth\": 0, \"ticks\": \"\"}}, \"type\": \"scatter3d\"}], \"scattercarpet\": [{\"marker\": {\"colorbar\": {\"outlinewidth\": 0, \"ticks\": \"\"}}, \"type\": \"scattercarpet\"}], \"scattergeo\": [{\"marker\": {\"colorbar\": {\"outlinewidth\": 0, \"ticks\": \"\"}}, \"type\": \"scattergeo\"}], \"scattergl\": [{\"marker\": {\"colorbar\": {\"outlinewidth\": 0, \"ticks\": \"\"}}, \"type\": \"scattergl\"}], \"scattermapbox\": [{\"marker\": {\"colorbar\": {\"outlinewidth\": 0, \"ticks\": \"\"}}, \"type\": \"scattermapbox\"}], \"scatterpolar\": [{\"marker\": {\"colorbar\": {\"outlinewidth\": 0, \"ticks\": \"\"}}, \"type\": \"scatterpolar\"}], \"scatterpolargl\": [{\"marker\": {\"colorbar\": {\"outlinewidth\": 0, \"ticks\": \"\"}}, \"type\": \"scatterpolargl\"}], \"scatterternary\": [{\"marker\": {\"colorbar\": {\"outlinewidth\": 0, \"ticks\": \"\"}}, \"type\": \"scatterternary\"}], \"surface\": [{\"colorbar\": {\"outlinewidth\": 0, \"ticks\": \"\"}, \"colorscale\": [[0.0, \"#0d0887\"], [0.1111111111111111, \"#46039f\"], [0.2222222222222222, \"#7201a8\"], [0.3333333333333333, \"#9c179e\"], [0.4444444444444444, \"#bd3786\"], [0.5555555555555556, \"#d8576b\"], [0.6666666666666666, \"#ed7953\"], [0.7777777777777778, \"#fb9f3a\"], [0.8888888888888888, \"#fdca26\"], [1.0, \"#f0f921\"]], \"type\": \"surface\"}], \"table\": [{\"cells\": {\"fill\": {\"color\": \"#EBF0F8\"}, \"line\": {\"color\": \"white\"}}, \"header\": {\"fill\": {\"color\": \"#C8D4E3\"}, \"line\": {\"color\": \"white\"}}, \"type\": \"table\"}]}, \"layout\": {\"annotationdefaults\": {\"arrowcolor\": \"#2a3f5f\", \"arrowhead\": 0, \"arrowwidth\": 1}, \"coloraxis\": {\"colorbar\": {\"outlinewidth\": 0, \"ticks\": \"\"}}, \"colorscale\": {\"diverging\": [[0, \"#8e0152\"], [0.1, \"#c51b7d\"], [0.2, \"#de77ae\"], [0.3, \"#f1b6da\"], [0.4, \"#fde0ef\"], [0.5, \"#f7f7f7\"], [0.6, \"#e6f5d0\"], [0.7, \"#b8e186\"], [0.8, \"#7fbc41\"], [0.9, \"#4d9221\"], [1, \"#276419\"]], \"sequential\": [[0.0, \"#0d0887\"], [0.1111111111111111, \"#46039f\"], [0.2222222222222222, \"#7201a8\"], [0.3333333333333333, \"#9c179e\"], [0.4444444444444444, \"#bd3786\"], [0.5555555555555556, \"#d8576b\"], [0.6666666666666666, \"#ed7953\"], [0.7777777777777778, \"#fb9f3a\"], [0.8888888888888888, \"#fdca26\"], [1.0, \"#f0f921\"]], \"sequentialminus\": [[0.0, \"#0d0887\"], [0.1111111111111111, \"#46039f\"], [0.2222222222222222, \"#7201a8\"], [0.3333333333333333, \"#9c179e\"], [0.4444444444444444, \"#bd3786\"], [0.5555555555555556, \"#d8576b\"], [0.6666666666666666, \"#ed7953\"], [0.7777777777777778, \"#fb9f3a\"], [0.8888888888888888, \"#fdca26\"], [1.0, \"#f0f921\"]]}, \"colorway\": [\"#636efa\", \"#EF553B\", \"#00cc96\", \"#ab63fa\", \"#FFA15A\", \"#19d3f3\", \"#FF6692\", \"#B6E880\", \"#FF97FF\", \"#FECB52\"], \"font\": {\"color\": \"#2a3f5f\"}, \"geo\": {\"bgcolor\": \"white\", \"lakecolor\": \"white\", \"landcolor\": \"#E5ECF6\", \"showlakes\": true, \"showland\": true, \"subunitcolor\": \"white\"}, \"hoverlabel\": {\"align\": \"left\"}, \"hovermode\": \"closest\", \"mapbox\": {\"style\": \"light\"}, \"paper_bgcolor\": \"white\", \"plot_bgcolor\": \"#E5ECF6\", \"polar\": {\"angularaxis\": {\"gridcolor\": \"white\", \"linecolor\": \"white\", \"ticks\": \"\"}, \"bgcolor\": \"#E5ECF6\", \"radialaxis\": {\"gridcolor\": \"white\", \"linecolor\": \"white\", \"ticks\": \"\"}}, \"scene\": {\"xaxis\": {\"backgroundcolor\": \"#E5ECF6\", \"gridcolor\": \"white\", \"gridwidth\": 2, \"linecolor\": \"white\", \"showbackground\": true, \"ticks\": \"\", \"zerolinecolor\": \"white\"}, \"yaxis\": {\"backgroundcolor\": \"#E5ECF6\", \"gridcolor\": \"white\", \"gridwidth\": 2, \"linecolor\": \"white\", \"showbackground\": true, \"ticks\": \"\", \"zerolinecolor\": \"white\"}, \"zaxis\": {\"backgroundcolor\": \"#E5ECF6\", \"gridcolor\": \"white\", \"gridwidth\": 2, \"linecolor\": \"white\", \"showbackground\": true, \"ticks\": \"\", \"zerolinecolor\": \"white\"}}, \"shapedefaults\": {\"line\": {\"color\": \"#2a3f5f\"}}, \"ternary\": {\"aaxis\": {\"gridcolor\": \"white\", \"linecolor\": \"white\", \"ticks\": \"\"}, \"baxis\": {\"gridcolor\": \"white\", \"linecolor\": \"white\", \"ticks\": \"\"}, \"bgcolor\": \"#E5ECF6\", \"caxis\": {\"gridcolor\": \"white\", \"linecolor\": \"white\", \"ticks\": \"\"}}, \"title\": {\"x\": 0.05}, \"xaxis\": {\"automargin\": true, \"gridcolor\": \"white\", \"linecolor\": \"white\", \"ticks\": \"\", \"title\": {\"standoff\": 15}, \"zerolinecolor\": \"white\", \"zerolinewidth\": 2}, \"yaxis\": {\"automargin\": true, \"gridcolor\": \"white\", \"linecolor\": \"white\", \"ticks\": \"\", \"title\": {\"standoff\": 15}, \"zerolinecolor\": \"white\", \"zerolinewidth\": 2}}}},\n",
       "                        {\"responsive\": true}\n",
       "                    ).then(function(){\n",
       "                            \n",
       "var gd = document.getElementById('1f4f78c0-8f39-4c59-8942-cb3ece07e9d6');\n",
       "var x = new MutationObserver(function (mutations, observer) {{\n",
       "        var display = window.getComputedStyle(gd).display;\n",
       "        if (!display || display === 'none') {{\n",
       "            console.log([gd, 'removed!']);\n",
       "            Plotly.purge(gd);\n",
       "            observer.disconnect();\n",
       "        }}\n",
       "}});\n",
       "\n",
       "// Listen for the removal of the full notebook cells\n",
       "var notebookContainer = gd.closest('#notebook-container');\n",
       "if (notebookContainer) {{\n",
       "    x.observe(notebookContainer, {childList: true});\n",
       "}}\n",
       "\n",
       "// Listen for the clearing of the current output cell\n",
       "var outputEl = gd.closest('.output');\n",
       "if (outputEl) {{\n",
       "    x.observe(outputEl, {childList: true});\n",
       "}}\n",
       "\n",
       "                        })\n",
       "                };\n",
       "                \n",
       "            </script>\n",
       "        </div>\n",
       "</body>\n",
       "</html>"
      ]
     },
     "metadata": {},
     "output_type": "display_data"
    }
   ],
   "source": [
    "import plotly.express as px\n",
    "fig = px.pie(Basket_new, values='Age', names='Team') # Mix match columns and comment on functional findings\n",
    "fig.show()"
   ]
  },
  {
   "cell_type": "markdown",
   "metadata": {
    "id": "RNalR190Aw79"
   },
   "source": [
    "- Observation:\n",
    "    - Majority of the teams are from age 40 to 85"
   ]
  },
  {
   "cell_type": "markdown",
   "metadata": {
    "id": "cD2A67ApAw79"
   },
   "source": [
    "#### Perform detailed statistical analysis on all the possible columns "
   ]
  },
  {
   "cell_type": "code",
   "execution_count": null,
   "metadata": {
    "colab": {
     "base_uri": "https://localhost:8080/"
    },
    "executionInfo": {
     "elapsed": 10,
     "status": "ok",
     "timestamp": 1638504653906,
     "user": {
      "displayName": "Shashank Shirude",
      "photoUrl": "https://lh3.googleusercontent.com/a/default-user=s64",
      "userId": "07633140671838012494"
     },
     "user_tz": -330
    },
    "id": "8ShnEhJTAw79",
    "outputId": "89499d90-b70e-4038-e0fa-04198b39aca3"
   },
   "outputs": [
    {
     "data": {
      "text/html": [
       "<div>\n",
       "<style scoped>\n",
       "    .dataframe tbody tr th:only-of-type {\n",
       "        vertical-align: middle;\n",
       "    }\n",
       "\n",
       "    .dataframe tbody tr th {\n",
       "        vertical-align: top;\n",
       "    }\n",
       "\n",
       "    .dataframe thead th {\n",
       "        text-align: right;\n",
       "    }\n",
       "</style>\n",
       "<table border=\"1\" class=\"dataframe\">\n",
       "  <thead>\n",
       "    <tr style=\"text-align: right;\">\n",
       "      <th></th>\n",
       "      <th>count</th>\n",
       "      <th>mean</th>\n",
       "      <th>std</th>\n",
       "      <th>min</th>\n",
       "      <th>25%</th>\n",
       "      <th>50%</th>\n",
       "      <th>75%</th>\n",
       "      <th>max</th>\n",
       "    </tr>\n",
       "  </thead>\n",
       "  <tbody>\n",
       "    <tr>\n",
       "      <th>Tournament</th>\n",
       "      <td>61.0</td>\n",
       "      <td>24.000000</td>\n",
       "      <td>26.827225</td>\n",
       "      <td>1.000000</td>\n",
       "      <td>4.000000</td>\n",
       "      <td>12.000000</td>\n",
       "      <td>38.000000</td>\n",
       "      <td>86.000000</td>\n",
       "    </tr>\n",
       "    <tr>\n",
       "      <th>Score</th>\n",
       "      <td>61.0</td>\n",
       "      <td>901.426230</td>\n",
       "      <td>1134.899121</td>\n",
       "      <td>0.000000</td>\n",
       "      <td>96.000000</td>\n",
       "      <td>375.000000</td>\n",
       "      <td>1351.000000</td>\n",
       "      <td>4385.000000</td>\n",
       "    </tr>\n",
       "    <tr>\n",
       "      <th>PlayedGames</th>\n",
       "      <td>61.0</td>\n",
       "      <td>796.819672</td>\n",
       "      <td>876.282765</td>\n",
       "      <td>0.000000</td>\n",
       "      <td>114.000000</td>\n",
       "      <td>423.000000</td>\n",
       "      <td>1318.000000</td>\n",
       "      <td>2762.000000</td>\n",
       "    </tr>\n",
       "    <tr>\n",
       "      <th>WonGames</th>\n",
       "      <td>61.0</td>\n",
       "      <td>303.967213</td>\n",
       "      <td>406.991030</td>\n",
       "      <td>0.000000</td>\n",
       "      <td>34.000000</td>\n",
       "      <td>123.000000</td>\n",
       "      <td>426.000000</td>\n",
       "      <td>1647.000000</td>\n",
       "    </tr>\n",
       "    <tr>\n",
       "      <th>DrawnGames</th>\n",
       "      <td>61.0</td>\n",
       "      <td>188.934426</td>\n",
       "      <td>201.799477</td>\n",
       "      <td>0.000000</td>\n",
       "      <td>24.000000</td>\n",
       "      <td>95.000000</td>\n",
       "      <td>330.000000</td>\n",
       "      <td>633.000000</td>\n",
       "    </tr>\n",
       "    <tr>\n",
       "      <th>LostGames</th>\n",
       "      <td>61.0</td>\n",
       "      <td>303.754098</td>\n",
       "      <td>294.708594</td>\n",
       "      <td>0.000000</td>\n",
       "      <td>62.000000</td>\n",
       "      <td>197.000000</td>\n",
       "      <td>563.000000</td>\n",
       "      <td>1070.000000</td>\n",
       "    </tr>\n",
       "    <tr>\n",
       "      <th>BasketScored</th>\n",
       "      <td>61.0</td>\n",
       "      <td>1140.344262</td>\n",
       "      <td>1506.740211</td>\n",
       "      <td>0.000000</td>\n",
       "      <td>153.000000</td>\n",
       "      <td>430.000000</td>\n",
       "      <td>1642.000000</td>\n",
       "      <td>5947.000000</td>\n",
       "    </tr>\n",
       "    <tr>\n",
       "      <th>BasketGiven</th>\n",
       "      <td>61.0</td>\n",
       "      <td>1140.229508</td>\n",
       "      <td>1163.710766</td>\n",
       "      <td>0.000000</td>\n",
       "      <td>221.000000</td>\n",
       "      <td>632.000000</td>\n",
       "      <td>1951.000000</td>\n",
       "      <td>3889.000000</td>\n",
       "    </tr>\n",
       "    <tr>\n",
       "      <th>TournamentChampion</th>\n",
       "      <td>61.0</td>\n",
       "      <td>1.426230</td>\n",
       "      <td>5.472535</td>\n",
       "      <td>0.000000</td>\n",
       "      <td>0.000000</td>\n",
       "      <td>0.000000</td>\n",
       "      <td>0.000000</td>\n",
       "      <td>33.000000</td>\n",
       "    </tr>\n",
       "    <tr>\n",
       "      <th>Runner-up</th>\n",
       "      <td>61.0</td>\n",
       "      <td>1.409836</td>\n",
       "      <td>4.540107</td>\n",
       "      <td>0.000000</td>\n",
       "      <td>0.000000</td>\n",
       "      <td>0.000000</td>\n",
       "      <td>0.000000</td>\n",
       "      <td>25.000000</td>\n",
       "    </tr>\n",
       "    <tr>\n",
       "      <th>TeamLaunch</th>\n",
       "      <td>61.0</td>\n",
       "      <td>1958.918033</td>\n",
       "      <td>27.484114</td>\n",
       "      <td>1929.000000</td>\n",
       "      <td>1935.000000</td>\n",
       "      <td>1951.000000</td>\n",
       "      <td>1978.000000</td>\n",
       "      <td>2017.000000</td>\n",
       "    </tr>\n",
       "    <tr>\n",
       "      <th>HighestPositionHeld</th>\n",
       "      <td>61.0</td>\n",
       "      <td>7.081967</td>\n",
       "      <td>5.276663</td>\n",
       "      <td>1.000000</td>\n",
       "      <td>3.000000</td>\n",
       "      <td>6.000000</td>\n",
       "      <td>10.000000</td>\n",
       "      <td>20.000000</td>\n",
       "    </tr>\n",
       "    <tr>\n",
       "      <th>Age</th>\n",
       "      <td>61.0</td>\n",
       "      <td>60.081967</td>\n",
       "      <td>27.484114</td>\n",
       "      <td>2.000000</td>\n",
       "      <td>41.000000</td>\n",
       "      <td>68.000000</td>\n",
       "      <td>84.000000</td>\n",
       "      <td>90.000000</td>\n",
       "    </tr>\n",
       "    <tr>\n",
       "      <th>WinRate</th>\n",
       "      <td>60.0</td>\n",
       "      <td>0.313648</td>\n",
       "      <td>0.078312</td>\n",
       "      <td>0.166667</td>\n",
       "      <td>0.276075</td>\n",
       "      <td>0.304917</td>\n",
       "      <td>0.335402</td>\n",
       "      <td>0.596307</td>\n",
       "    </tr>\n",
       "    <tr>\n",
       "      <th>ChampRate</th>\n",
       "      <td>61.0</td>\n",
       "      <td>0.017208</td>\n",
       "      <td>0.063927</td>\n",
       "      <td>0.000000</td>\n",
       "      <td>0.000000</td>\n",
       "      <td>0.000000</td>\n",
       "      <td>0.000000</td>\n",
       "      <td>0.383721</td>\n",
       "    </tr>\n",
       "  </tbody>\n",
       "</table>\n",
       "</div>"
      ],
      "text/plain": [
       "                     count         mean  ...          75%          max\n",
       "Tournament            61.0    24.000000  ...    38.000000    86.000000\n",
       "Score                 61.0   901.426230  ...  1351.000000  4385.000000\n",
       "PlayedGames           61.0   796.819672  ...  1318.000000  2762.000000\n",
       "WonGames              61.0   303.967213  ...   426.000000  1647.000000\n",
       "DrawnGames            61.0   188.934426  ...   330.000000   633.000000\n",
       "LostGames             61.0   303.754098  ...   563.000000  1070.000000\n",
       "BasketScored          61.0  1140.344262  ...  1642.000000  5947.000000\n",
       "BasketGiven           61.0  1140.229508  ...  1951.000000  3889.000000\n",
       "TournamentChampion    61.0     1.426230  ...     0.000000    33.000000\n",
       "Runner-up             61.0     1.409836  ...     0.000000    25.000000\n",
       "TeamLaunch            61.0  1958.918033  ...  1978.000000  2017.000000\n",
       "HighestPositionHeld   61.0     7.081967  ...    10.000000    20.000000\n",
       "Age                   61.0    60.081967  ...    84.000000    90.000000\n",
       "WinRate               60.0     0.313648  ...     0.335402     0.596307\n",
       "ChampRate             61.0     0.017208  ...     0.000000     0.383721\n",
       "\n",
       "[15 rows x 8 columns]"
      ]
     },
     "execution_count": 33,
     "metadata": {},
     "output_type": "execute_result"
    }
   ],
   "source": [
    "Basket_new.describe().T"
   ]
  },
  {
   "cell_type": "code",
   "execution_count": null,
   "metadata": {
    "colab": {
     "base_uri": "https://localhost:8080/"
    },
    "executionInfo": {
     "elapsed": 9,
     "status": "ok",
     "timestamp": 1638504653906,
     "user": {
      "displayName": "Shashank Shirude",
      "photoUrl": "https://lh3.googleusercontent.com/a/default-user=s64",
      "userId": "07633140671838012494"
     },
     "user_tz": -330
    },
    "id": "rETtoAHzAw79",
    "outputId": "75867c7e-ac0d-4bd6-eca2-f4c397950a14"
   },
   "outputs": [
    {
     "data": {
      "text/html": [
       "<html>\n",
       "<head><meta charset=\"utf-8\" /></head>\n",
       "<body>\n",
       "    <div>\n",
       "            <script src=\"https://cdnjs.cloudflare.com/ajax/libs/mathjax/2.7.5/MathJax.js?config=TeX-AMS-MML_SVG\"></script><script type=\"text/javascript\">if (window.MathJax) {MathJax.Hub.Config({SVG: {font: \"STIX-Web\"}});}</script>\n",
       "                <script type=\"text/javascript\">window.PlotlyConfig = {MathJaxConfig: 'local'};</script>\n",
       "        <script src=\"https://cdn.plot.ly/plotly-latest.min.js\"></script>    \n",
       "            <div id=\"c96bf30a-9585-4997-9e15-feec4731fac4\" class=\"plotly-graph-div\" style=\"height:525px; width:100%;\"></div>\n",
       "            <script type=\"text/javascript\">\n",
       "                \n",
       "                    window.PLOTLYENV=window.PLOTLYENV || {};\n",
       "                    \n",
       "                if (document.getElementById(\"c96bf30a-9585-4997-9e15-feec4731fac4\")) {\n",
       "                    Plotly.newPlot(\n",
       "                        'c96bf30a-9585-4997-9e15-feec4731fac4',\n",
       "                        [{\"alignmentgroup\": \"True\", \"bingroup\": \"x\", \"hoverlabel\": {\"namelength\": 0}, \"hovertemplate\": \"HighestPositionHeld=%{x}<br>count=%{y}\", \"legendgroup\": \"\", \"marker\": {\"color\": \"#636efa\"}, \"name\": \"\", \"offsetgroup\": \"\", \"orientation\": \"v\", \"showlegend\": false, \"type\": \"histogram\", \"x\": [1, 1, 1, 1, 1, 1, 3, 1, 2, 1, 1, 4, 4, 2, 2, 4, 4, 3, 3, 2, 2, 6, 8, 5, 6, 5, 5, 11, 6, 6, 7, 4, 12, 7, 4, 7, 8, 5, 10, 8, 12, 7, 17, 10, 3, 9, 7, 17, 19, 10, 14, 6, 10, 8, 16, 17, 20, 16, 16, 15, 9], \"xaxis\": \"x\", \"yaxis\": \"y\"}],\n",
       "                        {\"barmode\": \"relative\", \"legend\": {\"tracegroupgap\": 0}, \"margin\": {\"t\": 60}, \"template\": {\"data\": {\"bar\": [{\"error_x\": {\"color\": \"#2a3f5f\"}, \"error_y\": {\"color\": \"#2a3f5f\"}, \"marker\": {\"line\": {\"color\": \"#E5ECF6\", \"width\": 0.5}}, \"type\": \"bar\"}], \"barpolar\": [{\"marker\": {\"line\": {\"color\": \"#E5ECF6\", \"width\": 0.5}}, \"type\": \"barpolar\"}], \"carpet\": [{\"aaxis\": {\"endlinecolor\": \"#2a3f5f\", \"gridcolor\": \"white\", \"linecolor\": \"white\", \"minorgridcolor\": \"white\", \"startlinecolor\": \"#2a3f5f\"}, \"baxis\": {\"endlinecolor\": \"#2a3f5f\", \"gridcolor\": \"white\", \"linecolor\": \"white\", \"minorgridcolor\": \"white\", \"startlinecolor\": \"#2a3f5f\"}, \"type\": \"carpet\"}], \"choropleth\": [{\"colorbar\": {\"outlinewidth\": 0, \"ticks\": \"\"}, \"type\": \"choropleth\"}], \"contour\": [{\"colorbar\": {\"outlinewidth\": 0, \"ticks\": \"\"}, \"colorscale\": [[0.0, \"#0d0887\"], [0.1111111111111111, \"#46039f\"], [0.2222222222222222, \"#7201a8\"], [0.3333333333333333, \"#9c179e\"], [0.4444444444444444, \"#bd3786\"], [0.5555555555555556, \"#d8576b\"], [0.6666666666666666, \"#ed7953\"], [0.7777777777777778, \"#fb9f3a\"], [0.8888888888888888, \"#fdca26\"], [1.0, \"#f0f921\"]], \"type\": \"contour\"}], \"contourcarpet\": [{\"colorbar\": {\"outlinewidth\": 0, \"ticks\": \"\"}, \"type\": \"contourcarpet\"}], \"heatmap\": [{\"colorbar\": {\"outlinewidth\": 0, \"ticks\": \"\"}, \"colorscale\": [[0.0, \"#0d0887\"], [0.1111111111111111, \"#46039f\"], [0.2222222222222222, \"#7201a8\"], [0.3333333333333333, \"#9c179e\"], [0.4444444444444444, \"#bd3786\"], [0.5555555555555556, \"#d8576b\"], [0.6666666666666666, \"#ed7953\"], [0.7777777777777778, \"#fb9f3a\"], [0.8888888888888888, \"#fdca26\"], [1.0, \"#f0f921\"]], \"type\": \"heatmap\"}], \"heatmapgl\": [{\"colorbar\": {\"outlinewidth\": 0, \"ticks\": \"\"}, \"colorscale\": [[0.0, \"#0d0887\"], [0.1111111111111111, \"#46039f\"], [0.2222222222222222, \"#7201a8\"], [0.3333333333333333, \"#9c179e\"], [0.4444444444444444, \"#bd3786\"], [0.5555555555555556, \"#d8576b\"], [0.6666666666666666, \"#ed7953\"], [0.7777777777777778, \"#fb9f3a\"], [0.8888888888888888, \"#fdca26\"], [1.0, \"#f0f921\"]], \"type\": \"heatmapgl\"}], \"histogram\": [{\"marker\": {\"colorbar\": {\"outlinewidth\": 0, \"ticks\": \"\"}}, \"type\": \"histogram\"}], \"histogram2d\": [{\"colorbar\": {\"outlinewidth\": 0, \"ticks\": \"\"}, \"colorscale\": [[0.0, \"#0d0887\"], [0.1111111111111111, \"#46039f\"], [0.2222222222222222, \"#7201a8\"], [0.3333333333333333, \"#9c179e\"], [0.4444444444444444, \"#bd3786\"], [0.5555555555555556, \"#d8576b\"], [0.6666666666666666, \"#ed7953\"], [0.7777777777777778, \"#fb9f3a\"], [0.8888888888888888, \"#fdca26\"], [1.0, \"#f0f921\"]], \"type\": \"histogram2d\"}], \"histogram2dcontour\": [{\"colorbar\": {\"outlinewidth\": 0, \"ticks\": \"\"}, \"colorscale\": [[0.0, \"#0d0887\"], [0.1111111111111111, \"#46039f\"], [0.2222222222222222, \"#7201a8\"], [0.3333333333333333, \"#9c179e\"], [0.4444444444444444, \"#bd3786\"], [0.5555555555555556, \"#d8576b\"], [0.6666666666666666, \"#ed7953\"], [0.7777777777777778, \"#fb9f3a\"], [0.8888888888888888, \"#fdca26\"], [1.0, \"#f0f921\"]], \"type\": \"histogram2dcontour\"}], \"mesh3d\": [{\"colorbar\": {\"outlinewidth\": 0, \"ticks\": \"\"}, \"type\": \"mesh3d\"}], \"parcoords\": [{\"line\": {\"colorbar\": {\"outlinewidth\": 0, \"ticks\": \"\"}}, \"type\": \"parcoords\"}], \"pie\": [{\"automargin\": true, \"type\": \"pie\"}], \"scatter\": [{\"marker\": {\"colorbar\": {\"outlinewidth\": 0, \"ticks\": \"\"}}, \"type\": \"scatter\"}], \"scatter3d\": [{\"line\": {\"colorbar\": {\"outlinewidth\": 0, \"ticks\": \"\"}}, \"marker\": {\"colorbar\": {\"outlinewidth\": 0, \"ticks\": \"\"}}, \"type\": \"scatter3d\"}], \"scattercarpet\": [{\"marker\": {\"colorbar\": {\"outlinewidth\": 0, \"ticks\": \"\"}}, \"type\": \"scattercarpet\"}], \"scattergeo\": [{\"marker\": {\"colorbar\": {\"outlinewidth\": 0, \"ticks\": \"\"}}, \"type\": \"scattergeo\"}], \"scattergl\": [{\"marker\": {\"colorbar\": {\"outlinewidth\": 0, \"ticks\": \"\"}}, \"type\": \"scattergl\"}], \"scattermapbox\": [{\"marker\": {\"colorbar\": {\"outlinewidth\": 0, \"ticks\": \"\"}}, \"type\": \"scattermapbox\"}], \"scatterpolar\": [{\"marker\": {\"colorbar\": {\"outlinewidth\": 0, \"ticks\": \"\"}}, \"type\": \"scatterpolar\"}], \"scatterpolargl\": [{\"marker\": {\"colorbar\": {\"outlinewidth\": 0, \"ticks\": \"\"}}, \"type\": \"scatterpolargl\"}], \"scatterternary\": [{\"marker\": {\"colorbar\": {\"outlinewidth\": 0, \"ticks\": \"\"}}, \"type\": \"scatterternary\"}], \"surface\": [{\"colorbar\": {\"outlinewidth\": 0, \"ticks\": \"\"}, \"colorscale\": [[0.0, \"#0d0887\"], [0.1111111111111111, \"#46039f\"], [0.2222222222222222, \"#7201a8\"], [0.3333333333333333, \"#9c179e\"], [0.4444444444444444, \"#bd3786\"], [0.5555555555555556, \"#d8576b\"], [0.6666666666666666, \"#ed7953\"], [0.7777777777777778, \"#fb9f3a\"], [0.8888888888888888, \"#fdca26\"], [1.0, \"#f0f921\"]], \"type\": \"surface\"}], \"table\": [{\"cells\": {\"fill\": {\"color\": \"#EBF0F8\"}, \"line\": {\"color\": \"white\"}}, \"header\": {\"fill\": {\"color\": \"#C8D4E3\"}, \"line\": {\"color\": \"white\"}}, \"type\": \"table\"}]}, \"layout\": {\"annotationdefaults\": {\"arrowcolor\": \"#2a3f5f\", \"arrowhead\": 0, \"arrowwidth\": 1}, \"coloraxis\": {\"colorbar\": {\"outlinewidth\": 0, \"ticks\": \"\"}}, \"colorscale\": {\"diverging\": [[0, \"#8e0152\"], [0.1, \"#c51b7d\"], [0.2, \"#de77ae\"], [0.3, \"#f1b6da\"], [0.4, \"#fde0ef\"], [0.5, \"#f7f7f7\"], [0.6, \"#e6f5d0\"], [0.7, \"#b8e186\"], [0.8, \"#7fbc41\"], [0.9, \"#4d9221\"], [1, \"#276419\"]], \"sequential\": [[0.0, \"#0d0887\"], [0.1111111111111111, \"#46039f\"], [0.2222222222222222, \"#7201a8\"], [0.3333333333333333, \"#9c179e\"], [0.4444444444444444, \"#bd3786\"], [0.5555555555555556, \"#d8576b\"], [0.6666666666666666, \"#ed7953\"], [0.7777777777777778, \"#fb9f3a\"], [0.8888888888888888, \"#fdca26\"], [1.0, \"#f0f921\"]], \"sequentialminus\": [[0.0, \"#0d0887\"], [0.1111111111111111, \"#46039f\"], [0.2222222222222222, \"#7201a8\"], [0.3333333333333333, \"#9c179e\"], [0.4444444444444444, \"#bd3786\"], [0.5555555555555556, \"#d8576b\"], [0.6666666666666666, \"#ed7953\"], [0.7777777777777778, \"#fb9f3a\"], [0.8888888888888888, \"#fdca26\"], [1.0, \"#f0f921\"]]}, \"colorway\": [\"#636efa\", \"#EF553B\", \"#00cc96\", \"#ab63fa\", \"#FFA15A\", \"#19d3f3\", \"#FF6692\", \"#B6E880\", \"#FF97FF\", \"#FECB52\"], \"font\": {\"color\": \"#2a3f5f\"}, \"geo\": {\"bgcolor\": \"white\", \"lakecolor\": \"white\", \"landcolor\": \"#E5ECF6\", \"showlakes\": true, \"showland\": true, \"subunitcolor\": \"white\"}, \"hoverlabel\": {\"align\": \"left\"}, \"hovermode\": \"closest\", \"mapbox\": {\"style\": \"light\"}, \"paper_bgcolor\": \"white\", \"plot_bgcolor\": \"#E5ECF6\", \"polar\": {\"angularaxis\": {\"gridcolor\": \"white\", \"linecolor\": \"white\", \"ticks\": \"\"}, \"bgcolor\": \"#E5ECF6\", \"radialaxis\": {\"gridcolor\": \"white\", \"linecolor\": \"white\", \"ticks\": \"\"}}, \"scene\": {\"xaxis\": {\"backgroundcolor\": \"#E5ECF6\", \"gridcolor\": \"white\", \"gridwidth\": 2, \"linecolor\": \"white\", \"showbackground\": true, \"ticks\": \"\", \"zerolinecolor\": \"white\"}, \"yaxis\": {\"backgroundcolor\": \"#E5ECF6\", \"gridcolor\": \"white\", \"gridwidth\": 2, \"linecolor\": \"white\", \"showbackground\": true, \"ticks\": \"\", \"zerolinecolor\": \"white\"}, \"zaxis\": {\"backgroundcolor\": \"#E5ECF6\", \"gridcolor\": \"white\", \"gridwidth\": 2, \"linecolor\": \"white\", \"showbackground\": true, \"ticks\": \"\", \"zerolinecolor\": \"white\"}}, \"shapedefaults\": {\"line\": {\"color\": \"#2a3f5f\"}}, \"ternary\": {\"aaxis\": {\"gridcolor\": \"white\", \"linecolor\": \"white\", \"ticks\": \"\"}, \"baxis\": {\"gridcolor\": \"white\", \"linecolor\": \"white\", \"ticks\": \"\"}, \"bgcolor\": \"#E5ECF6\", \"caxis\": {\"gridcolor\": \"white\", \"linecolor\": \"white\", \"ticks\": \"\"}}, \"title\": {\"x\": 0.05}, \"xaxis\": {\"automargin\": true, \"gridcolor\": \"white\", \"linecolor\": \"white\", \"ticks\": \"\", \"title\": {\"standoff\": 15}, \"zerolinecolor\": \"white\", \"zerolinewidth\": 2}, \"yaxis\": {\"automargin\": true, \"gridcolor\": \"white\", \"linecolor\": \"white\", \"ticks\": \"\", \"title\": {\"standoff\": 15}, \"zerolinecolor\": \"white\", \"zerolinewidth\": 2}}}, \"xaxis\": {\"anchor\": \"y\", \"domain\": [0.0, 1.0], \"title\": {\"text\": \"HighestPositionHeld\"}}, \"yaxis\": {\"anchor\": \"x\", \"domain\": [0.0, 1.0], \"title\": {\"text\": \"count\"}}},\n",
       "                        {\"responsive\": true}\n",
       "                    ).then(function(){\n",
       "                            \n",
       "var gd = document.getElementById('c96bf30a-9585-4997-9e15-feec4731fac4');\n",
       "var x = new MutationObserver(function (mutations, observer) {{\n",
       "        var display = window.getComputedStyle(gd).display;\n",
       "        if (!display || display === 'none') {{\n",
       "            console.log([gd, 'removed!']);\n",
       "            Plotly.purge(gd);\n",
       "            observer.disconnect();\n",
       "        }}\n",
       "}});\n",
       "\n",
       "// Listen for the removal of the full notebook cells\n",
       "var notebookContainer = gd.closest('#notebook-container');\n",
       "if (notebookContainer) {{\n",
       "    x.observe(notebookContainer, {childList: true});\n",
       "}}\n",
       "\n",
       "// Listen for the clearing of the current output cell\n",
       "var outputEl = gd.closest('.output');\n",
       "if (outputEl) {{\n",
       "    x.observe(outputEl, {childList: true});\n",
       "}}\n",
       "\n",
       "                        })\n",
       "                };\n",
       "                \n",
       "            </script>\n",
       "        </div>\n",
       "</body>\n",
       "</html>"
      ]
     },
     "metadata": {},
     "output_type": "display_data"
    }
   ],
   "source": [
    "import plotly.express as px\n",
    "fig = px.histogram(Basket_new, x=\"HighestPositionHeld\")  # Mix match columns and comment on the statistical distribution\n",
    "fig.show()"
   ]
  },
  {
   "cell_type": "code",
   "execution_count": null,
   "metadata": {
    "id": "DHe5kJqEAw79"
   },
   "outputs": [],
   "source": [
    "import plotly.express as px\n",
    "fig = px.box(Basket_new,y='HighestPositionHeld')  # Mix match columns and comment on the statistical distribution\n",
    "fig.show()"
   ]
  },
  {
   "cell_type": "markdown",
   "metadata": {
    "id": "2YkxZNB4Aw7-"
   },
   "source": [
    "- Example insights: \n",
    "    - Best Position: 1 to 6 has more representation then the rest which goes till 20.\n"
   ]
  },
  {
   "cell_type": "code",
   "execution_count": null,
   "metadata": {
    "id": "jd-6CNSgAw7-"
   },
   "outputs": [],
   "source": [
    "Basket_new.corr()"
   ]
  },
  {
   "cell_type": "code",
   "execution_count": null,
   "metadata": {
    "id": "7VQN2eYeAw7-",
    "scrolled": true
   },
   "outputs": [],
   "source": [
    "import plotly.express as px\n",
    "fig = px.box(Basket_new,y='Score')  # Mix match columns and comment on the statistical distribution\n",
    "fig.show()"
   ]
  },
  {
   "cell_type": "code",
   "execution_count": null,
   "metadata": {
    "id": "yrT8cpWIAw7-"
   },
   "outputs": [],
   "source": [
    "import plotly.express as px\n",
    "fig = px.scatter(Basket_new, x=\"PlayedGames\", y=\"WonGames\")\n",
    "fig.show()"
   ]
  },
  {
   "cell_type": "markdown",
   "metadata": {
    "id": "AuWyBiQCAw7-"
   },
   "source": [
    "- Example insights:\n",
    "    - Linear relationship found.\n",
    "    -  Exact correlation can be found using a corr() plot"
   ]
  },
  {
   "cell_type": "code",
   "execution_count": null,
   "metadata": {
    "id": "dW_ItpPZAw7_"
   },
   "outputs": [],
   "source": [
    "import plotly.express as px\n",
    "fig = px.scatter(Basket_new, x=\"PlayedGames\", y=\"WonGames\",color='Team')\n",
    "fig.show()"
   ]
  },
  {
   "cell_type": "markdown",
   "metadata": {
    "id": "d8sd6jzIAw7_"
   },
   "source": [
    "- Example insights:\n",
    "    - Linear relationship found.\n",
    "    -  Exact correlation can be found using a corr() plot"
   ]
  },
  {
   "cell_type": "code",
   "execution_count": null,
   "metadata": {
    "id": "AYBczNLhAw7_"
   },
   "outputs": [],
   "source": [
    "import plotly.express as px\n",
    "fig = px.pie(Basket_new, values='PlayedGames', names='Team') # Mix match columns and comment on functional findings\n",
    "fig.show()"
   ]
  },
  {
   "cell_type": "markdown",
   "metadata": {
    "id": "DLhjq78FAw8A"
   },
   "source": [
    "- Example insights:\n",
    "    - self explainatory graph"
   ]
  },
  {
   "cell_type": "code",
   "execution_count": null,
   "metadata": {
    "id": "WogJBwS2Aw8A"
   },
   "outputs": [],
   "source": [
    "import plotly.express as px\n",
    "fig = px.scatter_matrix(Basket_new,dimensions=[\"PlayedGames\", \"WonGames\", \"LostGames\"],color=\"Team\")\n",
    "fig.show()"
   ]
  },
  {
   "cell_type": "code",
   "execution_count": null,
   "metadata": {
    "id": "_LkPwDAeAw8A"
   },
   "outputs": [],
   "source": [
    "# Plotting new features\n",
    "import plotly.express as px\n",
    "fig = px.scatter(Basket_new, x=\"Team\", y=\"ChampRate\")\n",
    "fig.show()"
   ]
  },
  {
   "cell_type": "code",
   "execution_count": null,
   "metadata": {
    "id": "XF5MrzGJAw8A"
   },
   "outputs": [],
   "source": [
    "import plotly.express as px\n",
    "fig = px.histogram(Basket_new, x=\"Age\")  # Mix match columns and comment on the statistical distribution\n",
    "fig.show()"
   ]
  },
  {
   "cell_type": "code",
   "execution_count": null,
   "metadata": {
    "id": "WSCuPgdOAw8A"
   },
   "outputs": [],
   "source": [
    "# Plotting new features\n",
    "import plotly.express as px\n",
    "fig = px.scatter(Basket_new, x=\"Team\", y=\"ChampRate\", color='Age')\n",
    "fig.show()"
   ]
  },
  {
   "cell_type": "markdown",
   "metadata": {
    "id": "Chib31WJAw8B"
   },
   "source": [
    "#### Recommendation:\n",
    "\n",
    "Company’s management wants to invest on proposal on managing some of the best teams in the league. The analytics department has been assigned with a task of creating a report on the performance shown by the teams. Some of the older teams are already in contract with competitors. Hence Company X wants to understand which teams they can approach which will be a deal win for them.\n",
    "\n",
    "### Answer: \n",
    "\n",
    "Top 5 teams that are common between below Table 1 & Table should be recommended to approach."
   ]
  },
  {
   "cell_type": "code",
   "execution_count": null,
   "metadata": {
    "id": "qTkq5IF5Aw8B"
   },
   "outputs": [],
   "source": [
    "# Table 1\n",
    "df_2=df_1.sort_values(by='WinRate',ascending=False) # Top performing teams\n",
    "df_2.sort_values(by='Age',ascending=True).head(10) # Top performing old teams"
   ]
  },
  {
   "cell_type": "code",
   "execution_count": null,
   "metadata": {
    "id": "_mA6s8SeAw8B"
   },
   "outputs": [],
   "source": [
    "# # Table 2\n",
    "df_2=df_1.sort_values(by='ChampRate',ascending=False) # Top performing teams\n",
    "df_2.sort_values(by='Age',ascending=True).head(10) # Top performing old teams"
   ]
  },
  {
   "cell_type": "code",
   "execution_count": null,
   "metadata": {
    "id": "ePeO1EOcAw8B"
   },
   "outputs": [],
   "source": [
    "Basket_new.shape"
   ]
  },
  {
   "cell_type": "markdown",
   "metadata": {
    "id": "XUY8jFiiz4HO"
   },
   "source": [
    "####> QUESTION 3: "
   ]
  },
  {
   "cell_type": "markdown",
   "metadata": {
    "id": "Ztuogvv5Aw8B"
   },
   "source": [
    "- Above data analysis was focused aroung Team name, Age, Winning Rate. A combination of 3 columns. \n",
    "\n",
    "- Likewise there are 16 columns. There could be hundreds of combinations possible. \n",
    "\n",
    "- Use your best analytical skills to perform data analysis to adhere to \" performance of the team \"\n",
    "\n",
    "- There are many libraries which enable you to create interractive graphs. "
   ]
  },
  {
   "cell_type": "markdown",
   "metadata": {
    "id": "gO8OA3n0BEgp"
   },
   "source": [
    "# Part 3"
   ]
  },
  {
   "cell_type": "markdown",
   "metadata": {
    "id": "jkcPzYzHFjtU"
   },
   "source": [
    "#### Q1."
   ]
  },
  {
   "cell_type": "code",
   "execution_count": null,
   "metadata": {
    "id": "aLYWxJtp-Fe-"
   },
   "outputs": [],
   "source": [
    "# Import Libraries.\n",
    "%matplotlib inline\n",
    "import pandas as pd\n",
    "import numpy as np\n",
    "from matplotlib import pyplot as plt\n",
    "import seaborn as sns\n",
    "\n",
    "# Read the CSV file\n",
    "data = pd.read_csv('CompanyX_EU.csv')\n",
    "print(data.shape)\n",
    "data.head()"
   ]
  },
  {
   "cell_type": "markdown",
   "metadata": {
    "id": "uSx4jYkmFpt4"
   },
   "source": [
    "#### Q2. Data exploration"
   ]
  },
  {
   "cell_type": "code",
   "execution_count": null,
   "metadata": {
    "id": "wxN9xF2nFtfx"
   },
   "outputs": [],
   "source": [
    "# Check the datatypes of each attribute.\n",
    "data.dtypes"
   ]
  },
  {
   "cell_type": "code",
   "execution_count": null,
   "metadata": {
    "id": "v-Fjw6OiFYA7"
   },
   "outputs": [],
   "source": [
    "# Check for null values in the attributes.\n",
    "\n",
    "data.isna().sum()"
   ]
  },
  {
   "cell_type": "markdown",
   "metadata": {
    "id": "xuUDC3Q5FYA8"
   },
   "source": [
    "- Turns out we do not have data of funds raised by all the companies\n",
    "- We would need need it to perform the first task, hence we will have to ignore the companies of which we do not have data for the funds they raised"
   ]
  },
  {
   "cell_type": "markdown",
   "metadata": {
    "id": "tMBwCAyEI0Sw"
   },
   "source": [
    "#### Q3. Data preprocessing & visualisation"
   ]
  },
  {
   "cell_type": "code",
   "execution_count": null,
   "metadata": {
    "id": "DZqMwoTyI1HN"
   },
   "outputs": [],
   "source": [
    "# Drop the null values. \n",
    "df1 = data.dropna().copy(deep=True)   # drop the rows which have no data for funds raised"
   ]
  },
  {
   "cell_type": "code",
   "execution_count": null,
   "metadata": {
    "id": "VeFVlu1pKOo4"
   },
   "outputs": [],
   "source": [
    "# Convert ‘Funds Raised’ features to a numerical value\n",
    "df1['Funding'].sample(5)"
   ]
  },
  {
   "cell_type": "code",
   "execution_count": null,
   "metadata": {
    "id": "AH1UtwI6cddO"
   },
   "outputs": [],
   "source": [
    "# Run this cell - Don't change anything\n",
    "df1.loc[:,'Funds_in_million'] = df1['Funding'].apply(lambda x: float(x[1:-1])/1000 if x[-1] == 'K' else (float(x[1:-1])*1000 if x[-1] == 'B' else float(x[1:-1])))"
   ]
  },
  {
   "cell_type": "markdown",
   "metadata": {
    "id": "dxnNDBVBcjTq"
   },
   "source": [
    "**Code Explanation:**\n",
    "Within the lambda function, we passed two if else blocks. If the last element in the value is 'K', then divide the number by 1000 else, if it is 'B', multiply by 1000 else, return as it is. We passed this lambda function to the apply method which we used on the 'Funds Raised' column and assigned the result to a new column ('funds_in_million') in the dataframe"
   ]
  },
  {
   "cell_type": "code",
   "execution_count": null,
   "metadata": {
    "id": "0c-Qsnc-uCxp"
   },
   "outputs": [],
   "source": [
    "# Plot box plot for funds in million.\n",
    "plot = plt.boxplot(df1.Funds_in_million)\n",
    "plt.title('Boxplot of the funds')\n",
    "plt.ylabel(\"Funds raised (in Million)\")\n",
    "\n",
    "plt.show()"
   ]
  },
  {
   "cell_type": "code",
   "execution_count": null,
   "metadata": {
    "id": "Ae_0CuVCvJWK"
   },
   "outputs": [],
   "source": [
    "# Get the upper fence from the box plot\n",
    "upper_fence = plot['caps'][1].get_data()[1][1]   # we can use the values from the box plot itself to get the upper fence\n",
    "upper_fence"
   ]
  },
  {
   "cell_type": "code",
   "execution_count": null,
   "metadata": {
    "id": "MUQg4qkjumMk"
   },
   "outputs": [],
   "source": [
    "# Check number of outliers greater than upper fence. \n",
    "print(f'Number of outliers = {len(df1[df1.Funds_in_million > upper_fence])}')\n",
    "\n",
    "df1[df1.Funds_in_million > upper_fence]"
   ]
  },
  {
   "cell_type": "code",
   "execution_count": null,
   "metadata": {
    "id": "7_BH27czul99"
   },
   "outputs": [],
   "source": [
    "# Dropping the values that are greater than upper fence.\n",
    "df1.drop(df1[df1.Funds_in_million > upper_fence].index, inplace = True)"
   ]
  },
  {
   "cell_type": "code",
   "execution_count": null,
   "metadata": {
    "id": "vgfb7U53O2EA"
   },
   "outputs": [],
   "source": [
    "# Check frequency of the status features classes.\n",
    "df1.OperatingState.value_counts()"
   ]
  },
  {
   "cell_type": "code",
   "execution_count": null,
   "metadata": {
    "id": "KCoKQPGtO2ye"
   },
   "outputs": [],
   "source": []
  },
  {
   "cell_type": "markdown",
   "metadata": {
    "id": "lHolrJUc4MMd"
   },
   "source": [
    "#### Q4.Statistical Analysis:"
   ]
  },
  {
   "cell_type": "markdown",
   "metadata": {
    "id": "8lvtO-LaFYBC"
   },
   "source": [
    "- Visually the distributions are quiet similar\n",
    "- To prove if there is a significant difference or not we will have to perform a hypothesis test\n",
    "- Since we want to compare the difference in means of the samples, we can either use 2 sample t test or z-test\n",
    "- For this exercise we shall do both and compare the results\n",
    "- One thing to notice is that the distributions are not normal yet, since our sample size is reasonably big ( >30 samples), we will go ahead with the aforementioned tests"
   ]
  },
  {
   "cell_type": "markdown",
   "metadata": {
    "id": "7tmX2QtEPkO9"
   },
   "source": [
    "### 4. Statistical analysis:"
   ]
  },
  {
   "cell_type": "markdown",
   "metadata": {
    "id": "iJwEumVlcBc8"
   },
   "source": [
    "##### Question: Is there any significant difference between Funds raised by companies that are still operating vs companies that got closed down: \n",
    "\n",
    "- Write the null hypothesis. \n",
    "- Write the alternative hypothesis. \n",
    "- Test for significance and Conclusion. \n",
    "\n",
    "\n",
    "For the first test, \n",
    "\n",
    "**Null hypothesis (Ho)** : There is no difference between the two means\n",
    "\n",
    "**Alternate hypothesis (Ha)** : There is significant difference between the two means"
   ]
  },
  {
   "cell_type": "code",
   "execution_count": null,
   "metadata": {
    "id": "sjbDffs3cCHq"
   },
   "outputs": [],
   "source": [
    "from statsmodels.stats.weightstats import ztest\n",
    "\n",
    "sample1 = df1.loc[df1.OperatingState == 'Operating', 'Funds_in_million']\n",
    "sample2 = df1.loc[df1.OperatingState =='Closed', 'Funds_in_million']\n",
    "\n",
    "alpha = 0.05   # Let's consider a significance level of 5%\n",
    "\n",
    "test_statistic, p_value = ztest(sample1, sample2)\n",
    "\n",
    "if p_value <= alpha:\n",
    "    print(f'Since the p-value, {round(p_value, 3)} < {alpha} (alpha) the difference is significant and we reject the Null hypothesis')\n",
    "else:\n",
    "    print(f'''\\t Since the p-value, {round(p_value,3)} > {alpha} (alpha) the difference is not significant and,\n",
    "    \\t we fail to reject the Null hypothesis''')"
   ]
  },
  {
   "cell_type": "code",
   "execution_count": null,
   "metadata": {
    "id": "mdcRZ0I8cGqw"
   },
   "outputs": [],
   "source": [
    "from scipy.stats import ttest_ind\n",
    "\n",
    "test_statistic, p_value = ttest_ind(sample1, sample2)\n",
    "\n",
    "if p_value <= alpha:\n",
    "    print(f'Since the p-value, {round(p_value, 3)} < {alpha} (alpha) the difference is significant and we reject the Null hypothesis')\n",
    "else:\n",
    "    print(f'''\\t Since the p-value, {round(p_value,3)} > {alpha} (alpha) the difference is not significant and,\n",
    "    \\t we fail to reject the Null hypothesis''')"
   ]
  },
  {
   "cell_type": "markdown",
   "metadata": {
    "id": "9Hh3ncVEdnQp"
   },
   "source": [
    "\n",
    "\n",
    "*  From the tests above we found no evidence to state that the companies that have raised more money tend to suceed more or vice-versa\n",
    "\n",
    "\n"
   ]
  },
  {
   "cell_type": "code",
   "execution_count": null,
   "metadata": {
    "id": "EYxuZ2txdi6K"
   },
   "outputs": [],
   "source": [
    "# Make a copy of the original data\n",
    "df2 = data.copy(deep = True)\n",
    "df2.head()"
   ]
  },
  {
   "cell_type": "code",
   "execution_count": null,
   "metadata": {
    "id": "fwZfAQSgd5PB"
   },
   "outputs": [],
   "source": [
    "# Frequency distribution of Result Variable\n",
    "\n",
    "df2.Result.value_counts()"
   ]
  },
  {
   "cell_type": "code",
   "execution_count": null,
   "metadata": {
    "id": "aimY4xFld8Jc"
   },
   "outputs": [],
   "source": [
    "# Calculate percentage of winners\n",
    "winners = df2.Result.value_counts()[1:].sum()\n",
    "contestants = df2.Result.value_counts()['Contestant']\n",
    "\n",
    "contestants_operating = df2.OperatingState[df2.Result == 'Contestant'].value_counts().loc['Operating']\n",
    "winners_operating = df2.OperatingState[df2.Result != 'Contestant'].value_counts().loc['Operating']\n",
    "\n",
    "winners_operating/winners, contestants_operating/contestants"
   ]
  },
  {
   "cell_type": "markdown",
   "metadata": {
    "id": "KjLBl2J_eHrw"
   },
   "source": [
    "Null hyputhesis (Ho): The proportion of companies that are operating is the same in both categories - winners and contestants\n",
    "\n",
    "Alternative hypothesis (Ha): The proportion of companies that are operating is significantly different from each other, among the two categories"
   ]
  },
  {
   "cell_type": "code",
   "execution_count": null,
   "metadata": {
    "id": "DW7MzbEoeFNK"
   },
   "outputs": [],
   "source": [
    "from statsmodels.stats.proportion import proportions_ztest\n",
    "\n",
    "test_statistic, p_value = proportions_ztest([contestants_operating, winners_operating], [contestants, winners])\n",
    "\n",
    "if p_value <= alpha:\n",
    "    print(f'Since the p-value, {round(p_value, 3)} < {alpha} (alpha) the difference is significant and we reject the Null hypothesis')\n",
    "else:\n",
    "    print(f'''\\t Since the p-value, {round(p_value,3)} > {alpha} (alpha) the difference is not significant and,\n",
    "    \\t we fail to reject the Null hypothesis''')"
   ]
  },
  {
   "cell_type": "markdown",
   "metadata": {
    "id": "oZAHV_vreRZm"
   },
   "source": [
    "##### Conclusion\n",
    "- The amount of funds a company raises is not a significant factor in deciding if the company will remain operational or close down\n",
    "- Winners in the battle have proven to remain operational more so, than the companies that came out only as contestants"
   ]
  },
  {
   "cell_type": "code",
   "execution_count": null,
   "metadata": {
    "id": "C21KFGmDeTGy"
   },
   "outputs": [],
   "source": [
    "# Events with disrupt keyword\n",
    "df1[df1.Event.apply(lambda x: 'Disrupt' in x)].Event.value_counts()"
   ]
  }
 ],
 "metadata": {
  "colab": {
   "collapsed_sections": [
    "vhEI-TYhQJcB",
    "NRLhN_rcQJcE",
    "lEIIYSJ4zO5c",
    "cD2A67ApAw79",
    "Chib31WJAw8B",
    "XUY8jFiiz4HO",
    "jkcPzYzHFjtU",
    "uSx4jYkmFpt4",
    "tMBwCAyEI0Sw",
    "lHolrJUc4MMd"
   ],
   "name": "AS_Sample_solution.ipynb",
   "provenance": []
  },
  "kernelspec": {
   "display_name": "Python 3 (ipykernel)",
   "language": "python",
   "name": "python3"
  },
  "language_info": {
   "codemirror_mode": {
    "name": "ipython",
    "version": 3
   },
   "file_extension": ".py",
   "mimetype": "text/x-python",
   "name": "python",
   "nbconvert_exporter": "python",
   "pygments_lexer": "ipython3",
   "version": "3.9.12"
  },
  "toc": {
   "base_numbering": 1,
   "nav_menu": {},
   "number_sections": true,
   "sideBar": true,
   "skip_h1_title": false,
   "title_cell": "Table of Contents",
   "title_sidebar": "Contents",
   "toc_cell": false,
   "toc_position": {},
   "toc_section_display": true,
   "toc_window_display": true
  },
  "varInspector": {
   "cols": {
    "lenName": 16,
    "lenType": 16,
    "lenVar": 40
   },
   "kernels_config": {
    "python": {
     "delete_cmd_postfix": "",
     "delete_cmd_prefix": "del ",
     "library": "var_list.py",
     "varRefreshCmd": "print(var_dic_list())"
    },
    "r": {
     "delete_cmd_postfix": ") ",
     "delete_cmd_prefix": "rm(",
     "library": "var_list.r",
     "varRefreshCmd": "cat(var_dic_list()) "
    }
   },
   "types_to_exclude": [
    "module",
    "function",
    "builtin_function_or_method",
    "instance",
    "_Feature"
   ],
   "window_display": false
  }
 },
 "nbformat": 4,
 "nbformat_minor": 1
}
